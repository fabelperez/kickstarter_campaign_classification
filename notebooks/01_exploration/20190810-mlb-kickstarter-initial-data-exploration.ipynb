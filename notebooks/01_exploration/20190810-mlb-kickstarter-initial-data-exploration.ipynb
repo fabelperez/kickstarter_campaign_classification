{
 "cells": [
  {
   "cell_type": "markdown",
   "metadata": {},
   "source": [
    "# Kickstarter Initial Data Exploration"
   ]
  },
  {
   "cell_type": "markdown",
   "metadata": {},
   "source": [
    "* **Data Source**: https://webrobots.io/kickstarter-datasets/\n",
    "\n",
    "**NOTE 1**: Need to ensure that the variables that we incorporate into the model are not giving data leakage. For example, we would need to leave out the staff pick variable (staff are potentially picking things that they believe are going to succeed). \n",
    "\n",
    "**NOTE 2**: There is a data dictionary for the kickstarter dataset in the references folder. "
   ]
  },
  {
   "cell_type": "markdown",
   "metadata": {},
   "source": [
    "## INTRODUCTION\n",
    "Kickstarter is a US based global crowd funding platform focused on bringing funding to creative projects.\n",
    "Since the platform’s launch in 2009, the site has hosted over 159,000 successfully funded projects with over\n",
    "15 million unique backers. Kickstarter uses an “all-or-nothing” funding system. This means that funds are\n",
    "only dispersed for projects that meet the original funding goal set by the creator.\n",
    "\n",
    "## PROJECT OBJECTIVE\n",
    "Kickstarter earns 5% commission on projects that are successfully funded. Currently, less than 40% of\n",
    "projects on the platform succeed. My objective is to predict which projects are likely to succeed so that these projects can be highlighted on the site either through 'staff picks' or 'featured product' lists. "
   ]
  },
  {
   "cell_type": "code",
   "execution_count": 1,
   "metadata": {},
   "outputs": [],
   "source": [
    "import pandas as pd\n",
    "import numpy as np \n",
    "import matplotlib.pyplot as plt\n",
    "import seaborn as sns"
   ]
  },
  {
   "cell_type": "code",
   "execution_count": 28,
   "metadata": {},
   "outputs": [],
   "source": [
    "kickstarter1 = pd.read_csv('../../data/01_raw/Kickstarter_2019-06-13T03_20_35_801Z/Kickstarter.csv')"
   ]
  },
  {
   "cell_type": "code",
   "execution_count": 29,
   "metadata": {},
   "outputs": [],
   "source": [
    "kickstarter2 = pd.read_csv('../../data/01_raw/Kickstarter_2019-06-13T03_20_35_801Z/Kickstarter055.csv')"
   ]
  },
  {
   "cell_type": "code",
   "execution_count": 33,
   "metadata": {},
   "outputs": [
    {
     "data": {
      "text/plain": [
       "3768"
      ]
     },
     "execution_count": 33,
     "metadata": {},
     "output_type": "execute_result"
    }
   ],
   "source": [
    "len(kickstarter1)"
   ]
  },
  {
   "cell_type": "code",
   "execution_count": 35,
   "metadata": {},
   "outputs": [
    {
     "data": {
      "text/plain": [
       "Index(['backers_count', 'blurb', 'category', 'converted_pledged_amount',\n",
       "       'country', 'created_at', 'creator', 'currency', 'currency_symbol',\n",
       "       'currency_trailing_code', 'current_currency', 'deadline',\n",
       "       'disable_communication', 'friends', 'fx_rate', 'goal', 'id',\n",
       "       'is_backing', 'is_starrable', 'is_starred', 'launched_at', 'location',\n",
       "       'name', 'permissions', 'photo', 'pledged', 'profile', 'slug',\n",
       "       'source_url', 'spotlight', 'staff_pick', 'state', 'state_changed_at',\n",
       "       'static_usd_rate', 'unread_messages_count', 'unseen_activity_count',\n",
       "       'urls', 'usd_pledged', 'usd_type'],\n",
       "      dtype='object')"
      ]
     },
     "execution_count": 35,
     "metadata": {},
     "output_type": "execute_result"
    }
   ],
   "source": [
    "kickstarter1.columns"
   ]
  },
  {
   "cell_type": "code",
   "execution_count": 61,
   "metadata": {},
   "outputs": [
    {
     "data": {
      "text/plain": [
       "backers_count                                                             182\n",
       "blurb                       The Moonhouse is the first art project on the ...\n",
       "category                    {\"id\":340,\"name\":\"Space Exploration\",\"slug\":\"t...\n",
       "converted_pledged_amount                                                 5011\n",
       "country                                                                    US\n",
       "created_at                                                         1400074893\n",
       "creator                     {\"id\":1317303162,\"name\":\"Mikael Genberg\",\"is_r...\n",
       "currency                                                                  USD\n",
       "currency_symbol                                                             $\n",
       "currency_trailing_code                                                   True\n",
       "current_currency                                                          USD\n",
       "deadline                                                           1414537140\n",
       "disable_communication                                                   False\n",
       "friends                                                                   NaN\n",
       "fx_rate                                                                     1\n",
       "goal                                                                   250000\n",
       "id                                                                  903537917\n",
       "is_backing                                                                NaN\n",
       "is_starrable                                                            False\n",
       "is_starred                                                                NaN\n",
       "launched_at                                                        1411072451\n",
       "location                    {\"id\":889278,\"name\":\"Falun\",\"slug\":\"falun-se\",...\n",
       "name                                                            The Moonhouse\n",
       "permissions                                                               NaN\n",
       "photo                       {\"key\":\"assets/011/705/265/8218f6dac657da1d783...\n",
       "pledged                                                               5011.01\n",
       "profile                     {\"id\":1022626,\"project_id\":1022626,\"state\":\"in...\n",
       "slug                                                            the-moonhouse\n",
       "source_url                  https://www.kickstarter.com/discover/categorie...\n",
       "spotlight                                                               False\n",
       "staff_pick                                                               True\n",
       "state                                                                  failed\n",
       "state_changed_at                                                   1414537140\n",
       "static_usd_rate                                                             1\n",
       "unread_messages_count                                                     NaN\n",
       "unseen_activity_count                                                     NaN\n",
       "urls                        {\"web\":{\"project\":\"https://www.kickstarter.com...\n",
       "usd_pledged                                                           5011.01\n",
       "usd_type                                                             domestic\n",
       "Name: 500, dtype: object"
      ]
     },
     "execution_count": 61,
     "metadata": {},
     "output_type": "execute_result"
    }
   ],
   "source": [
    "kickstarter1.iloc[500]"
   ]
  },
  {
   "cell_type": "code",
   "execution_count": 60,
   "metadata": {},
   "outputs": [
    {
     "data": {
      "text/plain": [
       "'https://www.kickstarter.com/discover/categories/technology/space%20exploration'"
      ]
     },
     "execution_count": 60,
     "metadata": {},
     "output_type": "execute_result"
    }
   ],
   "source": [
    "kickstarter1.source_url[500]"
   ]
  },
  {
   "cell_type": "code",
   "execution_count": 62,
   "metadata": {},
   "outputs": [
    {
     "data": {
      "text/html": [
       "<div>\n",
       "<style scoped>\n",
       "    .dataframe tbody tr th:only-of-type {\n",
       "        vertical-align: middle;\n",
       "    }\n",
       "\n",
       "    .dataframe tbody tr th {\n",
       "        vertical-align: top;\n",
       "    }\n",
       "\n",
       "    .dataframe thead th {\n",
       "        text-align: right;\n",
       "    }\n",
       "</style>\n",
       "<table border=\"1\" class=\"dataframe\">\n",
       "  <thead>\n",
       "    <tr style=\"text-align: right;\">\n",
       "      <th></th>\n",
       "      <th>backers_count</th>\n",
       "      <th>blurb</th>\n",
       "      <th>category</th>\n",
       "      <th>converted_pledged_amount</th>\n",
       "      <th>country</th>\n",
       "      <th>created_at</th>\n",
       "      <th>creator</th>\n",
       "      <th>currency</th>\n",
       "      <th>currency_symbol</th>\n",
       "      <th>currency_trailing_code</th>\n",
       "      <th>...</th>\n",
       "      <th>spotlight</th>\n",
       "      <th>staff_pick</th>\n",
       "      <th>state</th>\n",
       "      <th>state_changed_at</th>\n",
       "      <th>static_usd_rate</th>\n",
       "      <th>unread_messages_count</th>\n",
       "      <th>unseen_activity_count</th>\n",
       "      <th>urls</th>\n",
       "      <th>usd_pledged</th>\n",
       "      <th>usd_type</th>\n",
       "    </tr>\n",
       "  </thead>\n",
       "  <tbody>\n",
       "    <tr>\n",
       "      <th>0</th>\n",
       "      <td>740</td>\n",
       "      <td>A 40 page (now 60!) coloring book of surreal n...</td>\n",
       "      <td>{\"id\":22,\"name\":\"Illustration\",\"slug\":\"art/ill...</td>\n",
       "      <td>18559</td>\n",
       "      <td>US</td>\n",
       "      <td>1448408106</td>\n",
       "      <td>{\"id\":518230978,\"name\":\"Andy Swartz\",\"slug\":\"s...</td>\n",
       "      <td>USD</td>\n",
       "      <td>$</td>\n",
       "      <td>True</td>\n",
       "      <td>...</td>\n",
       "      <td>True</td>\n",
       "      <td>False</td>\n",
       "      <td>successful</td>\n",
       "      <td>1456790340</td>\n",
       "      <td>1.000000</td>\n",
       "      <td>NaN</td>\n",
       "      <td>NaN</td>\n",
       "      <td>{\"web\":{\"project\":\"https://www.kickstarter.com...</td>\n",
       "      <td>18559.000000</td>\n",
       "      <td>domestic</td>\n",
       "    </tr>\n",
       "    <tr>\n",
       "      <th>1</th>\n",
       "      <td>3</td>\n",
       "      <td>One of the first of it's kind, a story that wi...</td>\n",
       "      <td>{\"id\":29,\"name\":\"Animation\",\"slug\":\"film &amp; vid...</td>\n",
       "      <td>80</td>\n",
       "      <td>US</td>\n",
       "      <td>1491015630</td>\n",
       "      <td>{\"id\":2031793373,\"name\":\"Julian Mason\",\"is_reg...</td>\n",
       "      <td>USD</td>\n",
       "      <td>$</td>\n",
       "      <td>True</td>\n",
       "      <td>...</td>\n",
       "      <td>False</td>\n",
       "      <td>False</td>\n",
       "      <td>failed</td>\n",
       "      <td>1496113200</td>\n",
       "      <td>1.000000</td>\n",
       "      <td>NaN</td>\n",
       "      <td>NaN</td>\n",
       "      <td>{\"web\":{\"project\":\"https://www.kickstarter.com...</td>\n",
       "      <td>80.000000</td>\n",
       "      <td>domestic</td>\n",
       "    </tr>\n",
       "    <tr>\n",
       "      <th>2</th>\n",
       "      <td>1752</td>\n",
       "      <td>A limited-edition Blu-ray release of Sonoda Ke...</td>\n",
       "      <td>{\"id\":29,\"name\":\"Animation\",\"slug\":\"film &amp; vid...</td>\n",
       "      <td>135589</td>\n",
       "      <td>US</td>\n",
       "      <td>1435491807</td>\n",
       "      <td>{\"id\":1216340396,\"name\":\"Robert J Woodhead\",\"s...</td>\n",
       "      <td>USD</td>\n",
       "      <td>$</td>\n",
       "      <td>True</td>\n",
       "      <td>...</td>\n",
       "      <td>True</td>\n",
       "      <td>True</td>\n",
       "      <td>successful</td>\n",
       "      <td>1459886413</td>\n",
       "      <td>1.000000</td>\n",
       "      <td>NaN</td>\n",
       "      <td>NaN</td>\n",
       "      <td>{\"web\":{\"project\":\"https://www.kickstarter.com...</td>\n",
       "      <td>135589.940000</td>\n",
       "      <td>domestic</td>\n",
       "    </tr>\n",
       "    <tr>\n",
       "      <th>3</th>\n",
       "      <td>185</td>\n",
       "      <td>A YA, sword &amp; sorcery fantasy novel!</td>\n",
       "      <td>{\"id\":328,\"name\":\"Young Adult\",\"slug\":\"publish...</td>\n",
       "      <td>4652</td>\n",
       "      <td>US</td>\n",
       "      <td>1452147235</td>\n",
       "      <td>{\"id\":672576444,\"name\":\"Tristan J Tarwater\",\"i...</td>\n",
       "      <td>USD</td>\n",
       "      <td>$</td>\n",
       "      <td>True</td>\n",
       "      <td>...</td>\n",
       "      <td>True</td>\n",
       "      <td>True</td>\n",
       "      <td>successful</td>\n",
       "      <td>1464670751</td>\n",
       "      <td>1.000000</td>\n",
       "      <td>NaN</td>\n",
       "      <td>NaN</td>\n",
       "      <td>{\"web\":{\"project\":\"https://www.kickstarter.com...</td>\n",
       "      <td>4652.000000</td>\n",
       "      <td>domestic</td>\n",
       "    </tr>\n",
       "    <tr>\n",
       "      <th>4</th>\n",
       "      <td>136</td>\n",
       "      <td>Production of a feature film from the twisted ...</td>\n",
       "      <td>{\"id\":11,\"name\":\"Film &amp; Video\",\"slug\":\"film &amp; ...</td>\n",
       "      <td>14568</td>\n",
       "      <td>AU</td>\n",
       "      <td>1532058959</td>\n",
       "      <td>{\"id\":1622887785,\"name\":\"Jaan Ranniko\",\"is_reg...</td>\n",
       "      <td>AUD</td>\n",
       "      <td>$</td>\n",
       "      <td>True</td>\n",
       "      <td>...</td>\n",
       "      <td>False</td>\n",
       "      <td>False</td>\n",
       "      <td>live</td>\n",
       "      <td>1558319564</td>\n",
       "      <td>0.686201</td>\n",
       "      <td>NaN</td>\n",
       "      <td>NaN</td>\n",
       "      <td>{\"web\":{\"project\":\"https://www.kickstarter.com...</td>\n",
       "      <td>14474.246942</td>\n",
       "      <td>domestic</td>\n",
       "    </tr>\n",
       "  </tbody>\n",
       "</table>\n",
       "<p>5 rows × 39 columns</p>\n",
       "</div>"
      ],
      "text/plain": [
       "   backers_count                                              blurb  \\\n",
       "0            740  A 40 page (now 60!) coloring book of surreal n...   \n",
       "1              3  One of the first of it's kind, a story that wi...   \n",
       "2           1752  A limited-edition Blu-ray release of Sonoda Ke...   \n",
       "3            185               A YA, sword & sorcery fantasy novel!   \n",
       "4            136  Production of a feature film from the twisted ...   \n",
       "\n",
       "                                            category  \\\n",
       "0  {\"id\":22,\"name\":\"Illustration\",\"slug\":\"art/ill...   \n",
       "1  {\"id\":29,\"name\":\"Animation\",\"slug\":\"film & vid...   \n",
       "2  {\"id\":29,\"name\":\"Animation\",\"slug\":\"film & vid...   \n",
       "3  {\"id\":328,\"name\":\"Young Adult\",\"slug\":\"publish...   \n",
       "4  {\"id\":11,\"name\":\"Film & Video\",\"slug\":\"film & ...   \n",
       "\n",
       "   converted_pledged_amount country  created_at  \\\n",
       "0                     18559      US  1448408106   \n",
       "1                        80      US  1491015630   \n",
       "2                    135589      US  1435491807   \n",
       "3                      4652      US  1452147235   \n",
       "4                     14568      AU  1532058959   \n",
       "\n",
       "                                             creator currency currency_symbol  \\\n",
       "0  {\"id\":518230978,\"name\":\"Andy Swartz\",\"slug\":\"s...      USD               $   \n",
       "1  {\"id\":2031793373,\"name\":\"Julian Mason\",\"is_reg...      USD               $   \n",
       "2  {\"id\":1216340396,\"name\":\"Robert J Woodhead\",\"s...      USD               $   \n",
       "3  {\"id\":672576444,\"name\":\"Tristan J Tarwater\",\"i...      USD               $   \n",
       "4  {\"id\":1622887785,\"name\":\"Jaan Ranniko\",\"is_reg...      AUD               $   \n",
       "\n",
       "   currency_trailing_code    ...    spotlight  staff_pick       state  \\\n",
       "0                    True    ...         True       False  successful   \n",
       "1                    True    ...        False       False      failed   \n",
       "2                    True    ...         True        True  successful   \n",
       "3                    True    ...         True        True  successful   \n",
       "4                    True    ...        False       False        live   \n",
       "\n",
       "  state_changed_at  static_usd_rate  unread_messages_count  \\\n",
       "0       1456790340         1.000000                    NaN   \n",
       "1       1496113200         1.000000                    NaN   \n",
       "2       1459886413         1.000000                    NaN   \n",
       "3       1464670751         1.000000                    NaN   \n",
       "4       1558319564         0.686201                    NaN   \n",
       "\n",
       "   unseen_activity_count                                               urls  \\\n",
       "0                    NaN  {\"web\":{\"project\":\"https://www.kickstarter.com...   \n",
       "1                    NaN  {\"web\":{\"project\":\"https://www.kickstarter.com...   \n",
       "2                    NaN  {\"web\":{\"project\":\"https://www.kickstarter.com...   \n",
       "3                    NaN  {\"web\":{\"project\":\"https://www.kickstarter.com...   \n",
       "4                    NaN  {\"web\":{\"project\":\"https://www.kickstarter.com...   \n",
       "\n",
       "     usd_pledged  usd_type  \n",
       "0   18559.000000  domestic  \n",
       "1      80.000000  domestic  \n",
       "2  135589.940000  domestic  \n",
       "3    4652.000000  domestic  \n",
       "4   14474.246942  domestic  \n",
       "\n",
       "[5 rows x 39 columns]"
      ]
     },
     "execution_count": 62,
     "metadata": {},
     "output_type": "execute_result"
    }
   ],
   "source": [
    "kickstarter1.head()"
   ]
  },
  {
   "cell_type": "code",
   "execution_count": 67,
   "metadata": {},
   "outputs": [
    {
     "data": {
      "text/plain": [
       "'{\"id\":29,\"name\":\"Animation\",\"slug\":\"film & video/animation\",\"position\":2,\"parent_id\":11,\"color\":16734574,\"urls\":{\"web\":{\"discover\":\"http://www.kickstarter.com/discover/categories/film%20&%20video/animation\"}}}'"
      ]
     },
     "execution_count": 67,
     "metadata": {},
     "output_type": "execute_result"
    }
   ],
   "source": [
    "kickstarter1.category[2]"
   ]
  },
  {
   "cell_type": "markdown",
   "metadata": {},
   "source": [
    "**IDEAS**:\n",
    "\n",
    "1. Look at language complexity in blurbs and see if that has anything to do with success of campaign"
   ]
  },
  {
   "cell_type": "code",
   "execution_count": null,
   "metadata": {},
   "outputs": [],
   "source": []
  }
 ],
 "metadata": {
  "kernelspec": {
   "display_name": "Python 3",
   "language": "python",
   "name": "python3"
  },
  "language_info": {
   "codemirror_mode": {
    "name": "ipython",
    "version": 3
   },
   "file_extension": ".py",
   "mimetype": "text/x-python",
   "name": "python",
   "nbconvert_exporter": "python",
   "pygments_lexer": "ipython3",
   "version": "3.7.1"
  },
  "toc": {
   "base_numbering": 1,
   "nav_menu": {},
   "number_sections": true,
   "sideBar": true,
   "skip_h1_title": true,
   "title_cell": "Table of Contents",
   "title_sidebar": "Contents",
   "toc_cell": false,
   "toc_position": {},
   "toc_section_display": true,
   "toc_window_display": false
  }
 },
 "nbformat": 4,
 "nbformat_minor": 2
}
