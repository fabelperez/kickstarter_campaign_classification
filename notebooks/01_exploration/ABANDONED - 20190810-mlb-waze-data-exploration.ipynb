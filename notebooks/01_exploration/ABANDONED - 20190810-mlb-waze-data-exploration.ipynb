{
 "cells": [
  {
   "cell_type": "markdown",
   "metadata": {},
   "source": [
    "# WAZE TRAFFIC ALERT DATA INITIAL EXPLORATION\n",
    "\n",
    "**Note to Nateé**: I signed a document stating that I would not publish this dataset. Please take a look at it here. If you're interested in working with this data I'll give it to you on Monday. "
   ]
  },
  {
   "cell_type": "code",
   "execution_count": 1,
   "metadata": {},
   "outputs": [],
   "source": [
    "import numpy as np\n",
    "import pandas as pd\n",
    "import matplotlib.pyplot as plt\n",
    "import seaborn as sns"
   ]
  },
  {
   "cell_type": "code",
   "execution_count": 2,
   "metadata": {},
   "outputs": [],
   "source": [
    "waze = pd.read_csv('../../data/01_raw/waze.csv')"
   ]
  },
  {
   "cell_type": "markdown",
   "metadata": {},
   "source": [
    "## WHOLE DATASET"
   ]
  },
  {
   "cell_type": "markdown",
   "metadata": {},
   "source": [
    "### Discovered Issues: \n",
    "\n",
    "1. **Country** - There are 15 different unique values listed in the country variables After closer inspection, the 355 entries without with values other than US have NaN values in every row. These rows should be dropped during cleaning.\n",
    "1. **nTHumbsup** - The vast majority of the column contains 0 values. This does not look like it will add useful information. This will need to be dropped in data cleaning. \n",
    "1. **type** - Weatherhazard needs to be broken up into hazard and weather hazard. \n",
    "1. **street** - 2% of street names in the dataset are missing (that's over 200K out of 10 Million). \n",
    "1. **pubmills** - This needs to be turned into a timestamp ((Unix time – milliseconds since epoch))\n",
    "1. **scrapedt** - This is the date that the data wasscraped from the site\n",
    "1. **subtype** - change all nan values to NO_SUBTYPE"
   ]
  },
  {
   "cell_type": "code",
   "execution_count": 4,
   "metadata": {},
   "outputs": [
    {
     "data": {
      "text/html": [
       "<div>\n",
       "<style scoped>\n",
       "    .dataframe tbody tr th:only-of-type {\n",
       "        vertical-align: middle;\n",
       "    }\n",
       "\n",
       "    .dataframe tbody tr th {\n",
       "        vertical-align: top;\n",
       "    }\n",
       "\n",
       "    .dataframe thead th {\n",
       "        text-align: right;\n",
       "    }\n",
       "</style>\n",
       "<table border=\"1\" class=\"dataframe\">\n",
       "  <thead>\n",
       "    <tr style=\"text-align: right;\">\n",
       "      <th></th>\n",
       "      <th>country</th>\n",
       "      <th>nTHumbsUp</th>\n",
       "      <th>city</th>\n",
       "      <th>reportRating</th>\n",
       "      <th>confidence</th>\n",
       "      <th>reliability</th>\n",
       "      <th>type</th>\n",
       "      <th>uuid</th>\n",
       "      <th>roadType</th>\n",
       "      <th>magvar</th>\n",
       "      <th>subtype</th>\n",
       "      <th>street</th>\n",
       "      <th>location_x</th>\n",
       "      <th>location_y</th>\n",
       "      <th>pubMillis</th>\n",
       "      <th>reportDescription</th>\n",
       "      <th>scrape_dt</th>\n",
       "    </tr>\n",
       "  </thead>\n",
       "  <tbody>\n",
       "    <tr>\n",
       "      <th>0</th>\n",
       "      <td>US</td>\n",
       "      <td>0.0</td>\n",
       "      <td>Joliet, IL</td>\n",
       "      <td>0.0</td>\n",
       "      <td>0.0</td>\n",
       "      <td>7.0</td>\n",
       "      <td>ROAD_CLOSED</td>\n",
       "      <td>12d90f41-fd58-3d73-9bac-d2d24a4e1dbb</td>\n",
       "      <td>0.0</td>\n",
       "      <td>0.0</td>\n",
       "      <td>ROAD_CLOSED_EVENT</td>\n",
       "      <td>Briggs St</td>\n",
       "      <td>-88.04366</td>\n",
       "      <td>41.54111</td>\n",
       "      <td>1.510536e+12</td>\n",
       "      <td>Road Closed</td>\n",
       "      <td>2017-11-15T09:21:00Z</td>\n",
       "    </tr>\n",
       "    <tr>\n",
       "      <th>1</th>\n",
       "      <td>US</td>\n",
       "      <td>0.0</td>\n",
       "      <td>NaN</td>\n",
       "      <td>0.0</td>\n",
       "      <td>3.0</td>\n",
       "      <td>10.0</td>\n",
       "      <td>ROAD_CLOSED</td>\n",
       "      <td>6bd6a1ff-55b3-3e57-8a57-13ef89e4b391</td>\n",
       "      <td>0.0</td>\n",
       "      <td>0.0</td>\n",
       "      <td>ROAD_CLOSED_EVENT</td>\n",
       "      <td>Smith Rd</td>\n",
       "      <td>-88.02769</td>\n",
       "      <td>41.64151</td>\n",
       "      <td>1.504565e+12</td>\n",
       "      <td>Construction</td>\n",
       "      <td>2017-11-15T09:21:00Z</td>\n",
       "    </tr>\n",
       "    <tr>\n",
       "      <th>2</th>\n",
       "      <td>US</td>\n",
       "      <td>0.0</td>\n",
       "      <td>Lemont, IL</td>\n",
       "      <td>0.0</td>\n",
       "      <td>0.0</td>\n",
       "      <td>7.0</td>\n",
       "      <td>ROAD_CLOSED</td>\n",
       "      <td>0e957bc8-cdcc-395e-913c-facbef9a4494</td>\n",
       "      <td>0.0</td>\n",
       "      <td>0.0</td>\n",
       "      <td>ROAD_CLOSED_EVENT</td>\n",
       "      <td>135th St</td>\n",
       "      <td>-88.00416</td>\n",
       "      <td>41.64081</td>\n",
       "      <td>1.510366e+12</td>\n",
       "      <td>Road Closed</td>\n",
       "      <td>2017-11-15T09:21:00Z</td>\n",
       "    </tr>\n",
       "    <tr>\n",
       "      <th>3</th>\n",
       "      <td>US</td>\n",
       "      <td>0.0</td>\n",
       "      <td>Joliet, IL</td>\n",
       "      <td>0.0</td>\n",
       "      <td>0.0</td>\n",
       "      <td>6.0</td>\n",
       "      <td>ROAD_CLOSED</td>\n",
       "      <td>dfa91aba-dc86-365d-b270-0572fca5ccab</td>\n",
       "      <td>0.0</td>\n",
       "      <td>0.0</td>\n",
       "      <td>ROAD_CLOSED_EVENT</td>\n",
       "      <td>Briggs St</td>\n",
       "      <td>-88.04355</td>\n",
       "      <td>41.53795</td>\n",
       "      <td>1.510536e+12</td>\n",
       "      <td>Road Closed</td>\n",
       "      <td>2017-11-15T09:21:00Z</td>\n",
       "    </tr>\n",
       "    <tr>\n",
       "      <th>4</th>\n",
       "      <td>US</td>\n",
       "      <td>0.0</td>\n",
       "      <td>Lemont, IL</td>\n",
       "      <td>0.0</td>\n",
       "      <td>0.0</td>\n",
       "      <td>7.0</td>\n",
       "      <td>ROAD_CLOSED</td>\n",
       "      <td>4e9af18a-fde4-3f5b-9aeb-1d471988b735</td>\n",
       "      <td>0.0</td>\n",
       "      <td>0.0</td>\n",
       "      <td>ROAD_CLOSED_EVENT</td>\n",
       "      <td>135th St</td>\n",
       "      <td>-88.00494</td>\n",
       "      <td>41.64137</td>\n",
       "      <td>1.510366e+12</td>\n",
       "      <td>Road Closed</td>\n",
       "      <td>2017-11-15T09:21:00Z</td>\n",
       "    </tr>\n",
       "  </tbody>\n",
       "</table>\n",
       "</div>"
      ],
      "text/plain": [
       "  country  nTHumbsUp        city  reportRating  confidence  reliability  \\\n",
       "0      US        0.0  Joliet, IL           0.0         0.0          7.0   \n",
       "1      US        0.0         NaN           0.0         3.0         10.0   \n",
       "2      US        0.0  Lemont, IL           0.0         0.0          7.0   \n",
       "3      US        0.0  Joliet, IL           0.0         0.0          6.0   \n",
       "4      US        0.0  Lemont, IL           0.0         0.0          7.0   \n",
       "\n",
       "          type                                  uuid  roadType  magvar  \\\n",
       "0  ROAD_CLOSED  12d90f41-fd58-3d73-9bac-d2d24a4e1dbb       0.0     0.0   \n",
       "1  ROAD_CLOSED  6bd6a1ff-55b3-3e57-8a57-13ef89e4b391       0.0     0.0   \n",
       "2  ROAD_CLOSED  0e957bc8-cdcc-395e-913c-facbef9a4494       0.0     0.0   \n",
       "3  ROAD_CLOSED  dfa91aba-dc86-365d-b270-0572fca5ccab       0.0     0.0   \n",
       "4  ROAD_CLOSED  4e9af18a-fde4-3f5b-9aeb-1d471988b735       0.0     0.0   \n",
       "\n",
       "             subtype     street  location_x  location_y     pubMillis  \\\n",
       "0  ROAD_CLOSED_EVENT  Briggs St   -88.04366    41.54111  1.510536e+12   \n",
       "1  ROAD_CLOSED_EVENT   Smith Rd   -88.02769    41.64151  1.504565e+12   \n",
       "2  ROAD_CLOSED_EVENT   135th St   -88.00416    41.64081  1.510366e+12   \n",
       "3  ROAD_CLOSED_EVENT  Briggs St   -88.04355    41.53795  1.510536e+12   \n",
       "4  ROAD_CLOSED_EVENT   135th St   -88.00494    41.64137  1.510366e+12   \n",
       "\n",
       "  reportDescription             scrape_dt  \n",
       "0       Road Closed  2017-11-15T09:21:00Z  \n",
       "1      Construction  2017-11-15T09:21:00Z  \n",
       "2       Road Closed  2017-11-15T09:21:00Z  \n",
       "3       Road Closed  2017-11-15T09:21:00Z  \n",
       "4       Road Closed  2017-11-15T09:21:00Z  "
      ]
     },
     "execution_count": 4,
     "metadata": {},
     "output_type": "execute_result"
    }
   ],
   "source": [
    "waze.head()"
   ]
  },
  {
   "cell_type": "code",
   "execution_count": 3,
   "metadata": {},
   "outputs": [
    {
     "name": "stdout",
     "output_type": "stream",
     "text": [
      "<class 'pandas.core.frame.DataFrame'>\n",
      "RangeIndex: 10055207 entries, 0 to 10055206\n",
      "Data columns (total 17 columns):\n",
      "country              object\n",
      "nTHumbsUp            float64\n",
      "city                 object\n",
      "reportRating         float64\n",
      "confidence           float64\n",
      "reliability          float64\n",
      "type                 object\n",
      "uuid                 object\n",
      "roadType             float64\n",
      "magvar               float64\n",
      "subtype              object\n",
      "street               object\n",
      "location_x           float64\n",
      "location_y           float64\n",
      "pubMillis            float64\n",
      "reportDescription    object\n",
      "scrape_dt            object\n",
      "dtypes: float64(9), object(8)\n",
      "memory usage: 1.3+ GB\n"
     ]
    }
   ],
   "source": [
    "waze.info()"
   ]
  },
  {
   "cell_type": "code",
   "execution_count": 65,
   "metadata": {},
   "outputs": [
    {
     "data": {
      "text/html": [
       "<div>\n",
       "<style scoped>\n",
       "    .dataframe tbody tr th:only-of-type {\n",
       "        vertical-align: middle;\n",
       "    }\n",
       "\n",
       "    .dataframe tbody tr th {\n",
       "        vertical-align: top;\n",
       "    }\n",
       "\n",
       "    .dataframe thead th {\n",
       "        text-align: right;\n",
       "    }\n",
       "</style>\n",
       "<table border=\"1\" class=\"dataframe\">\n",
       "  <thead>\n",
       "    <tr style=\"text-align: right;\">\n",
       "      <th></th>\n",
       "      <th>count</th>\n",
       "      <th>mean</th>\n",
       "      <th>std</th>\n",
       "      <th>min</th>\n",
       "      <th>25%</th>\n",
       "      <th>50%</th>\n",
       "      <th>75%</th>\n",
       "      <th>max</th>\n",
       "    </tr>\n",
       "  </thead>\n",
       "  <tbody>\n",
       "    <tr>\n",
       "      <th>nTHumbsUp</th>\n",
       "      <td>10055199.0</td>\n",
       "      <td>6.029717e-04</td>\n",
       "      <td>1.040078e-01</td>\n",
       "      <td>0.000000e+00</td>\n",
       "      <td>0.000000e+00</td>\n",
       "      <td>0.000000e+00</td>\n",
       "      <td>0.000000e+00</td>\n",
       "      <td>1.800000e+01</td>\n",
       "    </tr>\n",
       "    <tr>\n",
       "      <th>reportRating</th>\n",
       "      <td>10054852.0</td>\n",
       "      <td>1.968055e+00</td>\n",
       "      <td>1.529827e+00</td>\n",
       "      <td>0.000000e+00</td>\n",
       "      <td>0.000000e+00</td>\n",
       "      <td>2.000000e+00</td>\n",
       "      <td>3.000000e+00</td>\n",
       "      <td>5.000000e+00</td>\n",
       "    </tr>\n",
       "    <tr>\n",
       "      <th>confidence</th>\n",
       "      <td>10054852.0</td>\n",
       "      <td>6.834754e-01</td>\n",
       "      <td>1.406939e+00</td>\n",
       "      <td>-2.000000e+00</td>\n",
       "      <td>0.000000e+00</td>\n",
       "      <td>0.000000e+00</td>\n",
       "      <td>1.000000e+00</td>\n",
       "      <td>5.000000e+00</td>\n",
       "    </tr>\n",
       "    <tr>\n",
       "      <th>reliability</th>\n",
       "      <td>10054852.0</td>\n",
       "      <td>6.416892e+00</td>\n",
       "      <td>1.788209e+00</td>\n",
       "      <td>5.000000e+00</td>\n",
       "      <td>5.000000e+00</td>\n",
       "      <td>6.000000e+00</td>\n",
       "      <td>7.000000e+00</td>\n",
       "      <td>1.000000e+01</td>\n",
       "    </tr>\n",
       "    <tr>\n",
       "      <th>roadType</th>\n",
       "      <td>10054852.0</td>\n",
       "      <td>3.026482e+00</td>\n",
       "      <td>2.556850e+00</td>\n",
       "      <td>0.000000e+00</td>\n",
       "      <td>0.000000e+00</td>\n",
       "      <td>3.000000e+00</td>\n",
       "      <td>4.000000e+00</td>\n",
       "      <td>2.000000e+01</td>\n",
       "    </tr>\n",
       "    <tr>\n",
       "      <th>magvar</th>\n",
       "      <td>10054852.0</td>\n",
       "      <td>1.457354e+02</td>\n",
       "      <td>1.213590e+02</td>\n",
       "      <td>0.000000e+00</td>\n",
       "      <td>0.000000e+00</td>\n",
       "      <td>1.310000e+02</td>\n",
       "      <td>2.680000e+02</td>\n",
       "      <td>3.590000e+02</td>\n",
       "    </tr>\n",
       "    <tr>\n",
       "      <th>location_x</th>\n",
       "      <td>10054852.0</td>\n",
       "      <td>-8.778549e+01</td>\n",
       "      <td>1.426022e-01</td>\n",
       "      <td>-8.813767e+01</td>\n",
       "      <td>-8.788483e+01</td>\n",
       "      <td>-8.774752e+01</td>\n",
       "      <td>-8.766240e+01</td>\n",
       "      <td>-8.755329e+01</td>\n",
       "    </tr>\n",
       "    <tr>\n",
       "      <th>location_y</th>\n",
       "      <td>10054852.0</td>\n",
       "      <td>4.186983e+01</td>\n",
       "      <td>1.272700e-01</td>\n",
       "      <td>4.151103e+01</td>\n",
       "      <td>4.180239e+01</td>\n",
       "      <td>4.188302e+01</td>\n",
       "      <td>4.196277e+01</td>\n",
       "      <td>4.211177e+01</td>\n",
       "    </tr>\n",
       "    <tr>\n",
       "      <th>pubMillis</th>\n",
       "      <td>10054852.0</td>\n",
       "      <td>1.515847e+12</td>\n",
       "      <td>4.185774e+09</td>\n",
       "      <td>1.500986e+12</td>\n",
       "      <td>1.512685e+12</td>\n",
       "      <td>1.516810e+12</td>\n",
       "      <td>1.519243e+12</td>\n",
       "      <td>1.522050e+12</td>\n",
       "    </tr>\n",
       "  </tbody>\n",
       "</table>\n",
       "</div>"
      ],
      "text/plain": [
       "                   count          mean           std           min  \\\n",
       "nTHumbsUp     10055199.0  6.029717e-04  1.040078e-01  0.000000e+00   \n",
       "reportRating  10054852.0  1.968055e+00  1.529827e+00  0.000000e+00   \n",
       "confidence    10054852.0  6.834754e-01  1.406939e+00 -2.000000e+00   \n",
       "reliability   10054852.0  6.416892e+00  1.788209e+00  5.000000e+00   \n",
       "roadType      10054852.0  3.026482e+00  2.556850e+00  0.000000e+00   \n",
       "magvar        10054852.0  1.457354e+02  1.213590e+02  0.000000e+00   \n",
       "location_x    10054852.0 -8.778549e+01  1.426022e-01 -8.813767e+01   \n",
       "location_y    10054852.0  4.186983e+01  1.272700e-01  4.151103e+01   \n",
       "pubMillis     10054852.0  1.515847e+12  4.185774e+09  1.500986e+12   \n",
       "\n",
       "                       25%           50%           75%           max  \n",
       "nTHumbsUp     0.000000e+00  0.000000e+00  0.000000e+00  1.800000e+01  \n",
       "reportRating  0.000000e+00  2.000000e+00  3.000000e+00  5.000000e+00  \n",
       "confidence    0.000000e+00  0.000000e+00  1.000000e+00  5.000000e+00  \n",
       "reliability   5.000000e+00  6.000000e+00  7.000000e+00  1.000000e+01  \n",
       "roadType      0.000000e+00  3.000000e+00  4.000000e+00  2.000000e+01  \n",
       "magvar        0.000000e+00  1.310000e+02  2.680000e+02  3.590000e+02  \n",
       "location_x   -8.788483e+01 -8.774752e+01 -8.766240e+01 -8.755329e+01  \n",
       "location_y    4.180239e+01  4.188302e+01  4.196277e+01  4.211177e+01  \n",
       "pubMillis     1.512685e+12  1.516810e+12  1.519243e+12  1.522050e+12  "
      ]
     },
     "execution_count": 65,
     "metadata": {},
     "output_type": "execute_result"
    }
   ],
   "source": [
    "waze.describe().T"
   ]
  },
  {
   "cell_type": "code",
   "execution_count": 6,
   "metadata": {},
   "outputs": [
    {
     "name": "stdout",
     "output_type": "stream",
     "text": [
      "Number of Observations in the Dataset:  10055207\n"
     ]
    }
   ],
   "source": [
    "print('Number of Observations in the Dataset: ',len(waze))"
   ]
  },
  {
   "cell_type": "code",
   "execution_count": 7,
   "metadata": {},
   "outputs": [
    {
     "data": {
      "text/plain": [
       "country                  175\n",
       "nTHumbsUp                  8\n",
       "city                 2761258\n",
       "reportRating             355\n",
       "confidence               355\n",
       "reliability              355\n",
       "type                     355\n",
       "uuid                     355\n",
       "roadType                 355\n",
       "magvar                   355\n",
       "subtype               403764\n",
       "street                230610\n",
       "location_x               355\n",
       "location_y               355\n",
       "pubMillis                355\n",
       "reportDescription    8031443\n",
       "scrape_dt                488\n",
       "dtype: int64"
      ]
     },
     "execution_count": 7,
     "metadata": {},
     "output_type": "execute_result"
    }
   ],
   "source": [
    "waze.isnull().sum()"
   ]
  },
  {
   "cell_type": "markdown",
   "metadata": {},
   "source": [
    "## INDIVIDUAL VARIABLES\n",
    "\n",
    "Let's take a look at each individual variable and see what we can learn about them."
   ]
  },
  {
   "cell_type": "markdown",
   "metadata": {},
   "source": [
    "### Country Variable"
   ]
  },
  {
   "cell_type": "markdown",
   "metadata": {},
   "source": [
    "The majority of values in Country are US, with around 100 marked as other countries. Since this is a dataset focused on Illinois it looks like These are mistakes. We will need to change all values to US. "
   ]
  },
  {
   "cell_type": "code",
   "execution_count": 13,
   "metadata": {},
   "outputs": [
    {
     "name": "stdout",
     "output_type": "stream",
     "text": [
      "Number of Unique Values in Country:  15\n"
     ]
    }
   ],
   "source": [
    "print('Number of Unique Values in Country: ',len(waze.country.unique()))"
   ]
  },
  {
   "cell_type": "code",
   "execution_count": 12,
   "metadata": {},
   "outputs": [
    {
     "data": {
      "text/plain": [
       "US    10054852\n",
       " s          54\n",
       " w          48\n",
       ".\"          12\n",
       " C           8\n",
       " r           8\n",
       ",\"           8\n",
       "d\"           8\n",
       "gh           7\n",
       "ri           6\n",
       "my           6\n",
       "on           6\n",
       "âœ           5\n",
       "se           4\n",
       "Name: country, dtype: int64"
      ]
     },
     "execution_count": 12,
     "metadata": {},
     "output_type": "execute_result"
    }
   ],
   "source": [
    "waze.country.value_counts()"
   ]
  },
  {
   "cell_type": "markdown",
   "metadata": {},
   "source": [
    "The entries other than US are have NaN values in all entries. These should be dropped"
   ]
  },
  {
   "cell_type": "code",
   "execution_count": 15,
   "metadata": {},
   "outputs": [
    {
     "data": {
      "text/html": [
       "<div>\n",
       "<style scoped>\n",
       "    .dataframe tbody tr th:only-of-type {\n",
       "        vertical-align: middle;\n",
       "    }\n",
       "\n",
       "    .dataframe tbody tr th {\n",
       "        vertical-align: top;\n",
       "    }\n",
       "\n",
       "    .dataframe thead th {\n",
       "        text-align: right;\n",
       "    }\n",
       "</style>\n",
       "<table border=\"1\" class=\"dataframe\">\n",
       "  <thead>\n",
       "    <tr style=\"text-align: right;\">\n",
       "      <th></th>\n",
       "      <th>country</th>\n",
       "      <th>nTHumbsUp</th>\n",
       "      <th>city</th>\n",
       "      <th>reportRating</th>\n",
       "      <th>confidence</th>\n",
       "      <th>reliability</th>\n",
       "      <th>type</th>\n",
       "      <th>uuid</th>\n",
       "      <th>roadType</th>\n",
       "      <th>magvar</th>\n",
       "      <th>subtype</th>\n",
       "      <th>street</th>\n",
       "      <th>location_x</th>\n",
       "      <th>location_y</th>\n",
       "      <th>pubMillis</th>\n",
       "      <th>reportDescription</th>\n",
       "      <th>scrape_dt</th>\n",
       "    </tr>\n",
       "  </thead>\n",
       "  <tbody>\n",
       "    <tr>\n",
       "      <th>2371069</th>\n",
       "      <td>âœ</td>\n",
       "      <td>17.0</td>\n",
       "      <td>NaN</td>\n",
       "      <td>NaN</td>\n",
       "      <td>NaN</td>\n",
       "      <td>NaN</td>\n",
       "      <td>NaN</td>\n",
       "      <td>NaN</td>\n",
       "      <td>NaN</td>\n",
       "      <td>NaN</td>\n",
       "      <td>NaN</td>\n",
       "      <td>NaN</td>\n",
       "      <td>NaN</td>\n",
       "      <td>NaN</td>\n",
       "      <td>NaN</td>\n",
       "      <td>NaN</td>\n",
       "      <td>NaN</td>\n",
       "    </tr>\n",
       "    <tr>\n",
       "      <th>2371974</th>\n",
       "      <td>âœ</td>\n",
       "      <td>17.0</td>\n",
       "      <td>NaN</td>\n",
       "      <td>NaN</td>\n",
       "      <td>NaN</td>\n",
       "      <td>NaN</td>\n",
       "      <td>NaN</td>\n",
       "      <td>NaN</td>\n",
       "      <td>NaN</td>\n",
       "      <td>NaN</td>\n",
       "      <td>NaN</td>\n",
       "      <td>NaN</td>\n",
       "      <td>NaN</td>\n",
       "      <td>NaN</td>\n",
       "      <td>NaN</td>\n",
       "      <td>NaN</td>\n",
       "      <td>NaN</td>\n",
       "    </tr>\n",
       "    <tr>\n",
       "      <th>2372903</th>\n",
       "      <td>âœ</td>\n",
       "      <td>17.0</td>\n",
       "      <td>NaN</td>\n",
       "      <td>NaN</td>\n",
       "      <td>NaN</td>\n",
       "      <td>NaN</td>\n",
       "      <td>NaN</td>\n",
       "      <td>NaN</td>\n",
       "      <td>NaN</td>\n",
       "      <td>NaN</td>\n",
       "      <td>NaN</td>\n",
       "      <td>NaN</td>\n",
       "      <td>NaN</td>\n",
       "      <td>NaN</td>\n",
       "      <td>NaN</td>\n",
       "      <td>NaN</td>\n",
       "      <td>NaN</td>\n",
       "    </tr>\n",
       "    <tr>\n",
       "      <th>2373883</th>\n",
       "      <td>âœ</td>\n",
       "      <td>17.0</td>\n",
       "      <td>NaN</td>\n",
       "      <td>NaN</td>\n",
       "      <td>NaN</td>\n",
       "      <td>NaN</td>\n",
       "      <td>NaN</td>\n",
       "      <td>NaN</td>\n",
       "      <td>NaN</td>\n",
       "      <td>NaN</td>\n",
       "      <td>NaN</td>\n",
       "      <td>NaN</td>\n",
       "      <td>NaN</td>\n",
       "      <td>NaN</td>\n",
       "      <td>NaN</td>\n",
       "      <td>NaN</td>\n",
       "      <td>NaN</td>\n",
       "    </tr>\n",
       "    <tr>\n",
       "      <th>2374911</th>\n",
       "      <td>âœ</td>\n",
       "      <td>17.0</td>\n",
       "      <td>NaN</td>\n",
       "      <td>NaN</td>\n",
       "      <td>NaN</td>\n",
       "      <td>NaN</td>\n",
       "      <td>NaN</td>\n",
       "      <td>NaN</td>\n",
       "      <td>NaN</td>\n",
       "      <td>NaN</td>\n",
       "      <td>NaN</td>\n",
       "      <td>NaN</td>\n",
       "      <td>NaN</td>\n",
       "      <td>NaN</td>\n",
       "      <td>NaN</td>\n",
       "      <td>NaN</td>\n",
       "      <td>NaN</td>\n",
       "    </tr>\n",
       "  </tbody>\n",
       "</table>\n",
       "</div>"
      ],
      "text/plain": [
       "        country  nTHumbsUp city  reportRating  confidence  reliability type  \\\n",
       "2371069      âœ       17.0  NaN           NaN         NaN          NaN  NaN   \n",
       "2371974      âœ       17.0  NaN           NaN         NaN          NaN  NaN   \n",
       "2372903      âœ       17.0  NaN           NaN         NaN          NaN  NaN   \n",
       "2373883      âœ       17.0  NaN           NaN         NaN          NaN  NaN   \n",
       "2374911      âœ       17.0  NaN           NaN         NaN          NaN  NaN   \n",
       "\n",
       "        uuid  roadType  magvar subtype street  location_x  location_y  \\\n",
       "2371069  NaN       NaN     NaN     NaN    NaN         NaN         NaN   \n",
       "2371974  NaN       NaN     NaN     NaN    NaN         NaN         NaN   \n",
       "2372903  NaN       NaN     NaN     NaN    NaN         NaN         NaN   \n",
       "2373883  NaN       NaN     NaN     NaN    NaN         NaN         NaN   \n",
       "2374911  NaN       NaN     NaN     NaN    NaN         NaN         NaN   \n",
       "\n",
       "         pubMillis reportDescription scrape_dt  \n",
       "2371069        NaN               NaN       NaN  \n",
       "2371974        NaN               NaN       NaN  \n",
       "2372903        NaN               NaN       NaN  \n",
       "2373883        NaN               NaN       NaN  \n",
       "2374911        NaN               NaN       NaN  "
      ]
     },
     "execution_count": 15,
     "metadata": {},
     "output_type": "execute_result"
    }
   ],
   "source": [
    "waze.loc[waze['country'] != 'US'].head()"
   ]
  },
  {
   "cell_type": "markdown",
   "metadata": {},
   "source": [
    "### nThumbsup\n",
    "\n",
    "This category is mostly empty. This will need to be dropped. "
   ]
  },
  {
   "cell_type": "code",
   "execution_count": 19,
   "metadata": {},
   "outputs": [
    {
     "data": {
      "text/plain": [
       "array([ 0., 17., 18., nan])"
      ]
     },
     "execution_count": 19,
     "metadata": {},
     "output_type": "execute_result"
    }
   ],
   "source": [
    "waze.nTHumbsUp.unique()"
   ]
  },
  {
   "cell_type": "code",
   "execution_count": 20,
   "metadata": {},
   "outputs": [
    {
     "data": {
      "text/plain": [
       "6063.0"
      ]
     },
     "execution_count": 20,
     "metadata": {},
     "output_type": "execute_result"
    }
   ],
   "source": [
    "waze.nTHumbsUp.sum()"
   ]
  },
  {
   "cell_type": "code",
   "execution_count": 21,
   "metadata": {},
   "outputs": [
    {
     "data": {
      "text/plain": [
       "0.0     10054861\n",
       "18.0         317\n",
       "17.0          21\n",
       "Name: nTHumbsUp, dtype: int64"
      ]
     },
     "execution_count": 21,
     "metadata": {},
     "output_type": "execute_result"
    }
   ],
   "source": [
    "waze.nTHumbsUp.value_counts()"
   ]
  },
  {
   "cell_type": "markdown",
   "metadata": {},
   "source": [
    "### city\n",
    "\n",
    "All locations are in the Chicago area. 27% of the location column is empty. There is a location column (with latitude and longitude) so we may not need this column anyway. We also may be able to infer the exsct location from the lat and long columns later in the dataset. "
   ]
  },
  {
   "cell_type": "code",
   "execution_count": 45,
   "metadata": {},
   "outputs": [
    {
     "data": {
      "text/plain": [
       "Chicago, IL        5155542\n",
       "Niles, IL           186732\n",
       "Westmont, IL        138338\n",
       "Des Plaines, IL      92935\n",
       "Dixmoor, IL          84635\n",
       "Name: city, dtype: int64"
      ]
     },
     "execution_count": 45,
     "metadata": {},
     "output_type": "execute_result"
    }
   ],
   "source": [
    "waze.city.value_counts().head()"
   ]
  },
  {
   "cell_type": "code",
   "execution_count": 29,
   "metadata": {},
   "outputs": [
    {
     "name": "stdout",
     "output_type": "stream",
     "text": [
      "Ratio of Empty City Observation to All observations:  0.27460976188754743\n"
     ]
    }
   ],
   "source": [
    "print('Ratio of Empty City Observation to All observations: ', waze.city.isnull().sum()/len(waze))"
   ]
  },
  {
   "cell_type": "markdown",
   "metadata": {},
   "source": [
    "### Report Rating"
   ]
  },
  {
   "cell_type": "code",
   "execution_count": 34,
   "metadata": {},
   "outputs": [
    {
     "data": {
      "text/plain": [
       "0.0    2653131\n",
       "2.0    2341233\n",
       "3.0    2230505\n",
       "1.0    1158867\n",
       "4.0    1099923\n",
       "5.0     571193\n",
       "Name: reportRating, dtype: int64"
      ]
     },
     "execution_count": 34,
     "metadata": {},
     "output_type": "execute_result"
    }
   ],
   "source": [
    "waze.reportRating.value_counts()"
   ]
  },
  {
   "cell_type": "code",
   "execution_count": 36,
   "metadata": {},
   "outputs": [
    {
     "data": {
      "text/plain": [
       "355"
      ]
     },
     "execution_count": 36,
     "metadata": {},
     "output_type": "execute_result"
    }
   ],
   "source": [
    "waze.reportRating.isnull().sum()"
   ]
  },
  {
   "cell_type": "markdown",
   "metadata": {},
   "source": [
    "### confidence"
   ]
  },
  {
   "cell_type": "code",
   "execution_count": 37,
   "metadata": {},
   "outputs": [
    {
     "data": {
      "text/plain": [
       "355"
      ]
     },
     "execution_count": 37,
     "metadata": {},
     "output_type": "execute_result"
    }
   ],
   "source": [
    "waze.confidence.isnull().sum()"
   ]
  },
  {
   "cell_type": "code",
   "execution_count": 38,
   "metadata": {},
   "outputs": [
    {
     "data": {
      "text/plain": [
       " 0.0    7356841\n",
       " 1.0    1097641\n",
       " 5.0     640066\n",
       " 2.0     501556\n",
       " 3.0     263412\n",
       " 4.0     195253\n",
       "-1.0         79\n",
       "-2.0          4\n",
       "Name: confidence, dtype: int64"
      ]
     },
     "execution_count": 38,
     "metadata": {},
     "output_type": "execute_result"
    }
   ],
   "source": [
    "waze.confidence.value_counts()"
   ]
  },
  {
   "cell_type": "markdown",
   "metadata": {},
   "source": [
    "### Reliability\n",
    "\n",
    "The only null values are in the 355 observations that we will drop. "
   ]
  },
  {
   "cell_type": "code",
   "execution_count": 42,
   "metadata": {},
   "outputs": [
    {
     "name": "stdout",
     "output_type": "stream",
     "text": [
      "Number of Null Values:  355\n"
     ]
    }
   ],
   "source": [
    "print('Number of Null Values: ',waze.reliability.isnull().sum())"
   ]
  },
  {
   "cell_type": "code",
   "execution_count": 39,
   "metadata": {},
   "outputs": [
    {
     "data": {
      "text/plain": [
       "5.0     4568429\n",
       "6.0     2264024\n",
       "10.0    1487991\n",
       "7.0      944369\n",
       "8.0      506231\n",
       "9.0      283808\n",
       "Name: reliability, dtype: int64"
      ]
     },
     "execution_count": 39,
     "metadata": {},
     "output_type": "execute_result"
    }
   ],
   "source": [
    "waze.reliability.value_counts()"
   ]
  },
  {
   "cell_type": "markdown",
   "metadata": {},
   "source": [
    "### type\n",
    "\n",
    "The only null values are in the 355 observations that we will drop. "
   ]
  },
  {
   "cell_type": "code",
   "execution_count": 44,
   "metadata": {},
   "outputs": [
    {
     "data": {
      "text/plain": [
       "355"
      ]
     },
     "execution_count": 44,
     "metadata": {},
     "output_type": "execute_result"
    }
   ],
   "source": [
    "waze.type.isnull().sum()"
   ]
  },
  {
   "cell_type": "code",
   "execution_count": 43,
   "metadata": {},
   "outputs": [
    {
     "data": {
      "text/plain": [
       "WEATHERHAZARD    4193220\n",
       "JAM              3381627\n",
       "ROAD_CLOSED      2243331\n",
       "ACCIDENT          236674\n",
       "Name: type, dtype: int64"
      ]
     },
     "execution_count": 43,
     "metadata": {},
     "output_type": "execute_result"
    }
   ],
   "source": [
    "waze.type.value_counts()"
   ]
  },
  {
   "cell_type": "markdown",
   "metadata": {},
   "source": [
    "### uuid"
   ]
  },
  {
   "cell_type": "code",
   "execution_count": 46,
   "metadata": {},
   "outputs": [
    {
     "data": {
      "text/plain": [
       "355"
      ]
     },
     "execution_count": 46,
     "metadata": {},
     "output_type": "execute_result"
    }
   ],
   "source": [
    "waze.uuid.isnull().sum()"
   ]
  },
  {
   "cell_type": "code",
   "execution_count": 48,
   "metadata": {},
   "outputs": [
    {
     "data": {
      "text/plain": [
       "931216"
      ]
     },
     "execution_count": 48,
     "metadata": {},
     "output_type": "execute_result"
    }
   ],
   "source": [
    "waze.uuid.nunique()"
   ]
  },
  {
   "cell_type": "markdown",
   "metadata": {},
   "source": [
    "Examples of uuid"
   ]
  },
  {
   "cell_type": "code",
   "execution_count": 50,
   "metadata": {},
   "outputs": [
    {
     "data": {
      "text/plain": [
       "0    12d90f41-fd58-3d73-9bac-d2d24a4e1dbb\n",
       "1    6bd6a1ff-55b3-3e57-8a57-13ef89e4b391\n",
       "2    0e957bc8-cdcc-395e-913c-facbef9a4494\n",
       "3    dfa91aba-dc86-365d-b270-0572fca5ccab\n",
       "4    4e9af18a-fde4-3f5b-9aeb-1d471988b735\n",
       "Name: uuid, dtype: object"
      ]
     },
     "execution_count": 50,
     "metadata": {},
     "output_type": "execute_result"
    }
   ],
   "source": [
    "waze.uuid.head()"
   ]
  },
  {
   "cell_type": "markdown",
   "metadata": {},
   "source": [
    "### roadType"
   ]
  },
  {
   "cell_type": "code",
   "execution_count": 54,
   "metadata": {},
   "outputs": [
    {
     "name": "stdout",
     "output_type": "stream",
     "text": [
      "Number of Unique Roadtypes:  11\n"
     ]
    }
   ],
   "source": [
    "print('Number of Unique Roadtypes: ', waze.roadType.nunique())"
   ]
  },
  {
   "cell_type": "code",
   "execution_count": 55,
   "metadata": {},
   "outputs": [
    {
     "data": {
      "text/plain": [
       "3.0     3192477\n",
       "0.0     2575496\n",
       "6.0     1455295\n",
       "7.0     1001827\n",
       "2.0      809507\n",
       "4.0      590278\n",
       "1.0      392640\n",
       "20.0      33870\n",
       "17.0       3444\n",
       "8.0          12\n",
       "5.0           6\n",
       "Name: roadType, dtype: int64"
      ]
     },
     "execution_count": 55,
     "metadata": {},
     "output_type": "execute_result"
    }
   ],
   "source": [
    "waze.roadType.value_counts()"
   ]
  },
  {
   "cell_type": "code",
   "execution_count": 57,
   "metadata": {},
   "outputs": [
    {
     "name": "stdout",
     "output_type": "stream",
     "text": [
      "Number of Null Values:  355\n"
     ]
    }
   ],
   "source": [
    "print('Number of Null Values: ',waze.roadType.isnull().sum())"
   ]
  },
  {
   "cell_type": "markdown",
   "metadata": {},
   "source": [
    "### magvar"
   ]
  },
  {
   "cell_type": "code",
   "execution_count": 59,
   "metadata": {},
   "outputs": [
    {
     "name": "stdout",
     "output_type": "stream",
     "text": [
      "Number of Unique Values:  360\n"
     ]
    }
   ],
   "source": [
    "print('Number of Unique Values: ', waze.magvar.nunique())"
   ]
  },
  {
   "cell_type": "code",
   "execution_count": 67,
   "metadata": {},
   "outputs": [
    {
     "name": "stdout",
     "output_type": "stream",
     "text": [
      "Number of Nan values:  355\n"
     ]
    }
   ],
   "source": [
    "print('Number of Nan values: ',waze.magvar.isnull().sum())"
   ]
  },
  {
   "cell_type": "markdown",
   "metadata": {},
   "source": [
    "### subtype"
   ]
  },
  {
   "cell_type": "code",
   "execution_count": 69,
   "metadata": {},
   "outputs": [
    {
     "name": "stdout",
     "output_type": "stream",
     "text": [
      "Number of Unique Subtypes:  25\n"
     ]
    }
   ],
   "source": [
    "print('Number of Unique Subtypes: ', waze.subtype.nunique())"
   ]
  },
  {
   "cell_type": "markdown",
   "metadata": {},
   "source": [
    "Looks like hazard has weather hazard and regular hazard mixed together. "
   ]
  },
  {
   "cell_type": "code",
   "execution_count": 76,
   "metadata": {
    "scrolled": false
   },
   "outputs": [
    {
     "data": {
      "text/plain": [
       "array(['HAZARD_ON_SHOULDER_CAR_STOPPED', 'HAZARD_ON_ROAD_OBJECT',\n",
       "       'HAZARD_ON_ROAD_CAR_STOPPED', 'HAZARD_ON_ROAD_POT_HOLE',\n",
       "       'HAZARD_ON_ROAD_TRAFFIC_LIGHT_FAULT', 'HAZARD_WEATHER_FLOOD',\n",
       "       'HAZARD_ON_ROAD_CONSTRUCTION', nan, 'HAZARD_ON_ROAD_ROAD_KILL',\n",
       "       'HAZARD_WEATHER_FOG', 'HAZARD_ON_SHOULDER_MISSING_SIGN',\n",
       "       'HAZARD_ON_ROAD', 'HAZARD_ON_SHOULDER',\n",
       "       'HAZARD_ON_SHOULDER_ANIMALS', 'HAZARD_WEATHER',\n",
       "       'HAZARD_ON_ROAD_ICE', 'HAZARD_WEATHER_HAIL',\n",
       "       'HAZARD_WEATHER_HEAVY_SNOW'], dtype=object)"
      ]
     },
     "execution_count": 76,
     "metadata": {},
     "output_type": "execute_result"
    }
   ],
   "source": [
    "waze.loc[waze['type']=='WEATHERHAZARD'].subtype.unique()"
   ]
  },
  {
   "cell_type": "code",
   "execution_count": 77,
   "metadata": {},
   "outputs": [
    {
     "data": {
      "text/plain": [
       "array(['JAM_MODERATE_TRAFFIC', 'JAM_HEAVY_TRAFFIC',\n",
       "       'JAM_STAND_STILL_TRAFFIC', nan], dtype=object)"
      ]
     },
     "execution_count": 77,
     "metadata": {},
     "output_type": "execute_result"
    }
   ],
   "source": [
    "waze.loc[waze['type']=='JAM'].subtype.unique()"
   ]
  },
  {
   "cell_type": "code",
   "execution_count": 78,
   "metadata": {},
   "outputs": [
    {
     "data": {
      "text/plain": [
       "array(['ROAD_CLOSED_EVENT', nan, 'ROAD_CLOSED_CONSTRUCTION',\n",
       "       'ROAD_CLOSED_HAZARD'], dtype=object)"
      ]
     },
     "execution_count": 78,
     "metadata": {},
     "output_type": "execute_result"
    }
   ],
   "source": [
    "waze.loc[waze['type']=='ROAD_CLOSED'].subtype.unique()"
   ]
  },
  {
   "cell_type": "code",
   "execution_count": 79,
   "metadata": {},
   "outputs": [
    {
     "data": {
      "text/plain": [
       "array([nan, 'ACCIDENT_MINOR', 'ACCIDENT_MAJOR'], dtype=object)"
      ]
     },
     "execution_count": 79,
     "metadata": {},
     "output_type": "execute_result"
    }
   ],
   "source": [
    "waze.loc[waze['type']=='ACCIDENT'].subtype.unique()"
   ]
  },
  {
   "cell_type": "code",
   "execution_count": 107,
   "metadata": {},
   "outputs": [
    {
     "data": {
      "text/html": [
       "<div>\n",
       "<style scoped>\n",
       "    .dataframe tbody tr th:only-of-type {\n",
       "        vertical-align: middle;\n",
       "    }\n",
       "\n",
       "    .dataframe tbody tr th {\n",
       "        vertical-align: top;\n",
       "    }\n",
       "\n",
       "    .dataframe thead th {\n",
       "        text-align: right;\n",
       "    }\n",
       "</style>\n",
       "<table border=\"1\" class=\"dataframe\">\n",
       "  <thead>\n",
       "    <tr style=\"text-align: right;\">\n",
       "      <th></th>\n",
       "      <th>country</th>\n",
       "      <th>nTHumbsUp</th>\n",
       "      <th>city</th>\n",
       "      <th>reportRating</th>\n",
       "      <th>confidence</th>\n",
       "      <th>reliability</th>\n",
       "      <th>type</th>\n",
       "      <th>uuid</th>\n",
       "      <th>roadType</th>\n",
       "      <th>magvar</th>\n",
       "      <th>subtype</th>\n",
       "      <th>street</th>\n",
       "      <th>location_x</th>\n",
       "      <th>location_y</th>\n",
       "      <th>pubMillis</th>\n",
       "      <th>reportDescription</th>\n",
       "      <th>scrape_dt</th>\n",
       "    </tr>\n",
       "  </thead>\n",
       "  <tbody>\n",
       "  </tbody>\n",
       "</table>\n",
       "</div>"
      ],
      "text/plain": [
       "Empty DataFrame\n",
       "Columns: [country, nTHumbsUp, city, reportRating, confidence, reliability, type, uuid, roadType, magvar, subtype, street, location_x, location_y, pubMillis, reportDescription, scrape_dt]\n",
       "Index: []"
      ]
     },
     "execution_count": 107,
     "metadata": {},
     "output_type": "execute_result"
    }
   ],
   "source": [
    "waze.loc[waze['subtype']==np.nan]"
   ]
  },
  {
   "cell_type": "code",
   "execution_count": 108,
   "metadata": {},
   "outputs": [],
   "source": [
    "bool_series = pd.isnull(waze[\"subtype\"])"
   ]
  },
  {
   "cell_type": "code",
   "execution_count": 113,
   "metadata": {},
   "outputs": [
    {
     "data": {
      "text/plain": [
       "array(['ACCIDENT', 'ROAD_CLOSED', 'JAM', 'WEATHERHAZARD', nan],\n",
       "      dtype=object)"
      ]
     },
     "execution_count": 113,
     "metadata": {},
     "output_type": "execute_result"
    }
   ],
   "source": [
    "waze[bool_series].type.unique()"
   ]
  },
  {
   "cell_type": "markdown",
   "metadata": {},
   "source": [
    "### street"
   ]
  },
  {
   "cell_type": "markdown",
   "metadata": {},
   "source": [
    "Around 2% of the street names are missing from the dataset"
   ]
  },
  {
   "cell_type": "code",
   "execution_count": 82,
   "metadata": {},
   "outputs": [
    {
     "name": "stdout",
     "output_type": "stream",
     "text": [
      "Rate of missing street names:  0.022934386134467445\n"
     ]
    }
   ],
   "source": [
    "print('Rate of missing street names: ',waze.street.isnull().sum()/len(waze))"
   ]
  },
  {
   "cell_type": "code",
   "execution_count": 83,
   "metadata": {},
   "outputs": [
    {
     "data": {
      "text/plain": [
       "230610"
      ]
     },
     "execution_count": 83,
     "metadata": {},
     "output_type": "execute_result"
    }
   ],
   "source": [
    "waze.street.isnull().sum()"
   ]
  },
  {
   "cell_type": "markdown",
   "metadata": {},
   "source": [
    "### location_x & location_y"
   ]
  },
  {
   "cell_type": "code",
   "execution_count": 84,
   "metadata": {},
   "outputs": [
    {
     "data": {
      "text/plain": [
       "355"
      ]
     },
     "execution_count": 84,
     "metadata": {},
     "output_type": "execute_result"
    }
   ],
   "source": [
    "waze.location_x.isnull().sum()"
   ]
  },
  {
   "cell_type": "code",
   "execution_count": 85,
   "metadata": {},
   "outputs": [
    {
     "data": {
      "text/plain": [
       "355"
      ]
     },
     "execution_count": 85,
     "metadata": {},
     "output_type": "execute_result"
    }
   ],
   "source": [
    "waze.location_y.isnull().sum()"
   ]
  },
  {
   "cell_type": "markdown",
   "metadata": {},
   "source": [
    "### pubMillis"
   ]
  },
  {
   "cell_type": "code",
   "execution_count": 90,
   "metadata": {},
   "outputs": [
    {
     "data": {
      "text/plain": [
       "355"
      ]
     },
     "execution_count": 90,
     "metadata": {},
     "output_type": "execute_result"
    }
   ],
   "source": [
    "waze.pubMillis.isnull().sum()"
   ]
  },
  {
   "cell_type": "code",
   "execution_count": 89,
   "metadata": {},
   "outputs": [
    {
     "data": {
      "text/plain": [
       "numpy.float64"
      ]
     },
     "execution_count": 89,
     "metadata": {},
     "output_type": "execute_result"
    }
   ],
   "source": [
    "type(waze.pubMillis[0])"
   ]
  },
  {
   "cell_type": "markdown",
   "metadata": {},
   "source": [
    "### reportDescription"
   ]
  },
  {
   "cell_type": "code",
   "execution_count": 98,
   "metadata": {},
   "outputs": [
    {
     "name": "stdout",
     "output_type": "stream",
     "text": [
      "Percentage of Nan values in reportDescription variable: 79.87347252025742 %\n"
     ]
    }
   ],
   "source": [
    "print('Percentage of Nan values in reportDescription variable:',(waze.reportDescription.isnull().sum()/len(waze))*100,'%')"
   ]
  },
  {
   "cell_type": "markdown",
   "metadata": {},
   "source": [
    "### scrape_dt"
   ]
  },
  {
   "cell_type": "code",
   "execution_count": 99,
   "metadata": {},
   "outputs": [
    {
     "data": {
      "text/plain": [
       "488"
      ]
     },
     "execution_count": 99,
     "metadata": {},
     "output_type": "execute_result"
    }
   ],
   "source": [
    "waze.scrape_dt.isnull().sum()"
   ]
  },
  {
   "cell_type": "code",
   "execution_count": 103,
   "metadata": {},
   "outputs": [
    {
     "data": {
      "text/plain": [
       "array(['2017-11-15T09:21:00Z', '2017-11-15T09:30:00Z',\n",
       "       '2017-11-15T10:05:00Z', ..., '2018-04-01T15:15:00Z',\n",
       "       '2018-04-01T15:20:00Z', '2018-04-01T15:25:00Z'], dtype=object)"
      ]
     },
     "execution_count": 103,
     "metadata": {},
     "output_type": "execute_result"
    }
   ],
   "source": [
    "waze.scrape_dt.unique()"
   ]
  }
 ],
 "metadata": {
  "kernelspec": {
   "display_name": "Python 3",
   "language": "python",
   "name": "python3"
  },
  "language_info": {
   "codemirror_mode": {
    "name": "ipython",
    "version": 3
   },
   "file_extension": ".py",
   "mimetype": "text/x-python",
   "name": "python",
   "nbconvert_exporter": "python",
   "pygments_lexer": "ipython3",
   "version": "3.7.1"
  },
  "toc": {
   "base_numbering": 1,
   "nav_menu": {},
   "number_sections": true,
   "sideBar": true,
   "skip_h1_title": true,
   "title_cell": "Table of Contents",
   "title_sidebar": "Contents",
   "toc_cell": false,
   "toc_position": {},
   "toc_section_display": true,
   "toc_window_display": false
  }
 },
 "nbformat": 4,
 "nbformat_minor": 2
}
