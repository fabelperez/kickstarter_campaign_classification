{
 "cells": [
  {
   "cell_type": "markdown",
   "metadata": {},
   "source": [
    "# Kickstarter Deduplicate Data"
   ]
  },
  {
   "cell_type": "markdown",
   "metadata": {},
   "source": [
    "* **Data Source**: https://webrobots.io/kickstarter-datasets/\n",
    "\n",
    "**NOTE 1**: Need to ensure that the variables that we incorporate into the model are not giving data leakage. For example, we would need to leave out the staff pick variable (staff are potentially picking things that they believe are going to succeed). \n",
    "\n",
    "**NOTE 2**: There is a data dictionary for the kickstarter dataset in the references folder. "
   ]
  },
  {
   "cell_type": "code",
   "execution_count": 2,
   "metadata": {},
   "outputs": [],
   "source": [
    "import pandas as pd\n",
    "import numpy as np \n",
    "import matplotlib.pyplot as plt\n",
    "import seaborn as sns\n",
    "import os\n",
    "import sys\n",
    "import glob\n",
    "import functools\n",
    "\n",
    "src_dir = os.path.join(os.getcwd(), '..', '..', 'src')\n",
    "sys.path.append(src_dir)"
   ]
  },
  {
   "cell_type": "code",
   "execution_count": 3,
   "metadata": {},
   "outputs": [
    {
     "name": "stderr",
     "output_type": "stream",
     "text": [
      "/anaconda3/lib/python3.7/site-packages/IPython/core/interactiveshell.py:3020: DtypeWarning: Columns (10,13,17,18,19,24,27,37) have mixed types. Specify dtype option on import or set low_memory=False.\n",
      "  interactivity=interactivity, compiler=compiler, result=result)\n"
     ]
    }
   ],
   "source": [
    "df_csv = pd.read_csv('../../data/02_intermediate/kickstarter_concat.csv')"
   ]
  },
  {
   "cell_type": "code",
   "execution_count": 4,
   "metadata": {},
   "outputs": [
    {
     "data": {
      "text/plain": [
       "7769058"
      ]
     },
     "execution_count": 4,
     "metadata": {},
     "output_type": "execute_result"
    }
   ],
   "source": [
    "len(df_csv)"
   ]
  },
  {
   "cell_type": "code",
   "execution_count": 4,
   "metadata": {},
   "outputs": [
    {
     "data": {
      "text/plain": [
       "Index(['backers_count', 'blurb', 'category', 'converted_pledged_amount',\n",
       "       'country', 'created_at', 'creator', 'currency', 'currency_symbol',\n",
       "       'currency_trailing_code', 'current_currency', 'deadline',\n",
       "       'disable_communication', 'friends', 'fx_rate', 'goal', 'id',\n",
       "       'is_backing', 'is_starrable', 'is_starred', 'last_update_published_at',\n",
       "       'launched_at', 'location', 'name', 'permissions', 'pledged', 'slug',\n",
       "       'source_url', 'spotlight', 'staff_pick', 'state', 'state_changed_at',\n",
       "       'static_usd_rate', 'unread_messages_count', 'unseen_activity_count',\n",
       "       'urls', 'usd_pledged', 'usd_type'],\n",
       "      dtype='object')"
      ]
     },
     "execution_count": 4,
     "metadata": {},
     "output_type": "execute_result"
    }
   ],
   "source": [
    "df_csv.columns"
   ]
  },
  {
   "cell_type": "code",
   "execution_count": 6,
   "metadata": {},
   "outputs": [
    {
     "data": {
      "text/plain": [
       "The Decentralized Dance Party was founded on the belief that Partying is an art form that has the power to change the world.                1056\n",
       ".                                                                                                                                            743\n",
       "A beautiful natural Fine art nude book exemplifying the female form presented by female producer Nina Vain.                                  590\n",
       "Firedance Jewelry pieces are uniquely handcrafted using fused dichroic glass. Firedance Jewelry - the fusion of art & science.               324\n",
       "Rock Steady is the first manga about Rock. Rock Steady is an action/adventure manga, join us on this extraordinary journey                   293\n",
       "imagine roaming the world’s largest ocean year after year alone, calling out with the regularity of a metronome, & hearing no response.      279\n",
       "Help support the largest creative collaboration in US history: The 50 State Initiative. 50 powerful billboards by artists.                   276\n",
       "Twenty current events crosswords that will be sent out over the course of a year. Many puzzle answers will be taken from current news.       270\n",
       "A couple's love story is portrayed by 100 actors who compete for the 2 lead roles and the chance to perform the final terrifying scene.      252\n",
       "A sexy killer nun who's on a mission to slaughter a malicious religious cult and save the Mother Superior.                                   252\n",
       "I create the finest quality Steampunk Jewelry, Victorian Jewelry, and Men's Jewelry & Accessories at the best prices!                        242\n",
       "The Impossible Girl redefines the rock tour. One show at a time.                                                                             229\n",
       "Mind, Body, Spirit Fitness hands-on seminar for people in high stress jobs, labor intensive jobs, seniors, and students: workout incl.       223\n",
       "...                                                                                                                                          221\n",
       "-                                                                                                                                            221\n",
       "Practically all of the original Dungeons & Dragons artwork that I created during my time at TSR was destroyed. Let's bring it back!          215\n",
       "\"Rescue Cats\" is a comic book about rescue cats that attain super powers and decide they want to rescue other cats and even some humans      214\n",
       "Opera SmackDown turns the traditional vocal concert on its ear by combining elements of professional wrestling and Opera Competitions        210\n",
       "Award Winning Footwear Designs | Crafted Using Italian Leathers with Bold and Comfortable Features | London Navy Men's Luxury Footwear       208\n",
       "Ex-mercenaries arm themselves against savage bounty hunters sent by the CIA.                                                                 203\n",
       "\"Chucks Apartment\" is a High-Octane psychological crime thriller, about a lonely frustrated man struggling with his sanity.                  197\n",
       "Make your own light-up pop-up greeting cards with these educational kits. A fun way to learn simple circuitry and paper engineering!         188\n",
       "In the dark lands, YOU command the hosts of man and beast that your ancestors once did for power, glory or just to survive...                187\n",
       "Project rewards. Pledge $1 get 5 D-images $5 gets 30 D-images, $10 get 60 D-images and $25 gets you 160 D-images                             186\n",
       "A group of American artists exchanging creative education with African artists!                                                              183\n",
       "Breakout Artist Management has offered to work with and develop this project in the studio and we need your help!                            177\n",
       "A cheese club for the people: flexible participation, a voice in selections, & knowing you are helping the community get great cheese.       173\n",
       "test                                                                                                                                         169\n",
       "Cancelled                                                                                                                                    169\n",
       "Let's make more awesome logos! Help me build my portfolio and have some fun too! ( I can make them in Black & White or Full Colour)          168\n",
       "                                                                                                                                            ... \n",
       "U.S. Patent Pending Golf invention will help you drive long and straight. Reinforces consistent stance and swing. Perfect gift.                1\n",
       "After 13 months in the studio, Chakra 8 (Tait Alexander of Ahkiyyini, Rick Mabery of Corners, and Casey Cole) is ready to release.             1\n",
       "project to bring awareness to the difficulty and trauma of families of veterans with PTSD, catastrophic Injuries and suicide #hope             1\n",
       "Kensei rulebook kickstarter. Get your samurai army to the batlle and become the Shogun of Hymukai. 32mm metal miniatures.                      1\n",
       "A medicine cabinet with secret compartments to help you Hide Your Drugs Everyday (HYDE)!                                                       1\n",
       "Special Event at Taormina Film Fest.                                                                                                           1\n",
       "Comfy, environmentally-friendly, ethically-made, top-quality shoes, with interchangeable, space-saving, open-source tops. Made in USA!         1\n",
       "A Science for the Heart and A Heart for Science    &&                Evolution of love and affection                                           1\n",
       "The tribe of leaders in our modern day warfare - hear from more than 50 mentors in our cyber security industry from across the globe.          1\n",
       "A retractable cable with 5th generation magnetic connector that can be pulled out & shrunk back in one second.                                 1\n",
       "No more washing, Agatom spray cleans and protect your most loved items. Perfect for hard-to-clean objects.                                     1\n",
       "Fundraiser for the red carpet premiere for Let Go                                                                                              1\n",
       "2nd, 3rd, 4th Generation film makers share stories, footage while growing up and working in the Film and TV Industry.                          1\n",
       "We are creating the NeckBag, a new Brand and a new Accessory! It's fashionable as a Necklace and useful as a Wallet! \\r\\nFind out more!!       1\n",
       "Chaotic, fast-paced, tactical top-down mutliplayer action, with a humorous twist.                                                              1\n",
       "ParShade is the first window shade you can install effortlessly with one hand.                                                                 1\n",
       "Proyecta México es mas que una simple idea, es impulsar todo lo positivo de nuestro país en manos de sus artesanos en un mall virtual.         1\n",
       "A dream diaper bag for all moms who struggle to find the right bag which is functional, elegant, and classy at the same time.                  1\n",
       "10 Day Flash Campaign lets me sell asap.  My downtown Lofts Showroom is in a perfect location is on a major corner w/incoming traffic.         1\n",
       "A self-leveling picture frame that magnetically seals and rests in a friendly detachable base stand with a flush glass front.                  1\n",
       "Silo keeps your food fresher, longer. Our smart base + containers use deep-vacuum technology to seal food, + Alexa to manage inventory.        1\n",
       "My first book in a trilogy. The Title is not official but the book itself is over half way written. I require around $8,000 to publish.        1\n",
       "Strategize & pitch new ideas into world-class brands.  PROTO is a beautifully designed game about the chaotic experience of innovation.        1\n",
       "Convenient and nice                                                                                                                            1\n",
       "Draw an orienteering map on fantastic area in Dalecarlian mountains Sweden, to publish as open orienteering map free to download.              1\n",
       "AromaDiffuser is a fragrance device that actively spreads aromas over a wide area.                                                             1\n",
       "Unitact est le premier bracelet connecté au monde permettant de simplifier la vie des sourds et malentendants grâce au sens du toucher.        1\n",
       "Deaf dancers. Physical poetry. Breaking boundaries: Help BalletNext create a contemporary ballet that shows the artistic power of Deaf         1\n",
       "The infinitely customizable magnetic fidget spinner.                                                                                           1\n",
       "A perfectly portable pocket-sized puzzle pamphlet. Print and play or postage paid to the whole planet!                                         1\n",
       "Name: blurb, Length: 331113, dtype: int64"
      ]
     },
     "execution_count": 6,
     "metadata": {},
     "output_type": "execute_result"
    }
   ],
   "source": [
    "df_csv.blurb.value_counts()"
   ]
  },
  {
   "cell_type": "code",
   "execution_count": 8,
   "metadata": {},
   "outputs": [
    {
     "data": {
      "text/plain": [
       "328099"
      ]
     },
     "execution_count": 8,
     "metadata": {},
     "output_type": "execute_result"
    }
   ],
   "source": [
    "df_csv.id.nunique()"
   ]
  },
  {
   "cell_type": "code",
   "execution_count": 9,
   "metadata": {},
   "outputs": [],
   "source": [
    "df_csv.sort_values(by='created_at', ascending=False, inplace=True)"
   ]
  },
  {
   "cell_type": "code",
   "execution_count": 12,
   "metadata": {},
   "outputs": [],
   "source": [
    "df_csv.reset_index(inplace=True)"
   ]
  },
  {
   "cell_type": "code",
   "execution_count": 14,
   "metadata": {},
   "outputs": [],
   "source": [
    "df_csv.drop_duplicates(subset='blurb', keep='first', inplace=True)"
   ]
  },
  {
   "cell_type": "code",
   "execution_count": 15,
   "metadata": {},
   "outputs": [
    {
     "data": {
      "text/plain": [
       "331114"
      ]
     },
     "execution_count": 15,
     "metadata": {},
     "output_type": "execute_result"
    }
   ],
   "source": [
    "len(df_csv)"
   ]
  },
  {
   "cell_type": "code",
   "execution_count": 17,
   "metadata": {},
   "outputs": [],
   "source": [
    "df_csv.to_csv('../../data/02_intermediate/kick_deduped.csv', index=False)"
   ]
  }
 ],
 "metadata": {
  "kernelspec": {
   "display_name": "Python 3",
   "language": "python",
   "name": "python3"
  },
  "language_info": {
   "codemirror_mode": {
    "name": "ipython",
    "version": 3
   },
   "file_extension": ".py",
   "mimetype": "text/x-python",
   "name": "python",
   "nbconvert_exporter": "python",
   "pygments_lexer": "ipython3",
   "version": "3.7.1"
  },
  "toc": {
   "base_numbering": 1,
   "nav_menu": {},
   "number_sections": true,
   "sideBar": true,
   "skip_h1_title": true,
   "title_cell": "Table of Contents",
   "title_sidebar": "Contents",
   "toc_cell": false,
   "toc_position": {},
   "toc_section_display": true,
   "toc_window_display": false
  }
 },
 "nbformat": 4,
 "nbformat_minor": 2
}
