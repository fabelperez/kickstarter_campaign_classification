{
 "cells": [
  {
   "cell_type": "markdown",
   "metadata": {},
   "source": [
    "# KICKSTERTER INTERMEDIATE DATA EXPLORATION"
   ]
  },
  {
   "cell_type": "code",
   "execution_count": 1,
   "metadata": {},
   "outputs": [],
   "source": [
    "import numpy as np\n",
    "import pandas as pd \n",
    "import matplotlib.pyplot as plt\n",
    "import seaborn as sns"
   ]
  },
  {
   "cell_type": "code",
   "execution_count": 4,
   "metadata": {},
   "outputs": [
    {
     "name": "stderr",
     "output_type": "stream",
     "text": [
      "/anaconda3/lib/python3.7/site-packages/IPython/core/interactiveshell.py:3020: DtypeWarning: Columns (11,15,16,17,21) have mixed types. Specify dtype option on import or set low_memory=False.\n",
      "  interactivity=interactivity, compiler=compiler, result=result)\n"
     ]
    }
   ],
   "source": [
    "kick_inter = pd.read_csv('../../data/02_intermediate/kick_inter.csv', \n",
    "                         parse_dates=['created_at', 'deadline', \n",
    "                                      'last_update_published_at', \n",
    "                                      'launched_at', 'state_changed_at'])"
   ]
  },
  {
   "cell_type": "code",
   "execution_count": 8,
   "metadata": {},
   "outputs": [],
   "source": [
    "pd.set_option('display.max_columns', None)"
   ]
  },
  {
   "cell_type": "code",
   "execution_count": 36,
   "metadata": {},
   "outputs": [
    {
     "data": {
      "text/plain": [
       "0.995106623930982"
      ]
     },
     "execution_count": 36,
     "metadata": {},
     "output_type": "execute_result"
    }
   ],
   "source": [
    "kick_inter.friends.isnull().sum()/len(kick_inter)"
   ]
  },
  {
   "cell_type": "code",
   "execution_count": 35,
   "metadata": {},
   "outputs": [
    {
     "data": {
      "text/plain": [
       "Index(['backers_count', 'blurb', 'converted_pledged_amount', 'country',\n",
       "       'created_at', 'currency', 'currency_symbol', 'currency_trailing_code',\n",
       "       'current_currency', 'deadline', 'disable_communication', 'friends',\n",
       "       'fx_rate', 'goal', 'id', 'is_backing', 'is_starrable', 'is_starred',\n",
       "       'last_update_published_at', 'launched_at', 'name', 'permissions',\n",
       "       'pledged', 'slug', 'source_url', 'spotlight', 'staff_pick', 'state',\n",
       "       'state_changed_at', 'static_usd_rate', 'unread_messages_count',\n",
       "       'unseen_activity_count', 'urls', 'usd_pledged', 'usd_type',\n",
       "       'sub_category', 'overall_category', 'city', 'country_loc', 'state_loc',\n",
       "       'creator_name', 'creator_slug'],\n",
       "      dtype='object')"
      ]
     },
     "execution_count": 35,
     "metadata": {},
     "output_type": "execute_result"
    }
   ],
   "source": [
    "kick_inter.columns"
   ]
  },
  {
   "cell_type": "markdown",
   "metadata": {},
   "source": [
    "**NOTE**: Let's think about the difference between analysis problem and building a model. For instance. The fact that there are both names and ID in the dataset is repetitive information. If we really want to keep the fact that some campaigns were relaunched/ renamed we need to make a boolean feature that is yes or no on that front (though we may not want to do this because it could be leaking future information). "
   ]
  },
  {
   "cell_type": "code",
   "execution_count": 48,
   "metadata": {},
   "outputs": [
    {
     "data": {
      "text/plain": [
       "0              dima01\n",
       "1            quempire\n",
       "2    giulianoclothing\n",
       "3        drankthegold\n",
       "4        aperiodpiece\n",
       "Name: creator_slug, dtype: object"
      ]
     },
     "execution_count": 48,
     "metadata": {},
     "output_type": "execute_result"
    }
   ],
   "source": [
    "kick_inter.creator_slug.head()"
   ]
  },
  {
   "cell_type": "code",
   "execution_count": 47,
   "metadata": {},
   "outputs": [
    {
     "data": {
      "text/plain": [
       "0                      Dima01\n",
       "1             quEmpire Gaming\n",
       "2           Giuliano Clothing\n",
       "3              Drank The Gold\n",
       "4    Anthony Stephen Hamilton\n",
       "Name: creator_name, dtype: object"
      ]
     },
     "execution_count": 47,
     "metadata": {},
     "output_type": "execute_result"
    }
   ],
   "source": [
    "kick_inter.creator_name.head()"
   ]
  },
  {
   "cell_type": "code",
   "execution_count": 45,
   "metadata": {},
   "outputs": [
    {
     "data": {
      "text/plain": [
       "0.41907305218699964"
      ]
     },
     "execution_count": 45,
     "metadata": {},
     "output_type": "execute_result"
    }
   ],
   "source": [
    "kick_inter.usd_type.isnull().sum()/len(kick_inter)"
   ]
  },
  {
   "cell_type": "markdown",
   "metadata": {},
   "source": [
    "## FEATURE ENGINEERING TO-DO LIST\n",
    "\n",
    "**COLUMNS TO DROP:**\n",
    "* backers_count: contains future information \n",
    "* blurb: good for NLP, but not for decision trees (every blurb is unique) \n",
    "* currency_symbol: This information is repeated in the currency column, and since these are not words it's difficult to interpret\n",
    "* currency_trailing_code - this column is redundant with currency column \n",
    "* current_currency - this column is redundant with currency column \n",
    "* friends - This column is ~ 99% empty \n",
    "* ID/ Name - we need to drop one of these columns (the information contained in them is redundant. Redundant information can make your model less effective. \n",
    "* is_backing - this column is ~ 99% empty \n",
    "* is_starrable - This looks like it could be leaking future data. Need to look into this column more\n",
    "* Permissions - this column is ~99% empty \n",
    "* slug - this column is redundant with name/ blurb\n",
    "* source_url - this is not needed for analysis\n",
    "* spotlight - this is leaking future information (not available when the campaign first comes online) \n",
    "* staff_pick - this is leaking future info\n",
    "* unread_message_count - this column is completly empty \n",
    "* unseen_activity_count - this column is completely empty \n",
    "* URL - this is not helpful for analysis \n",
    "* this seems to be redundant with currency column (and contains less information) \n",
    "* country_loc/ country - once it is established that these columns are the same, one needs to be dropped (should drop the country_loc column) \n",
    "* creator_name/ creator_slug - repetative information (one needs to be dropped). \n"
   ]
  },
  {
   "cell_type": "markdown",
   "metadata": {},
   "source": [
    "## EXPLORING OUR DATASET"
   ]
  },
  {
   "cell_type": "code",
   "execution_count": 10,
   "metadata": {},
   "outputs": [
    {
     "data": {
      "text/html": [
       "<div>\n",
       "<style scoped>\n",
       "    .dataframe tbody tr th:only-of-type {\n",
       "        vertical-align: middle;\n",
       "    }\n",
       "\n",
       "    .dataframe tbody tr th {\n",
       "        vertical-align: top;\n",
       "    }\n",
       "\n",
       "    .dataframe thead th {\n",
       "        text-align: right;\n",
       "    }\n",
       "</style>\n",
       "<table border=\"1\" class=\"dataframe\">\n",
       "  <thead>\n",
       "    <tr style=\"text-align: right;\">\n",
       "      <th></th>\n",
       "      <th>backers_count</th>\n",
       "      <th>blurb</th>\n",
       "      <th>converted_pledged_amount</th>\n",
       "      <th>country</th>\n",
       "      <th>created_at</th>\n",
       "      <th>currency</th>\n",
       "      <th>currency_symbol</th>\n",
       "      <th>currency_trailing_code</th>\n",
       "      <th>current_currency</th>\n",
       "      <th>deadline</th>\n",
       "      <th>disable_communication</th>\n",
       "      <th>friends</th>\n",
       "      <th>fx_rate</th>\n",
       "      <th>goal</th>\n",
       "      <th>id</th>\n",
       "      <th>is_backing</th>\n",
       "      <th>is_starrable</th>\n",
       "      <th>is_starred</th>\n",
       "      <th>last_update_published_at</th>\n",
       "      <th>launched_at</th>\n",
       "      <th>name</th>\n",
       "      <th>permissions</th>\n",
       "      <th>pledged</th>\n",
       "      <th>slug</th>\n",
       "      <th>source_url</th>\n",
       "      <th>spotlight</th>\n",
       "      <th>staff_pick</th>\n",
       "      <th>state</th>\n",
       "      <th>state_changed_at</th>\n",
       "      <th>static_usd_rate</th>\n",
       "      <th>unread_messages_count</th>\n",
       "      <th>unseen_activity_count</th>\n",
       "      <th>urls</th>\n",
       "      <th>usd_pledged</th>\n",
       "      <th>usd_type</th>\n",
       "      <th>sub_category</th>\n",
       "      <th>overall_category</th>\n",
       "      <th>city</th>\n",
       "      <th>country_loc</th>\n",
       "      <th>state_loc</th>\n",
       "      <th>creator_name</th>\n",
       "      <th>creator_slug</th>\n",
       "    </tr>\n",
       "  </thead>\n",
       "  <tbody>\n",
       "    <tr>\n",
       "      <th>0</th>\n",
       "      <td>0</td>\n",
       "      <td>I'm just going to say it, I'm not special. I'm...</td>\n",
       "      <td>0.0</td>\n",
       "      <td>US</td>\n",
       "      <td>2019-07-15 02:59:36</td>\n",
       "      <td>USD</td>\n",
       "      <td>$</td>\n",
       "      <td>True</td>\n",
       "      <td>USD</td>\n",
       "      <td>2019-08-17 05:04:48</td>\n",
       "      <td>False</td>\n",
       "      <td>NaN</td>\n",
       "      <td>1.000000</td>\n",
       "      <td>5000.0</td>\n",
       "      <td>1893102245</td>\n",
       "      <td>NaN</td>\n",
       "      <td>True</td>\n",
       "      <td>NaN</td>\n",
       "      <td>NaT</td>\n",
       "      <td>2019-07-18 05:04:48</td>\n",
       "      <td>Shirt and hat</td>\n",
       "      <td>NaN</td>\n",
       "      <td>0.0</td>\n",
       "      <td>shirt-and-hat</td>\n",
       "      <td>https://www.kickstarter.com/discover/categorie...</td>\n",
       "      <td>False</td>\n",
       "      <td>False</td>\n",
       "      <td>live</td>\n",
       "      <td>2019-07-18 05:04:48</td>\n",
       "      <td>1.000000</td>\n",
       "      <td>NaN</td>\n",
       "      <td>NaN</td>\n",
       "      <td>{\"web\":{\"project\":\"https://www.kickstarter.com...</td>\n",
       "      <td>0.0</td>\n",
       "      <td>domestic</td>\n",
       "      <td>Apparel</td>\n",
       "      <td>fashion/apparel</td>\n",
       "      <td>Wasilla</td>\n",
       "      <td>US</td>\n",
       "      <td>AK</td>\n",
       "      <td>Dima01</td>\n",
       "      <td>dima01</td>\n",
       "    </tr>\n",
       "    <tr>\n",
       "      <th>1</th>\n",
       "      <td>568</td>\n",
       "      <td>for Tabletop Role Playing Games like Dungeons ...</td>\n",
       "      <td>18969.0</td>\n",
       "      <td>US</td>\n",
       "      <td>2019-06-02 21:06:55</td>\n",
       "      <td>USD</td>\n",
       "      <td>$</td>\n",
       "      <td>True</td>\n",
       "      <td>USD</td>\n",
       "      <td>2019-07-18 03:55:00</td>\n",
       "      <td>False</td>\n",
       "      <td>NaN</td>\n",
       "      <td>1.000000</td>\n",
       "      <td>5000.0</td>\n",
       "      <td>1175125319</td>\n",
       "      <td>NaN</td>\n",
       "      <td>False</td>\n",
       "      <td>NaN</td>\n",
       "      <td>NaT</td>\n",
       "      <td>2019-06-16 02:20:41</td>\n",
       "      <td>RPG Minimalist Creature Dice &amp; Status / Condit...</td>\n",
       "      <td>NaN</td>\n",
       "      <td>18969.0</td>\n",
       "      <td>rpg-minimalist-creature-dice-and-status-condit...</td>\n",
       "      <td>https://www.kickstarter.com/discover/categorie...</td>\n",
       "      <td>True</td>\n",
       "      <td>False</td>\n",
       "      <td>successful</td>\n",
       "      <td>2019-07-18 03:55:01</td>\n",
       "      <td>1.000000</td>\n",
       "      <td>NaN</td>\n",
       "      <td>NaN</td>\n",
       "      <td>{\"web\":{\"project\":\"https://www.kickstarter.com...</td>\n",
       "      <td>18969.0</td>\n",
       "      <td>domestic</td>\n",
       "      <td>Tabletop Games</td>\n",
       "      <td>games/tabletop games</td>\n",
       "      <td>Holland</td>\n",
       "      <td>US</td>\n",
       "      <td>MI</td>\n",
       "      <td>quEmpire Gaming</td>\n",
       "      <td>quempire</td>\n",
       "    </tr>\n",
       "    <tr>\n",
       "      <th>2</th>\n",
       "      <td>0</td>\n",
       "      <td>Giuliano Clothing is on a mission to reinvent ...</td>\n",
       "      <td>0.0</td>\n",
       "      <td>CA</td>\n",
       "      <td>2019-07-17 23:13:13</td>\n",
       "      <td>CAD</td>\n",
       "      <td>$</td>\n",
       "      <td>True</td>\n",
       "      <td>USD</td>\n",
       "      <td>2019-08-17 03:50:07</td>\n",
       "      <td>False</td>\n",
       "      <td>NaN</td>\n",
       "      <td>0.766388</td>\n",
       "      <td>5000.0</td>\n",
       "      <td>1290757180</td>\n",
       "      <td>NaN</td>\n",
       "      <td>True</td>\n",
       "      <td>NaN</td>\n",
       "      <td>NaT</td>\n",
       "      <td>2019-07-18 03:50:07</td>\n",
       "      <td>Giuliano Clothing: Modern Fashion</td>\n",
       "      <td>NaN</td>\n",
       "      <td>0.0</td>\n",
       "      <td>giuliano-clothing-modern-fashion</td>\n",
       "      <td>https://www.kickstarter.com/discover/categorie...</td>\n",
       "      <td>False</td>\n",
       "      <td>False</td>\n",
       "      <td>live</td>\n",
       "      <td>2019-07-18 03:50:07</td>\n",
       "      <td>0.766254</td>\n",
       "      <td>NaN</td>\n",
       "      <td>NaN</td>\n",
       "      <td>{\"web\":{\"project\":\"https://www.kickstarter.com...</td>\n",
       "      <td>0.0</td>\n",
       "      <td>domestic</td>\n",
       "      <td>Fashion</td>\n",
       "      <td>fashion</td>\n",
       "      <td>Toronto</td>\n",
       "      <td>CA</td>\n",
       "      <td>ON</td>\n",
       "      <td>Giuliano Clothing</td>\n",
       "      <td>giulianoclothing</td>\n",
       "    </tr>\n",
       "  </tbody>\n",
       "</table>\n",
       "</div>"
      ],
      "text/plain": [
       "   backers_count                                              blurb  \\\n",
       "0              0  I'm just going to say it, I'm not special. I'm...   \n",
       "1            568  for Tabletop Role Playing Games like Dungeons ...   \n",
       "2              0  Giuliano Clothing is on a mission to reinvent ...   \n",
       "\n",
       "   converted_pledged_amount country          created_at currency  \\\n",
       "0                       0.0      US 2019-07-15 02:59:36      USD   \n",
       "1                   18969.0      US 2019-06-02 21:06:55      USD   \n",
       "2                       0.0      CA 2019-07-17 23:13:13      CAD   \n",
       "\n",
       "  currency_symbol  currency_trailing_code current_currency  \\\n",
       "0               $                    True              USD   \n",
       "1               $                    True              USD   \n",
       "2               $                    True              USD   \n",
       "\n",
       "             deadline  disable_communication friends   fx_rate    goal  \\\n",
       "0 2019-08-17 05:04:48                  False     NaN  1.000000  5000.0   \n",
       "1 2019-07-18 03:55:00                  False     NaN  1.000000  5000.0   \n",
       "2 2019-08-17 03:50:07                  False     NaN  0.766388  5000.0   \n",
       "\n",
       "           id is_backing is_starrable is_starred last_update_published_at  \\\n",
       "0  1893102245        NaN         True        NaN                      NaT   \n",
       "1  1175125319        NaN        False        NaN                      NaT   \n",
       "2  1290757180        NaN         True        NaN                      NaT   \n",
       "\n",
       "          launched_at                                               name  \\\n",
       "0 2019-07-18 05:04:48                                      Shirt and hat   \n",
       "1 2019-06-16 02:20:41  RPG Minimalist Creature Dice & Status / Condit...   \n",
       "2 2019-07-18 03:50:07                  Giuliano Clothing: Modern Fashion   \n",
       "\n",
       "  permissions  pledged                                               slug  \\\n",
       "0         NaN      0.0                                      shirt-and-hat   \n",
       "1         NaN  18969.0  rpg-minimalist-creature-dice-and-status-condit...   \n",
       "2         NaN      0.0                   giuliano-clothing-modern-fashion   \n",
       "\n",
       "                                          source_url  spotlight  staff_pick  \\\n",
       "0  https://www.kickstarter.com/discover/categorie...      False       False   \n",
       "1  https://www.kickstarter.com/discover/categorie...       True       False   \n",
       "2  https://www.kickstarter.com/discover/categorie...      False       False   \n",
       "\n",
       "        state    state_changed_at  static_usd_rate  unread_messages_count  \\\n",
       "0        live 2019-07-18 05:04:48         1.000000                    NaN   \n",
       "1  successful 2019-07-18 03:55:01         1.000000                    NaN   \n",
       "2        live 2019-07-18 03:50:07         0.766254                    NaN   \n",
       "\n",
       "   unseen_activity_count                                               urls  \\\n",
       "0                    NaN  {\"web\":{\"project\":\"https://www.kickstarter.com...   \n",
       "1                    NaN  {\"web\":{\"project\":\"https://www.kickstarter.com...   \n",
       "2                    NaN  {\"web\":{\"project\":\"https://www.kickstarter.com...   \n",
       "\n",
       "   usd_pledged  usd_type    sub_category      overall_category     city  \\\n",
       "0          0.0  domestic         Apparel       fashion/apparel  Wasilla   \n",
       "1      18969.0  domestic  Tabletop Games  games/tabletop games  Holland   \n",
       "2          0.0  domestic         Fashion               fashion  Toronto   \n",
       "\n",
       "  country_loc state_loc       creator_name      creator_slug  \n",
       "0          US        AK             Dima01            dima01  \n",
       "1          US        MI    quEmpire Gaming          quempire  \n",
       "2          CA        ON  Giuliano Clothing  giulianoclothing  "
      ]
     },
     "execution_count": 10,
     "metadata": {},
     "output_type": "execute_result"
    }
   ],
   "source": [
    "kick_inter.head(3)"
   ]
  },
  {
   "cell_type": "code",
   "execution_count": 5,
   "metadata": {},
   "outputs": [
    {
     "data": {
      "text/plain": [
       "Index(['backers_count', 'blurb', 'converted_pledged_amount', 'country',\n",
       "       'created_at', 'currency', 'currency_symbol', 'currency_trailing_code',\n",
       "       'current_currency', 'deadline', 'disable_communication', 'friends',\n",
       "       'fx_rate', 'goal', 'id', 'is_backing', 'is_starrable', 'is_starred',\n",
       "       'last_update_published_at', 'launched_at', 'name', 'permissions',\n",
       "       'pledged', 'slug', 'source_url', 'spotlight', 'staff_pick', 'state',\n",
       "       'state_changed_at', 'static_usd_rate', 'unread_messages_count',\n",
       "       'unseen_activity_count', 'urls', 'usd_pledged', 'usd_type',\n",
       "       'sub_category', 'overall_category', 'city', 'country_loc', 'state_loc',\n",
       "       'creator_name', 'creator_slug'],\n",
       "      dtype='object')"
      ]
     },
     "execution_count": 5,
     "metadata": {},
     "output_type": "execute_result"
    }
   ],
   "source": [
    "kick_inter.columns"
   ]
  },
  {
   "cell_type": "code",
   "execution_count": 6,
   "metadata": {},
   "outputs": [
    {
     "name": "stdout",
     "output_type": "stream",
     "text": [
      "<class 'pandas.core.frame.DataFrame'>\n",
      "RangeIndex: 332899 entries, 0 to 332898\n",
      "Data columns (total 42 columns):\n",
      "backers_count               332899 non-null int64\n",
      "blurb                       332889 non-null object\n",
      "converted_pledged_amount    195183 non-null float64\n",
      "country                     332899 non-null object\n",
      "created_at                  332899 non-null datetime64[ns]\n",
      "currency                    332899 non-null object\n",
      "currency_symbol             332899 non-null object\n",
      "currency_trailing_code      332899 non-null bool\n",
      "current_currency            195183 non-null object\n",
      "deadline                    332899 non-null datetime64[ns]\n",
      "disable_communication       332899 non-null bool\n",
      "friends                     1629 non-null object\n",
      "fx_rate                     185035 non-null float64\n",
      "goal                        332899 non-null float64\n",
      "id                          332899 non-null int64\n",
      "is_backing                  1629 non-null object\n",
      "is_starrable                206127 non-null object\n",
      "is_starred                  1629 non-null object\n",
      "last_update_published_at    0 non-null datetime64[ns]\n",
      "launched_at                 332899 non-null datetime64[ns]\n",
      "name                        332898 non-null object\n",
      "permissions                 1498 non-null object\n",
      "pledged                     332899 non-null float64\n",
      "slug                        332899 non-null object\n",
      "source_url                  288499 non-null object\n",
      "spotlight                   332899 non-null bool\n",
      "staff_pick                  332899 non-null bool\n",
      "state                       332899 non-null object\n",
      "state_changed_at            332899 non-null datetime64[ns]\n",
      "static_usd_rate             332899 non-null float64\n",
      "unread_messages_count       0 non-null float64\n",
      "unseen_activity_count       0 non-null float64\n",
      "urls                        332899 non-null object\n",
      "usd_pledged                 332899 non-null float64\n",
      "usd_type                    193390 non-null object\n",
      "sub_category                332899 non-null object\n",
      "overall_category            332899 non-null object\n",
      "city                        199383 non-null object\n",
      "country_loc                 331821 non-null object\n",
      "state_loc                   331741 non-null object\n",
      "creator_name                332868 non-null object\n",
      "creator_slug                105293 non-null object\n",
      "dtypes: bool(4), datetime64[ns](5), float64(8), int64(2), object(23)\n",
      "memory usage: 97.8+ MB\n"
     ]
    }
   ],
   "source": [
    "kick_inter.info()"
   ]
  },
  {
   "cell_type": "code",
   "execution_count": 11,
   "metadata": {},
   "outputs": [
    {
     "data": {
      "text/html": [
       "<div>\n",
       "<style scoped>\n",
       "    .dataframe tbody tr th:only-of-type {\n",
       "        vertical-align: middle;\n",
       "    }\n",
       "\n",
       "    .dataframe tbody tr th {\n",
       "        vertical-align: top;\n",
       "    }\n",
       "\n",
       "    .dataframe thead th {\n",
       "        text-align: right;\n",
       "    }\n",
       "</style>\n",
       "<table border=\"1\" class=\"dataframe\">\n",
       "  <thead>\n",
       "    <tr style=\"text-align: right;\">\n",
       "      <th></th>\n",
       "      <th>count</th>\n",
       "      <th>mean</th>\n",
       "      <th>std</th>\n",
       "      <th>min</th>\n",
       "      <th>25%</th>\n",
       "      <th>50%</th>\n",
       "      <th>75%</th>\n",
       "      <th>max</th>\n",
       "    </tr>\n",
       "  </thead>\n",
       "  <tbody>\n",
       "    <tr>\n",
       "      <th>backers_count</th>\n",
       "      <td>332899.0</td>\n",
       "      <td>1.398791e+02</td>\n",
       "      <td>1.036208e+03</td>\n",
       "      <td>0.000000</td>\n",
       "      <td>3.0</td>\n",
       "      <td>1.800000e+01</td>\n",
       "      <td>7.400000e+01</td>\n",
       "      <td>2.193820e+05</td>\n",
       "    </tr>\n",
       "    <tr>\n",
       "      <th>converted_pledged_amount</th>\n",
       "      <td>195183.0</td>\n",
       "      <td>1.330894e+04</td>\n",
       "      <td>9.614274e+04</td>\n",
       "      <td>0.000000</td>\n",
       "      <td>105.0</td>\n",
       "      <td>1.405000e+03</td>\n",
       "      <td>6.289000e+03</td>\n",
       "      <td>1.138545e+07</td>\n",
       "    </tr>\n",
       "    <tr>\n",
       "      <th>fx_rate</th>\n",
       "      <td>185035.0</td>\n",
       "      <td>1.042613e+00</td>\n",
       "      <td>2.324627e+00</td>\n",
       "      <td>0.006597</td>\n",
       "      <td>1.0</td>\n",
       "      <td>1.000000e+00</td>\n",
       "      <td>1.000000e+00</td>\n",
       "      <td>1.507221e+02</td>\n",
       "    </tr>\n",
       "    <tr>\n",
       "      <th>goal</th>\n",
       "      <td>332899.0</td>\n",
       "      <td>4.666533e+04</td>\n",
       "      <td>1.085352e+06</td>\n",
       "      <td>0.010000</td>\n",
       "      <td>2000.0</td>\n",
       "      <td>5.000000e+03</td>\n",
       "      <td>1.500000e+04</td>\n",
       "      <td>1.000000e+08</td>\n",
       "    </tr>\n",
       "    <tr>\n",
       "      <th>id</th>\n",
       "      <td>332899.0</td>\n",
       "      <td>1.074464e+09</td>\n",
       "      <td>6.193287e+08</td>\n",
       "      <td>8624.000000</td>\n",
       "      <td>536884623.5</td>\n",
       "      <td>1.076563e+09</td>\n",
       "      <td>1.609570e+09</td>\n",
       "      <td>2.147476e+09</td>\n",
       "    </tr>\n",
       "    <tr>\n",
       "      <th>pledged</th>\n",
       "      <td>332899.0</td>\n",
       "      <td>1.550432e+04</td>\n",
       "      <td>2.928070e+05</td>\n",
       "      <td>0.000000</td>\n",
       "      <td>57.0</td>\n",
       "      <td>1.024000e+03</td>\n",
       "      <td>5.525000e+03</td>\n",
       "      <td>9.886382e+07</td>\n",
       "    </tr>\n",
       "    <tr>\n",
       "      <th>static_usd_rate</th>\n",
       "      <td>332899.0</td>\n",
       "      <td>1.010866e+00</td>\n",
       "      <td>2.191453e-01</td>\n",
       "      <td>0.008771</td>\n",
       "      <td>1.0</td>\n",
       "      <td>1.000000e+00</td>\n",
       "      <td>1.000000e+00</td>\n",
       "      <td>1.716408e+00</td>\n",
       "    </tr>\n",
       "    <tr>\n",
       "      <th>unread_messages_count</th>\n",
       "      <td>0.0</td>\n",
       "      <td>NaN</td>\n",
       "      <td>NaN</td>\n",
       "      <td>NaN</td>\n",
       "      <td>NaN</td>\n",
       "      <td>NaN</td>\n",
       "      <td>NaN</td>\n",
       "      <td>NaN</td>\n",
       "    </tr>\n",
       "    <tr>\n",
       "      <th>unseen_activity_count</th>\n",
       "      <td>0.0</td>\n",
       "      <td>NaN</td>\n",
       "      <td>NaN</td>\n",
       "      <td>NaN</td>\n",
       "      <td>NaN</td>\n",
       "      <td>NaN</td>\n",
       "      <td>NaN</td>\n",
       "      <td>NaN</td>\n",
       "    </tr>\n",
       "    <tr>\n",
       "      <th>usd_pledged</th>\n",
       "      <td>332899.0</td>\n",
       "      <td>1.209119e+04</td>\n",
       "      <td>1.068236e+05</td>\n",
       "      <td>0.000000</td>\n",
       "      <td>56.0</td>\n",
       "      <td>1.005000e+03</td>\n",
       "      <td>5.359000e+03</td>\n",
       "      <td>2.033899e+07</td>\n",
       "    </tr>\n",
       "  </tbody>\n",
       "</table>\n",
       "</div>"
      ],
      "text/plain": [
       "                             count          mean           std          min  \\\n",
       "backers_count             332899.0  1.398791e+02  1.036208e+03     0.000000   \n",
       "converted_pledged_amount  195183.0  1.330894e+04  9.614274e+04     0.000000   \n",
       "fx_rate                   185035.0  1.042613e+00  2.324627e+00     0.006597   \n",
       "goal                      332899.0  4.666533e+04  1.085352e+06     0.010000   \n",
       "id                        332899.0  1.074464e+09  6.193287e+08  8624.000000   \n",
       "pledged                   332899.0  1.550432e+04  2.928070e+05     0.000000   \n",
       "static_usd_rate           332899.0  1.010866e+00  2.191453e-01     0.008771   \n",
       "unread_messages_count          0.0           NaN           NaN          NaN   \n",
       "unseen_activity_count          0.0           NaN           NaN          NaN   \n",
       "usd_pledged               332899.0  1.209119e+04  1.068236e+05     0.000000   \n",
       "\n",
       "                                  25%           50%           75%  \\\n",
       "backers_count                     3.0  1.800000e+01  7.400000e+01   \n",
       "converted_pledged_amount        105.0  1.405000e+03  6.289000e+03   \n",
       "fx_rate                           1.0  1.000000e+00  1.000000e+00   \n",
       "goal                           2000.0  5.000000e+03  1.500000e+04   \n",
       "id                        536884623.5  1.076563e+09  1.609570e+09   \n",
       "pledged                          57.0  1.024000e+03  5.525000e+03   \n",
       "static_usd_rate                   1.0  1.000000e+00  1.000000e+00   \n",
       "unread_messages_count             NaN           NaN           NaN   \n",
       "unseen_activity_count             NaN           NaN           NaN   \n",
       "usd_pledged                      56.0  1.005000e+03  5.359000e+03   \n",
       "\n",
       "                                   max  \n",
       "backers_count             2.193820e+05  \n",
       "converted_pledged_amount  1.138545e+07  \n",
       "fx_rate                   1.507221e+02  \n",
       "goal                      1.000000e+08  \n",
       "id                        2.147476e+09  \n",
       "pledged                   9.886382e+07  \n",
       "static_usd_rate           1.716408e+00  \n",
       "unread_messages_count              NaN  \n",
       "unseen_activity_count              NaN  \n",
       "usd_pledged               2.033899e+07  "
      ]
     },
     "execution_count": 11,
     "metadata": {},
     "output_type": "execute_result"
    }
   ],
   "source": [
    "kick_inter.describe().T"
   ]
  },
  {
   "cell_type": "code",
   "execution_count": 14,
   "metadata": {},
   "outputs": [
    {
     "data": {
      "text/plain": [
       "0    US\n",
       "dtype: object"
      ]
     },
     "execution_count": 14,
     "metadata": {},
     "output_type": "execute_result"
    }
   ],
   "source": [
    "kick_inter.country.mode()"
   ]
  },
  {
   "cell_type": "code",
   "execution_count": 18,
   "metadata": {},
   "outputs": [
    {
     "data": {
      "text/plain": [
       "US    244692\n",
       "GB     32424\n",
       "CA     14335\n",
       "AU      7556\n",
       "DE      5087\n",
       "FR      3897\n",
       "IT      3715\n",
       "MX      3201\n",
       "ES      3144\n",
       "NL      2780\n",
       "SE      2030\n",
       "HK      1513\n",
       "NZ      1414\n",
       "DK      1252\n",
       "SG      1087\n",
       "CH       987\n",
       "IE       924\n",
       "BE       851\n",
       "NO       752\n",
       "AT       742\n",
       "JP       435\n",
       "LU        81\n",
       "Name: country, dtype: int64"
      ]
     },
     "execution_count": 18,
     "metadata": {},
     "output_type": "execute_result"
    }
   ],
   "source": [
    "kick_inter.country.value_counts()"
   ]
  },
  {
   "cell_type": "code",
   "execution_count": 26,
   "metadata": {},
   "outputs": [
    {
     "data": {
      "text/plain": [
       "147864"
      ]
     },
     "execution_count": 26,
     "metadata": {},
     "output_type": "execute_result"
    }
   ],
   "source": [
    "kick_inter.fx_rate.isnull().sum()"
   ]
  },
  {
   "cell_type": "code",
   "execution_count": 28,
   "metadata": {},
   "outputs": [
    {
     "data": {
      "text/plain": [
       "331270"
      ]
     },
     "execution_count": 28,
     "metadata": {},
     "output_type": "execute_result"
    }
   ],
   "source": [
    "kick_inter.is_backing.isnull().sum()"
   ]
  },
  {
   "cell_type": "code",
   "execution_count": 31,
   "metadata": {},
   "outputs": [
    {
     "data": {
      "text/plain": [
       "332899"
      ]
     },
     "execution_count": 31,
     "metadata": {},
     "output_type": "execute_result"
    }
   ],
   "source": [
    "kick_inter.unread_messages_count.isnull().sum()"
   ]
  },
  {
   "cell_type": "code",
   "execution_count": 34,
   "metadata": {},
   "outputs": [
    {
     "data": {
      "text/plain": [
       "332899"
      ]
     },
     "execution_count": 34,
     "metadata": {},
     "output_type": "execute_result"
    }
   ],
   "source": [
    "kick_inter.unseen_activity_count.isnull().sum()"
   ]
  },
  {
   "cell_type": "code",
   "execution_count": null,
   "metadata": {},
   "outputs": [],
   "source": []
  }
 ],
 "metadata": {
  "kernelspec": {
   "display_name": "Python 3",
   "language": "python",
   "name": "python3"
  },
  "language_info": {
   "codemirror_mode": {
    "name": "ipython",
    "version": 3
   },
   "file_extension": ".py",
   "mimetype": "text/x-python",
   "name": "python",
   "nbconvert_exporter": "python",
   "pygments_lexer": "ipython3",
   "version": "3.7.1"
  },
  "toc": {
   "base_numbering": 1,
   "nav_menu": {},
   "number_sections": true,
   "sideBar": true,
   "skip_h1_title": true,
   "title_cell": "Table of Contents",
   "title_sidebar": "Contents",
   "toc_cell": false,
   "toc_position": {},
   "toc_section_display": true,
   "toc_window_display": false
  }
 },
 "nbformat": 4,
 "nbformat_minor": 2
}
