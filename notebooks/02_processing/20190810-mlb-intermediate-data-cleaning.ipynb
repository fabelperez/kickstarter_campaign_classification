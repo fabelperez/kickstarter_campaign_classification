{
 "cells": [
  {
   "cell_type": "markdown",
   "metadata": {},
   "source": [
    "# WAZE INTERMEDIATE DATA CLEANING"
   ]
  },
  {
   "cell_type": "code",
   "execution_count": 1,
   "metadata": {},
   "outputs": [],
   "source": [
    "import numpy as np\n",
    "import pandas as pd\n",
    "import matplotlib.pyplot as plt\n",
    "import seaborn as sns\n",
    "import datetime"
   ]
  },
  {
   "cell_type": "code",
   "execution_count": 53,
   "metadata": {},
   "outputs": [],
   "source": [
    "waze = pd.read_csv('../../data/01_raw/waze.csv')"
   ]
  },
  {
   "cell_type": "markdown",
   "metadata": {},
   "source": [
    "## Issues discovered during data exploration: \n",
    "\n",
    "1. **Country** - There are 15 different unique values listed in the country variables After closer inspection, the 355 entries without with values other than US have NaN values in every row. These rows should be dropped during cleaning.\n",
    "1. **nTHumbsup** - The vast majority of the column contains 0 values. This does not look like it will add useful information. This will need to be dropped in data cleaning. \n",
    "1. **type** - Weatherhazard needs to be broken up into hazard and weather hazard. \n",
    "1. **street** - 2% of street names in the dataset are missing (that's over 200K out of 10 Million). \n",
    "1. **pubmills** - This needs to be turned into a timestamp ((Unix time – milliseconds since epoch))\n",
    "1. **scrapedt** - This is the date that the data wasscraped from the site\n",
    "1. **subtype** - change all nan values to NO_SUBTYPE"
   ]
  },
  {
   "cell_type": "code",
   "execution_count": 54,
   "metadata": {},
   "outputs": [
    {
     "name": "stdout",
     "output_type": "stream",
     "text": [
      "<class 'pandas.core.frame.DataFrame'>\n",
      "RangeIndex: 10055207 entries, 0 to 10055206\n",
      "Data columns (total 17 columns):\n",
      "country              object\n",
      "nTHumbsUp            float64\n",
      "city                 object\n",
      "reportRating         float64\n",
      "confidence           float64\n",
      "reliability          float64\n",
      "type                 object\n",
      "uuid                 object\n",
      "roadType             float64\n",
      "magvar               float64\n",
      "subtype              object\n",
      "street               object\n",
      "location_x           float64\n",
      "location_y           float64\n",
      "pubMillis            float64\n",
      "reportDescription    object\n",
      "scrape_dt            object\n",
      "dtypes: float64(9), object(8)\n",
      "memory usage: 1.3+ GB\n"
     ]
    }
   ],
   "source": [
    "waze.info()"
   ]
  },
  {
   "cell_type": "code",
   "execution_count": 56,
   "metadata": {},
   "outputs": [
    {
     "data": {
      "text/html": [
       "<div>\n",
       "<style scoped>\n",
       "    .dataframe tbody tr th:only-of-type {\n",
       "        vertical-align: middle;\n",
       "    }\n",
       "\n",
       "    .dataframe tbody tr th {\n",
       "        vertical-align: top;\n",
       "    }\n",
       "\n",
       "    .dataframe thead th {\n",
       "        text-align: right;\n",
       "    }\n",
       "</style>\n",
       "<table border=\"1\" class=\"dataframe\">\n",
       "  <thead>\n",
       "    <tr style=\"text-align: right;\">\n",
       "      <th></th>\n",
       "      <th>country</th>\n",
       "      <th>nTHumbsUp</th>\n",
       "      <th>city</th>\n",
       "      <th>reportRating</th>\n",
       "      <th>confidence</th>\n",
       "      <th>reliability</th>\n",
       "      <th>type</th>\n",
       "      <th>uuid</th>\n",
       "      <th>roadType</th>\n",
       "      <th>magvar</th>\n",
       "      <th>subtype</th>\n",
       "      <th>street</th>\n",
       "      <th>location_x</th>\n",
       "      <th>location_y</th>\n",
       "      <th>pubMillis</th>\n",
       "      <th>reportDescription</th>\n",
       "      <th>scrape_dt</th>\n",
       "    </tr>\n",
       "  </thead>\n",
       "  <tbody>\n",
       "    <tr>\n",
       "      <th>0</th>\n",
       "      <td>US</td>\n",
       "      <td>0.0</td>\n",
       "      <td>Joliet, IL</td>\n",
       "      <td>0.0</td>\n",
       "      <td>0.0</td>\n",
       "      <td>7.0</td>\n",
       "      <td>ROAD_CLOSED</td>\n",
       "      <td>12d90f41-fd58-3d73-9bac-d2d24a4e1dbb</td>\n",
       "      <td>0.0</td>\n",
       "      <td>0.0</td>\n",
       "      <td>ROAD_CLOSED_EVENT</td>\n",
       "      <td>Briggs St</td>\n",
       "      <td>-88.04366</td>\n",
       "      <td>41.54111</td>\n",
       "      <td>1.510536e+12</td>\n",
       "      <td>Road Closed</td>\n",
       "      <td>2017-11-15T09:21:00Z</td>\n",
       "    </tr>\n",
       "    <tr>\n",
       "      <th>1</th>\n",
       "      <td>US</td>\n",
       "      <td>0.0</td>\n",
       "      <td>NaN</td>\n",
       "      <td>0.0</td>\n",
       "      <td>3.0</td>\n",
       "      <td>10.0</td>\n",
       "      <td>ROAD_CLOSED</td>\n",
       "      <td>6bd6a1ff-55b3-3e57-8a57-13ef89e4b391</td>\n",
       "      <td>0.0</td>\n",
       "      <td>0.0</td>\n",
       "      <td>ROAD_CLOSED_EVENT</td>\n",
       "      <td>Smith Rd</td>\n",
       "      <td>-88.02769</td>\n",
       "      <td>41.64151</td>\n",
       "      <td>1.504565e+12</td>\n",
       "      <td>Construction</td>\n",
       "      <td>2017-11-15T09:21:00Z</td>\n",
       "    </tr>\n",
       "    <tr>\n",
       "      <th>2</th>\n",
       "      <td>US</td>\n",
       "      <td>0.0</td>\n",
       "      <td>Lemont, IL</td>\n",
       "      <td>0.0</td>\n",
       "      <td>0.0</td>\n",
       "      <td>7.0</td>\n",
       "      <td>ROAD_CLOSED</td>\n",
       "      <td>0e957bc8-cdcc-395e-913c-facbef9a4494</td>\n",
       "      <td>0.0</td>\n",
       "      <td>0.0</td>\n",
       "      <td>ROAD_CLOSED_EVENT</td>\n",
       "      <td>135th St</td>\n",
       "      <td>-88.00416</td>\n",
       "      <td>41.64081</td>\n",
       "      <td>1.510366e+12</td>\n",
       "      <td>Road Closed</td>\n",
       "      <td>2017-11-15T09:21:00Z</td>\n",
       "    </tr>\n",
       "    <tr>\n",
       "      <th>3</th>\n",
       "      <td>US</td>\n",
       "      <td>0.0</td>\n",
       "      <td>Joliet, IL</td>\n",
       "      <td>0.0</td>\n",
       "      <td>0.0</td>\n",
       "      <td>6.0</td>\n",
       "      <td>ROAD_CLOSED</td>\n",
       "      <td>dfa91aba-dc86-365d-b270-0572fca5ccab</td>\n",
       "      <td>0.0</td>\n",
       "      <td>0.0</td>\n",
       "      <td>ROAD_CLOSED_EVENT</td>\n",
       "      <td>Briggs St</td>\n",
       "      <td>-88.04355</td>\n",
       "      <td>41.53795</td>\n",
       "      <td>1.510536e+12</td>\n",
       "      <td>Road Closed</td>\n",
       "      <td>2017-11-15T09:21:00Z</td>\n",
       "    </tr>\n",
       "    <tr>\n",
       "      <th>4</th>\n",
       "      <td>US</td>\n",
       "      <td>0.0</td>\n",
       "      <td>Lemont, IL</td>\n",
       "      <td>0.0</td>\n",
       "      <td>0.0</td>\n",
       "      <td>7.0</td>\n",
       "      <td>ROAD_CLOSED</td>\n",
       "      <td>4e9af18a-fde4-3f5b-9aeb-1d471988b735</td>\n",
       "      <td>0.0</td>\n",
       "      <td>0.0</td>\n",
       "      <td>ROAD_CLOSED_EVENT</td>\n",
       "      <td>135th St</td>\n",
       "      <td>-88.00494</td>\n",
       "      <td>41.64137</td>\n",
       "      <td>1.510366e+12</td>\n",
       "      <td>Road Closed</td>\n",
       "      <td>2017-11-15T09:21:00Z</td>\n",
       "    </tr>\n",
       "  </tbody>\n",
       "</table>\n",
       "</div>"
      ],
      "text/plain": [
       "  country  nTHumbsUp        city  reportRating  confidence  reliability  \\\n",
       "0      US        0.0  Joliet, IL           0.0         0.0          7.0   \n",
       "1      US        0.0         NaN           0.0         3.0         10.0   \n",
       "2      US        0.0  Lemont, IL           0.0         0.0          7.0   \n",
       "3      US        0.0  Joliet, IL           0.0         0.0          6.0   \n",
       "4      US        0.0  Lemont, IL           0.0         0.0          7.0   \n",
       "\n",
       "          type                                  uuid  roadType  magvar  \\\n",
       "0  ROAD_CLOSED  12d90f41-fd58-3d73-9bac-d2d24a4e1dbb       0.0     0.0   \n",
       "1  ROAD_CLOSED  6bd6a1ff-55b3-3e57-8a57-13ef89e4b391       0.0     0.0   \n",
       "2  ROAD_CLOSED  0e957bc8-cdcc-395e-913c-facbef9a4494       0.0     0.0   \n",
       "3  ROAD_CLOSED  dfa91aba-dc86-365d-b270-0572fca5ccab       0.0     0.0   \n",
       "4  ROAD_CLOSED  4e9af18a-fde4-3f5b-9aeb-1d471988b735       0.0     0.0   \n",
       "\n",
       "             subtype     street  location_x  location_y     pubMillis  \\\n",
       "0  ROAD_CLOSED_EVENT  Briggs St   -88.04366    41.54111  1.510536e+12   \n",
       "1  ROAD_CLOSED_EVENT   Smith Rd   -88.02769    41.64151  1.504565e+12   \n",
       "2  ROAD_CLOSED_EVENT   135th St   -88.00416    41.64081  1.510366e+12   \n",
       "3  ROAD_CLOSED_EVENT  Briggs St   -88.04355    41.53795  1.510536e+12   \n",
       "4  ROAD_CLOSED_EVENT   135th St   -88.00494    41.64137  1.510366e+12   \n",
       "\n",
       "  reportDescription             scrape_dt  \n",
       "0       Road Closed  2017-11-15T09:21:00Z  \n",
       "1      Construction  2017-11-15T09:21:00Z  \n",
       "2       Road Closed  2017-11-15T09:21:00Z  \n",
       "3       Road Closed  2017-11-15T09:21:00Z  \n",
       "4       Road Closed  2017-11-15T09:21:00Z  "
      ]
     },
     "execution_count": 56,
     "metadata": {},
     "output_type": "execute_result"
    }
   ],
   "source": [
    "waze.head()"
   ]
  },
  {
   "cell_type": "code",
   "execution_count": 5,
   "metadata": {},
   "outputs": [
    {
     "data": {
      "text/plain": [
       "country                  175\n",
       "nTHumbsUp                  8\n",
       "city                 2761258\n",
       "reportRating             355\n",
       "confidence               355\n",
       "reliability              355\n",
       "type                     355\n",
       "uuid                     355\n",
       "roadType                 355\n",
       "magvar                   355\n",
       "subtype               403764\n",
       "street                230610\n",
       "location_x               355\n",
       "location_y               355\n",
       "pubMillis                355\n",
       "reportDescription    8031443\n",
       "scrape_dt                488\n",
       "dtype: int64"
      ]
     },
     "execution_count": 5,
     "metadata": {},
     "output_type": "execute_result"
    }
   ],
   "source": [
    "waze.isnull().sum()"
   ]
  },
  {
   "cell_type": "markdown",
   "metadata": {},
   "source": [
    "There are 355 entries that are completely null in every category. I'll drop these entries. "
   ]
  },
  {
   "cell_type": "code",
   "execution_count": 6,
   "metadata": {},
   "outputs": [],
   "source": [
    "waze.dropna(subset=['pubMillis'], inplace=True)"
   ]
  },
  {
   "cell_type": "code",
   "execution_count": 7,
   "metadata": {},
   "outputs": [
    {
     "data": {
      "text/plain": [
       "country                    0\n",
       "nTHumbsUp                  0\n",
       "city                 2760903\n",
       "reportRating               0\n",
       "confidence                 0\n",
       "reliability                0\n",
       "type                       0\n",
       "uuid                       0\n",
       "roadType                   0\n",
       "magvar                     0\n",
       "subtype               403409\n",
       "street                230255\n",
       "location_x                 0\n",
       "location_y                 0\n",
       "pubMillis                  0\n",
       "reportDescription    8031088\n",
       "scrape_dt                133\n",
       "dtype: int64"
      ]
     },
     "execution_count": 7,
     "metadata": {},
     "output_type": "execute_result"
    }
   ],
   "source": [
    "waze.isnull().sum()"
   ]
  },
  {
   "cell_type": "markdown",
   "metadata": {},
   "source": [
    "Let's change the remaining subtype nan values to 'NO_SUBTYPE'"
   ]
  },
  {
   "cell_type": "code",
   "execution_count": 8,
   "metadata": {},
   "outputs": [],
   "source": [
    "waze.subtype.fillna(value='NO_SUBTYPE', inplace=True)"
   ]
  },
  {
   "cell_type": "code",
   "execution_count": 9,
   "metadata": {},
   "outputs": [
    {
     "data": {
      "text/plain": [
       "country                    0\n",
       "nTHumbsUp                  0\n",
       "city                 2760903\n",
       "reportRating               0\n",
       "confidence                 0\n",
       "reliability                0\n",
       "type                       0\n",
       "uuid                       0\n",
       "roadType                   0\n",
       "magvar                     0\n",
       "subtype                    0\n",
       "street                230255\n",
       "location_x                 0\n",
       "location_y                 0\n",
       "pubMillis                  0\n",
       "reportDescription    8031088\n",
       "scrape_dt                133\n",
       "dtype: int64"
      ]
     },
     "execution_count": 9,
     "metadata": {},
     "output_type": "execute_result"
    }
   ],
   "source": [
    "waze.isnull().sum()"
   ]
  },
  {
   "cell_type": "markdown",
   "metadata": {},
   "source": [
    "**CHANGE PUBMILLS TO DATETIME OBJECT**"
   ]
  },
  {
   "cell_type": "code",
   "execution_count": 59,
   "metadata": {},
   "outputs": [],
   "source": [
    "waze['pubMillis'] = pd.to_numeric(waze['pubMillis'], downcast='integer')"
   ]
  },
  {
   "cell_type": "code",
   "execution_count": 60,
   "metadata": {},
   "outputs": [
    {
     "data": {
      "text/html": [
       "<div>\n",
       "<style scoped>\n",
       "    .dataframe tbody tr th:only-of-type {\n",
       "        vertical-align: middle;\n",
       "    }\n",
       "\n",
       "    .dataframe tbody tr th {\n",
       "        vertical-align: top;\n",
       "    }\n",
       "\n",
       "    .dataframe thead th {\n",
       "        text-align: right;\n",
       "    }\n",
       "</style>\n",
       "<table border=\"1\" class=\"dataframe\">\n",
       "  <thead>\n",
       "    <tr style=\"text-align: right;\">\n",
       "      <th></th>\n",
       "      <th>country</th>\n",
       "      <th>nTHumbsUp</th>\n",
       "      <th>city</th>\n",
       "      <th>reportRating</th>\n",
       "      <th>confidence</th>\n",
       "      <th>reliability</th>\n",
       "      <th>type</th>\n",
       "      <th>uuid</th>\n",
       "      <th>roadType</th>\n",
       "      <th>magvar</th>\n",
       "      <th>subtype</th>\n",
       "      <th>street</th>\n",
       "      <th>location_x</th>\n",
       "      <th>location_y</th>\n",
       "      <th>pubMillis</th>\n",
       "      <th>reportDescription</th>\n",
       "      <th>scrape_dt</th>\n",
       "    </tr>\n",
       "  </thead>\n",
       "  <tbody>\n",
       "    <tr>\n",
       "      <th>0</th>\n",
       "      <td>US</td>\n",
       "      <td>0.0</td>\n",
       "      <td>Joliet, IL</td>\n",
       "      <td>0.0</td>\n",
       "      <td>0.0</td>\n",
       "      <td>7.0</td>\n",
       "      <td>ROAD_CLOSED</td>\n",
       "      <td>12d90f41-fd58-3d73-9bac-d2d24a4e1dbb</td>\n",
       "      <td>0.0</td>\n",
       "      <td>0.0</td>\n",
       "      <td>ROAD_CLOSED_EVENT</td>\n",
       "      <td>Briggs St</td>\n",
       "      <td>-88.04366</td>\n",
       "      <td>41.54111</td>\n",
       "      <td>1.510536e+12</td>\n",
       "      <td>Road Closed</td>\n",
       "      <td>2017-11-15T09:21:00Z</td>\n",
       "    </tr>\n",
       "    <tr>\n",
       "      <th>1</th>\n",
       "      <td>US</td>\n",
       "      <td>0.0</td>\n",
       "      <td>NaN</td>\n",
       "      <td>0.0</td>\n",
       "      <td>3.0</td>\n",
       "      <td>10.0</td>\n",
       "      <td>ROAD_CLOSED</td>\n",
       "      <td>6bd6a1ff-55b3-3e57-8a57-13ef89e4b391</td>\n",
       "      <td>0.0</td>\n",
       "      <td>0.0</td>\n",
       "      <td>ROAD_CLOSED_EVENT</td>\n",
       "      <td>Smith Rd</td>\n",
       "      <td>-88.02769</td>\n",
       "      <td>41.64151</td>\n",
       "      <td>1.504565e+12</td>\n",
       "      <td>Construction</td>\n",
       "      <td>2017-11-15T09:21:00Z</td>\n",
       "    </tr>\n",
       "    <tr>\n",
       "      <th>2</th>\n",
       "      <td>US</td>\n",
       "      <td>0.0</td>\n",
       "      <td>Lemont, IL</td>\n",
       "      <td>0.0</td>\n",
       "      <td>0.0</td>\n",
       "      <td>7.0</td>\n",
       "      <td>ROAD_CLOSED</td>\n",
       "      <td>0e957bc8-cdcc-395e-913c-facbef9a4494</td>\n",
       "      <td>0.0</td>\n",
       "      <td>0.0</td>\n",
       "      <td>ROAD_CLOSED_EVENT</td>\n",
       "      <td>135th St</td>\n",
       "      <td>-88.00416</td>\n",
       "      <td>41.64081</td>\n",
       "      <td>1.510366e+12</td>\n",
       "      <td>Road Closed</td>\n",
       "      <td>2017-11-15T09:21:00Z</td>\n",
       "    </tr>\n",
       "    <tr>\n",
       "      <th>3</th>\n",
       "      <td>US</td>\n",
       "      <td>0.0</td>\n",
       "      <td>Joliet, IL</td>\n",
       "      <td>0.0</td>\n",
       "      <td>0.0</td>\n",
       "      <td>6.0</td>\n",
       "      <td>ROAD_CLOSED</td>\n",
       "      <td>dfa91aba-dc86-365d-b270-0572fca5ccab</td>\n",
       "      <td>0.0</td>\n",
       "      <td>0.0</td>\n",
       "      <td>ROAD_CLOSED_EVENT</td>\n",
       "      <td>Briggs St</td>\n",
       "      <td>-88.04355</td>\n",
       "      <td>41.53795</td>\n",
       "      <td>1.510536e+12</td>\n",
       "      <td>Road Closed</td>\n",
       "      <td>2017-11-15T09:21:00Z</td>\n",
       "    </tr>\n",
       "    <tr>\n",
       "      <th>4</th>\n",
       "      <td>US</td>\n",
       "      <td>0.0</td>\n",
       "      <td>Lemont, IL</td>\n",
       "      <td>0.0</td>\n",
       "      <td>0.0</td>\n",
       "      <td>7.0</td>\n",
       "      <td>ROAD_CLOSED</td>\n",
       "      <td>4e9af18a-fde4-3f5b-9aeb-1d471988b735</td>\n",
       "      <td>0.0</td>\n",
       "      <td>0.0</td>\n",
       "      <td>ROAD_CLOSED_EVENT</td>\n",
       "      <td>135th St</td>\n",
       "      <td>-88.00494</td>\n",
       "      <td>41.64137</td>\n",
       "      <td>1.510366e+12</td>\n",
       "      <td>Road Closed</td>\n",
       "      <td>2017-11-15T09:21:00Z</td>\n",
       "    </tr>\n",
       "  </tbody>\n",
       "</table>\n",
       "</div>"
      ],
      "text/plain": [
       "  country  nTHumbsUp        city  reportRating  confidence  reliability  \\\n",
       "0      US        0.0  Joliet, IL           0.0         0.0          7.0   \n",
       "1      US        0.0         NaN           0.0         3.0         10.0   \n",
       "2      US        0.0  Lemont, IL           0.0         0.0          7.0   \n",
       "3      US        0.0  Joliet, IL           0.0         0.0          6.0   \n",
       "4      US        0.0  Lemont, IL           0.0         0.0          7.0   \n",
       "\n",
       "          type                                  uuid  roadType  magvar  \\\n",
       "0  ROAD_CLOSED  12d90f41-fd58-3d73-9bac-d2d24a4e1dbb       0.0     0.0   \n",
       "1  ROAD_CLOSED  6bd6a1ff-55b3-3e57-8a57-13ef89e4b391       0.0     0.0   \n",
       "2  ROAD_CLOSED  0e957bc8-cdcc-395e-913c-facbef9a4494       0.0     0.0   \n",
       "3  ROAD_CLOSED  dfa91aba-dc86-365d-b270-0572fca5ccab       0.0     0.0   \n",
       "4  ROAD_CLOSED  4e9af18a-fde4-3f5b-9aeb-1d471988b735       0.0     0.0   \n",
       "\n",
       "             subtype     street  location_x  location_y     pubMillis  \\\n",
       "0  ROAD_CLOSED_EVENT  Briggs St   -88.04366    41.54111  1.510536e+12   \n",
       "1  ROAD_CLOSED_EVENT   Smith Rd   -88.02769    41.64151  1.504565e+12   \n",
       "2  ROAD_CLOSED_EVENT   135th St   -88.00416    41.64081  1.510366e+12   \n",
       "3  ROAD_CLOSED_EVENT  Briggs St   -88.04355    41.53795  1.510536e+12   \n",
       "4  ROAD_CLOSED_EVENT   135th St   -88.00494    41.64137  1.510366e+12   \n",
       "\n",
       "  reportDescription             scrape_dt  \n",
       "0       Road Closed  2017-11-15T09:21:00Z  \n",
       "1      Construction  2017-11-15T09:21:00Z  \n",
       "2       Road Closed  2017-11-15T09:21:00Z  \n",
       "3       Road Closed  2017-11-15T09:21:00Z  \n",
       "4       Road Closed  2017-11-15T09:21:00Z  "
      ]
     },
     "execution_count": 60,
     "metadata": {},
     "output_type": "execute_result"
    }
   ],
   "source": [
    "waze.head()"
   ]
  },
  {
   "cell_type": "code",
   "execution_count": 17,
   "metadata": {},
   "outputs": [],
   "source": [
    "new_date = []\n",
    "for i in waze['pubMillis']:\n",
    "    s = i / 1000.0\n",
    "    date = datetime.datetime.fromtimestamp(s).strftime('%Y-%m-%d %H:%M:%S.%f')\n",
    "    new_date.append(date)\n",
    "waze['pubmills_datetime'] = new_date"
   ]
  },
  {
   "cell_type": "code",
   "execution_count": 21,
   "metadata": {},
   "outputs": [],
   "source": [
    "waze['pubmills_datetime'] = pd.to_datetime(waze['pubmills_datetime'])"
   ]
  },
  {
   "cell_type": "code",
   "execution_count": 33,
   "metadata": {},
   "outputs": [],
   "source": [
    "waze_inter = waze.sort_values('pubmills_datetime').reset_index(drop=True)"
   ]
  },
  {
   "cell_type": "code",
   "execution_count": 37,
   "metadata": {},
   "outputs": [],
   "source": [
    "waze_inter.drop('scrape_dt', axis=1, inplace=True)"
   ]
  },
  {
   "cell_type": "markdown",
   "metadata": {},
   "source": [
    "**BREAK UP WEATHER HAZARD**"
   ]
  },
  {
   "cell_type": "code",
   "execution_count": 39,
   "metadata": {},
   "outputs": [
    {
     "name": "stdout",
     "output_type": "stream",
     "text": [
      "<class 'pandas.core.frame.DataFrame'>\n",
      "RangeIndex: 10054852 entries, 0 to 10054851\n",
      "Data columns (total 17 columns):\n",
      "country              object\n",
      "nTHumbsUp            float64\n",
      "city                 object\n",
      "reportRating         float64\n",
      "confidence           float64\n",
      "reliability          float64\n",
      "type                 object\n",
      "uuid                 object\n",
      "roadType             float64\n",
      "magvar               float64\n",
      "subtype              object\n",
      "street               object\n",
      "location_x           float64\n",
      "location_y           float64\n",
      "pubMillis            int64\n",
      "reportDescription    object\n",
      "pubmills_datetime    datetime64[ns]\n",
      "dtypes: datetime64[ns](1), float64(8), int64(1), object(7)\n",
      "memory usage: 1.3+ GB\n"
     ]
    }
   ],
   "source": [
    "waze_inter.info()"
   ]
  },
  {
   "cell_type": "code",
   "execution_count": 42,
   "metadata": {},
   "outputs": [
    {
     "data": {
      "text/plain": [
       "array(['HAZARD_ON_ROAD_POT_HOLE', 'HAZARD_ON_SHOULDER_CAR_STOPPED',\n",
       "       'HAZARD_ON_ROAD_OBJECT', 'HAZARD_ON_ROAD_CAR_STOPPED',\n",
       "       'HAZARD_ON_ROAD_CONSTRUCTION', 'HAZARD_WEATHER_FOG',\n",
       "       'HAZARD_ON_ROAD_TRAFFIC_LIGHT_FAULT', 'HAZARD_WEATHER_FLOOD',\n",
       "       'NO_SUBTYPE', 'HAZARD_ON_ROAD_ROAD_KILL',\n",
       "       'HAZARD_ON_SHOULDER_MISSING_SIGN', 'HAZARD_ON_ROAD',\n",
       "       'HAZARD_ON_SHOULDER', 'HAZARD_ON_SHOULDER_ANIMALS',\n",
       "       'HAZARD_WEATHER', 'HAZARD_ON_ROAD_ICE', 'HAZARD_WEATHER_HAIL',\n",
       "       'HAZARD_WEATHER_HEAVY_SNOW'], dtype=object)"
      ]
     },
     "execution_count": 42,
     "metadata": {},
     "output_type": "execute_result"
    }
   ],
   "source": [
    "waze_inter.loc[waze_inter['type']=='WEATHERHAZARD'].subtype.unique()"
   ]
  },
  {
   "cell_type": "markdown",
   "metadata": {},
   "source": [
    "## WEATHER HAZARD BREAKUP"
   ]
  },
  {
   "cell_type": "markdown",
   "metadata": {},
   "source": [
    "The original dataset lists both weather hazard and other hazards (roadkill, car stopped, etc.) under the same type category. These need to be seperated in order to fix this. \n",
    "\n",
    "**WEATHER HAZARD**\n",
    "* HAZARD_WEATHER_FOG\n",
    "* HAZARD_WEATHER_FLOOD\n",
    "* HAZARD_WEATHER\n",
    "* HAZARD_ON_ROAD_ICE\n",
    "* HAZARD_WEATHER_HAIL\n",
    "* HAZARD_WEATHER_HEAVY_SNOW\n",
    "\n",
    "**HAZARD OTHER**\n",
    "* HAZARD_ON_ROAD_POT_HOLE\n",
    "* HAZARD_ON_SHOULDER_CAR_STOPPED\n",
    "* HAZARD_ON_ROAD_OBJECT\n",
    "* HAZARD_ON_ROAD_CAR_STOPPED \n",
    "* HAZARD_ON_ROAD_CONSTRUCTION\n",
    "* HAZARD_ON_ROAD_TRAFFIC_LIGHT_FAULT\n",
    "* HAZARD_ON_ROAD_ROAD_KILL\n",
    "* HAZARD_ON_SHOULDER_MISSING_SIGN\n",
    "* HAZARD_ON_ROAD\n",
    "* HAZARD_ON_SHOULDER\n",
    "* HAZARD_ON_SHOULDER_ANIMALS\n",
    "* NO_SUBTYPE"
   ]
  },
  {
   "cell_type": "code",
   "execution_count": 47,
   "metadata": {},
   "outputs": [],
   "source": [
    "waze_inter.to_csv('../../data/02_intermediate/waze_intermediate.csv', index=False)"
   ]
  },
  {
   "cell_type": "code",
   "execution_count": null,
   "metadata": {},
   "outputs": [],
   "source": []
  }
 ],
 "metadata": {
  "kernelspec": {
   "display_name": "Python 3",
   "language": "python",
   "name": "python3"
  },
  "language_info": {
   "codemirror_mode": {
    "name": "ipython",
    "version": 3
   },
   "file_extension": ".py",
   "mimetype": "text/x-python",
   "name": "python",
   "nbconvert_exporter": "python",
   "pygments_lexer": "ipython3",
   "version": "3.7.1"
  },
  "toc": {
   "base_numbering": 1,
   "nav_menu": {},
   "number_sections": true,
   "sideBar": true,
   "skip_h1_title": true,
   "title_cell": "Table of Contents",
   "title_sidebar": "Contents",
   "toc_cell": false,
   "toc_position": {},
   "toc_section_display": true,
   "toc_window_display": false
  }
 },
 "nbformat": 4,
 "nbformat_minor": 2
}
