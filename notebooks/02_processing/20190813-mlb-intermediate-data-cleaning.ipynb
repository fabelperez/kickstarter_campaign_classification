{
 "cells": [
  {
   "cell_type": "markdown",
   "metadata": {},
   "source": [
    "# PRE-PROCESSING: CATEGORY COLUMN SPLIT"
   ]
  },
  {
   "cell_type": "code",
   "execution_count": 1,
   "metadata": {},
   "outputs": [],
   "source": [
    "import pandas as pd\n",
    "import numpy as np \n",
    "import matplotlib.pyplot as plt\n",
    "import seaborn as sns\n",
    "import os\n",
    "import sys\n",
    "import glob\n",
    "import functools\n",
    "import io\n",
    "\n",
    "src_dir = os.path.join(os.getcwd(), '..', '..', 'src')\n",
    "sys.path.append(src_dir)"
   ]
  },
  {
   "cell_type": "code",
   "execution_count": 26,
   "metadata": {},
   "outputs": [],
   "source": [
    "pd.set_option('display.max_columns', None)"
   ]
  },
  {
   "cell_type": "code",
   "execution_count": 2,
   "metadata": {},
   "outputs": [
    {
     "name": "stderr",
     "output_type": "stream",
     "text": [
      "/anaconda3/lib/python3.7/site-packages/IPython/core/interactiveshell.py:3020: DtypeWarning: Columns (14,18,19,20,25) have mixed types. Specify dtype option on import or set low_memory=False.\n",
      "  interactivity=interactivity, compiler=compiler, result=result)\n"
     ]
    }
   ],
   "source": [
    "kick_inter = pd.read_csv('../../data/02_intermediate/kick_deduped.csv')"
   ]
  },
  {
   "cell_type": "code",
   "execution_count": 3,
   "metadata": {},
   "outputs": [],
   "source": [
    "kick_inter.drop(columns='index', inplace=True)"
   ]
  },
  {
   "cell_type": "code",
   "execution_count": 4,
   "metadata": {},
   "outputs": [
    {
     "data": {
      "text/plain": [
       "Index(['backers_count', 'blurb', 'category', 'converted_pledged_amount',\n",
       "       'country', 'created_at', 'creator', 'currency', 'currency_symbol',\n",
       "       'currency_trailing_code', 'current_currency', 'deadline',\n",
       "       'disable_communication', 'friends', 'fx_rate', 'goal', 'id',\n",
       "       'is_backing', 'is_starrable', 'is_starred', 'last_update_published_at',\n",
       "       'launched_at', 'location', 'name', 'permissions', 'pledged', 'slug',\n",
       "       'source_url', 'spotlight', 'staff_pick', 'state', 'state_changed_at',\n",
       "       'static_usd_rate', 'unread_messages_count', 'unseen_activity_count',\n",
       "       'urls', 'usd_pledged', 'usd_type'],\n",
       "      dtype='object')"
      ]
     },
     "execution_count": 4,
     "metadata": {},
     "output_type": "execute_result"
    }
   ],
   "source": [
    "kick_inter.columns"
   ]
  },
  {
   "cell_type": "markdown",
   "metadata": {},
   "source": [
    "**LET'S BREAK UP THE CATEGORY VARIABLE**"
   ]
  },
  {
   "cell_type": "code",
   "execution_count": 5,
   "metadata": {},
   "outputs": [
    {
     "data": {
      "text/plain": [
       "'{\"id\":263,\"name\":\"Apparel\",\"slug\":\"fashion/apparel\",\"position\":2,\"parent_id\":9,\"color\":16752598,\"urls\":{\"web\":{\"discover\":\"http://www.kickstarter.com/discover/categories/fashion/apparel\"}}}'"
      ]
     },
     "execution_count": 5,
     "metadata": {},
     "output_type": "execute_result"
    }
   ],
   "source": [
    "kick_inter.category[0]"
   ]
  },
  {
   "cell_type": "code",
   "execution_count": 6,
   "metadata": {},
   "outputs": [],
   "source": [
    "category = kick_inter['category'].str.partition(\"name\\\":\\\"\")[2]\n",
    "kick_inter['sub_category'] = category.str.partition(\"\\\"\")[0]"
   ]
  },
  {
   "cell_type": "code",
   "execution_count": 7,
   "metadata": {},
   "outputs": [],
   "source": [
    "sub_category = kick_inter['category'].str.partition(\"slug\\\":\\\"\")[2]\n",
    "kick_inter['overall_category'] = sub_category.str.partition(\"\\\"\")[0]"
   ]
  },
  {
   "cell_type": "code",
   "execution_count": 8,
   "metadata": {},
   "outputs": [
    {
     "data": {
      "text/plain": [
       "170"
      ]
     },
     "execution_count": 8,
     "metadata": {},
     "output_type": "execute_result"
    }
   ],
   "source": [
    "kick_inter.overall_category.nunique()"
   ]
  },
  {
   "cell_type": "code",
   "execution_count": 9,
   "metadata": {},
   "outputs": [
    {
     "data": {
      "text/plain": [
       "159"
      ]
     },
     "execution_count": 9,
     "metadata": {},
     "output_type": "execute_result"
    }
   ],
   "source": [
    "kick_inter.sub_category.nunique()"
   ]
  },
  {
   "cell_type": "code",
   "execution_count": 22,
   "metadata": {},
   "outputs": [],
   "source": [
    "kick_inter.drop(columns='category', inplace=True)"
   ]
  },
  {
   "cell_type": "markdown",
   "metadata": {},
   "source": [
    "**LET'S BREAK UP THE LOCATION VARIABLE**"
   ]
  },
  {
   "cell_type": "code",
   "execution_count": 10,
   "metadata": {},
   "outputs": [
    {
     "data": {
      "text/plain": [
       "'{\"id\":2514971,\"name\":\"Wasilla\",\"slug\":\"wasilla-ak\",\"short_name\":\"Wasilla, AK\",\"displayable_name\":\"Wasilla, AK\",\"localized_name\":\"Wasilla\",\"country\":\"US\",\"state\":\"AK\",\"type\":\"Town\",\"is_root\":false,\"urls\":{\"web\":{\"discover\":\"https://www.kickstarter.com/discover/places/wasilla-ak\",\"location\":\"https://www.kickstarter.com/locations/wasilla-ak\"},\"api\":{\"nearby_projects\":\"https://api.kickstarter.com/v1/discover?signature=1563485120.ec5780d97f7e6574d1bc73fb20e5524556ccc36b&woe_id=2514971\"}}}'"
      ]
     },
     "execution_count": 10,
     "metadata": {},
     "output_type": "execute_result"
    }
   ],
   "source": [
    "kick_inter.location[0]"
   ]
  },
  {
   "cell_type": "code",
   "execution_count": 11,
   "metadata": {},
   "outputs": [
    {
     "data": {
      "text/plain": [
       "'{\"id\":12723,\"name\":\"Birmingham\",\"slug\":\"birmingham-gb\",\"short_name\":\"Birmingham, UK\",\"displayable_name\":\"Birmingham, UK\",\"localized_name\":\"Birmingham\",\"country\":\"GB\",\"state\":\"England\",\"type\":\"Town\",\"is_root\":false,\"urls\":{\"web\":{\"discover\":\"https://www.kickstarter.com/discover/places/birmingham-gb\",\"location\":\"https://www.kickstarter.com/locations/birmingham-gb\"},\"api\":{\"nearby_projects\":\"https://api.kickstarter.com/v1/discover?signature=1560466559.ce78bdb2eed5b1dc5dfe2d35530ec37365a71825&woe_id=12723\"}}}'"
      ]
     },
     "execution_count": 11,
     "metadata": {},
     "output_type": "execute_result"
    }
   ],
   "source": [
    "kick_inter.location[8975]"
   ]
  },
  {
   "cell_type": "code",
   "execution_count": 12,
   "metadata": {},
   "outputs": [],
   "source": [
    "city = kick_inter['location'].str.partition(\"localized_name\\\":\\\"\")[2]\n",
    "kick_inter['city'] = city.str.partition(\"\\\"\")[0]"
   ]
  },
  {
   "cell_type": "code",
   "execution_count": 13,
   "metadata": {},
   "outputs": [],
   "source": [
    "country = kick_inter['location'].str.partition(\"country\\\":\\\"\")[2]\n",
    "kick_inter['country_loc'] = country.str.partition(\"\\\"\")[0]"
   ]
  },
  {
   "cell_type": "code",
   "execution_count": 14,
   "metadata": {},
   "outputs": [],
   "source": [
    "state_location = kick_inter['location'].str.partition(\"state\\\":\\\"\")[2]\n",
    "kick_inter['state_loc'] = state_location.str.partition(\"\\\"\")[0]"
   ]
  },
  {
   "cell_type": "code",
   "execution_count": 23,
   "metadata": {},
   "outputs": [],
   "source": [
    "kick_inter.drop(columns='location', inplace=True)"
   ]
  },
  {
   "cell_type": "markdown",
   "metadata": {},
   "source": [
    "**LET'S BREAK UP THE CREATOR VARIABLE**"
   ]
  },
  {
   "cell_type": "code",
   "execution_count": 15,
   "metadata": {},
   "outputs": [
    {
     "data": {
      "text/plain": [
       "'{\"id\":467960938,\"name\":\"Drank The Gold\",\"slug\":\"drankthegold\",\"is_registered\":null,\"chosen_currency\":null,\"is_superbacker\":null,\"avatar\":{\"thumb\":\"https://ksr-ugc.imgix.net/assets/025/633/415/617ba137f8b1831776af5ec109b58c01_original.jpg?ixlib=rb-2.1.0&w=40&h=40&fit=crop&v=1561660936&auto=format&frame=1&q=92&s=9068fbf7d0f507dcc5ba25c05a7751a3\",\"small\":\"https://ksr-ugc.imgix.net/assets/025/633/415/617ba137f8b1831776af5ec109b58c01_original.jpg?ixlib=rb-2.1.0&w=160&h=160&fit=crop&v=1561660936&auto=format&frame=1&q=92&s=7517c86ac347cb90acd2883f6e38f4fa\",\"medium\":\"https://ksr-ugc.imgix.net/assets/025/633/415/617ba137f8b1831776af5ec109b58c01_original.jpg?ixlib=rb-2.1.0&w=160&h=160&fit=crop&v=1561660936&auto=format&frame=1&q=92&s=7517c86ac347cb90acd2883f6e38f4fa\"},\"urls\":{\"web\":{\"user\":\"https://www.kickstarter.com/profile/drankthegold\"},\"api\":{\"user\":\"https://api.kickstarter.com/v1/users/467960938?signature=1563510715.2dd8dfc2be4143c67c8b43801d448300c4a0de4d\"}}}'"
      ]
     },
     "execution_count": 15,
     "metadata": {},
     "output_type": "execute_result"
    }
   ],
   "source": [
    "kick_inter.creator[3]"
   ]
  },
  {
   "cell_type": "code",
   "execution_count": 16,
   "metadata": {},
   "outputs": [],
   "source": [
    "creator_name = kick_inter['creator'].str.partition(\"name\\\":\\\"\")[2]\n",
    "kick_inter['creator_name'] = creator_name.str.partition(\"\\\"\")[0]"
   ]
  },
  {
   "cell_type": "code",
   "execution_count": 17,
   "metadata": {},
   "outputs": [],
   "source": [
    "creator_slug = kick_inter['creator'].str.partition(\"slug\\\":\\\"\")[2]\n",
    "kick_inter['creator_slug'] = creator_slug.str.partition(\"\\\"\")[0]"
   ]
  },
  {
   "cell_type": "code",
   "execution_count": 24,
   "metadata": {},
   "outputs": [],
   "source": [
    "kick_inter.drop(columns='creator', inplace=True)"
   ]
  },
  {
   "cell_type": "markdown",
   "metadata": {},
   "source": [
    "**LET'S CONVERT ALL UNIX TIME COLUMNS TO DATETIME**"
   ]
  },
  {
   "cell_type": "markdown",
   "metadata": {},
   "source": [
    "**UNIX TIME COLUMNS:** \n",
    "1. created_at\n",
    "1. deadline\n",
    "1. launched_at\n",
    "1. state_changed_at"
   ]
  },
  {
   "cell_type": "code",
   "execution_count": 27,
   "metadata": {},
   "outputs": [
    {
     "data": {
      "text/html": [
       "<div>\n",
       "<style scoped>\n",
       "    .dataframe tbody tr th:only-of-type {\n",
       "        vertical-align: middle;\n",
       "    }\n",
       "\n",
       "    .dataframe tbody tr th {\n",
       "        vertical-align: top;\n",
       "    }\n",
       "\n",
       "    .dataframe thead th {\n",
       "        text-align: right;\n",
       "    }\n",
       "</style>\n",
       "<table border=\"1\" class=\"dataframe\">\n",
       "  <thead>\n",
       "    <tr style=\"text-align: right;\">\n",
       "      <th></th>\n",
       "      <th>backers_count</th>\n",
       "      <th>blurb</th>\n",
       "      <th>converted_pledged_amount</th>\n",
       "      <th>country</th>\n",
       "      <th>created_at</th>\n",
       "      <th>currency</th>\n",
       "      <th>currency_symbol</th>\n",
       "      <th>currency_trailing_code</th>\n",
       "      <th>current_currency</th>\n",
       "      <th>deadline</th>\n",
       "      <th>disable_communication</th>\n",
       "      <th>friends</th>\n",
       "      <th>fx_rate</th>\n",
       "      <th>goal</th>\n",
       "      <th>id</th>\n",
       "      <th>is_backing</th>\n",
       "      <th>is_starrable</th>\n",
       "      <th>is_starred</th>\n",
       "      <th>last_update_published_at</th>\n",
       "      <th>launched_at</th>\n",
       "      <th>name</th>\n",
       "      <th>permissions</th>\n",
       "      <th>pledged</th>\n",
       "      <th>slug</th>\n",
       "      <th>source_url</th>\n",
       "      <th>spotlight</th>\n",
       "      <th>staff_pick</th>\n",
       "      <th>state</th>\n",
       "      <th>state_changed_at</th>\n",
       "      <th>static_usd_rate</th>\n",
       "      <th>unread_messages_count</th>\n",
       "      <th>unseen_activity_count</th>\n",
       "      <th>urls</th>\n",
       "      <th>usd_pledged</th>\n",
       "      <th>usd_type</th>\n",
       "      <th>sub_category</th>\n",
       "      <th>overall_category</th>\n",
       "      <th>city</th>\n",
       "      <th>country_loc</th>\n",
       "      <th>state_loc</th>\n",
       "      <th>creator_name</th>\n",
       "      <th>creator_slug</th>\n",
       "    </tr>\n",
       "  </thead>\n",
       "  <tbody>\n",
       "    <tr>\n",
       "      <th>0</th>\n",
       "      <td>0</td>\n",
       "      <td>I'm just going to say it, I'm not special. I'm...</td>\n",
       "      <td>0.0</td>\n",
       "      <td>US</td>\n",
       "      <td>1563159576</td>\n",
       "      <td>USD</td>\n",
       "      <td>$</td>\n",
       "      <td>True</td>\n",
       "      <td>USD</td>\n",
       "      <td>1566018288</td>\n",
       "      <td>False</td>\n",
       "      <td>NaN</td>\n",
       "      <td>1.000000</td>\n",
       "      <td>5000.0</td>\n",
       "      <td>1893102245</td>\n",
       "      <td>NaN</td>\n",
       "      <td>True</td>\n",
       "      <td>NaN</td>\n",
       "      <td>NaN</td>\n",
       "      <td>1563426288</td>\n",
       "      <td>Shirt and hat</td>\n",
       "      <td>NaN</td>\n",
       "      <td>0.0</td>\n",
       "      <td>shirt-and-hat</td>\n",
       "      <td>https://www.kickstarter.com/discover/categorie...</td>\n",
       "      <td>False</td>\n",
       "      <td>False</td>\n",
       "      <td>live</td>\n",
       "      <td>1563426288</td>\n",
       "      <td>1.000000</td>\n",
       "      <td>NaN</td>\n",
       "      <td>NaN</td>\n",
       "      <td>{\"web\":{\"project\":\"https://www.kickstarter.com...</td>\n",
       "      <td>0.0</td>\n",
       "      <td>domestic</td>\n",
       "      <td>Apparel</td>\n",
       "      <td>fashion/apparel</td>\n",
       "      <td>Wasilla</td>\n",
       "      <td>US</td>\n",
       "      <td>AK</td>\n",
       "      <td>Dima01</td>\n",
       "      <td>dima01</td>\n",
       "    </tr>\n",
       "    <tr>\n",
       "      <th>1</th>\n",
       "      <td>568</td>\n",
       "      <td>for Tabletop Role Playing Games like Dungeons ...</td>\n",
       "      <td>18969.0</td>\n",
       "      <td>US</td>\n",
       "      <td>1559509615</td>\n",
       "      <td>USD</td>\n",
       "      <td>$</td>\n",
       "      <td>True</td>\n",
       "      <td>USD</td>\n",
       "      <td>1563422100</td>\n",
       "      <td>False</td>\n",
       "      <td>NaN</td>\n",
       "      <td>1.000000</td>\n",
       "      <td>5000.0</td>\n",
       "      <td>1175125319</td>\n",
       "      <td>NaN</td>\n",
       "      <td>False</td>\n",
       "      <td>NaN</td>\n",
       "      <td>NaN</td>\n",
       "      <td>1560651641</td>\n",
       "      <td>RPG Minimalist Creature Dice &amp; Status / Condit...</td>\n",
       "      <td>NaN</td>\n",
       "      <td>18969.0</td>\n",
       "      <td>rpg-minimalist-creature-dice-and-status-condit...</td>\n",
       "      <td>https://www.kickstarter.com/discover/categorie...</td>\n",
       "      <td>True</td>\n",
       "      <td>False</td>\n",
       "      <td>successful</td>\n",
       "      <td>1563422101</td>\n",
       "      <td>1.000000</td>\n",
       "      <td>NaN</td>\n",
       "      <td>NaN</td>\n",
       "      <td>{\"web\":{\"project\":\"https://www.kickstarter.com...</td>\n",
       "      <td>18969.0</td>\n",
       "      <td>domestic</td>\n",
       "      <td>Tabletop Games</td>\n",
       "      <td>games/tabletop games</td>\n",
       "      <td>Holland</td>\n",
       "      <td>US</td>\n",
       "      <td>MI</td>\n",
       "      <td>quEmpire Gaming</td>\n",
       "      <td>quempire</td>\n",
       "    </tr>\n",
       "    <tr>\n",
       "      <th>2</th>\n",
       "      <td>0</td>\n",
       "      <td>Giuliano Clothing is on a mission to reinvent ...</td>\n",
       "      <td>0.0</td>\n",
       "      <td>CA</td>\n",
       "      <td>1563405193</td>\n",
       "      <td>CAD</td>\n",
       "      <td>$</td>\n",
       "      <td>True</td>\n",
       "      <td>USD</td>\n",
       "      <td>1566013807</td>\n",
       "      <td>False</td>\n",
       "      <td>NaN</td>\n",
       "      <td>0.766388</td>\n",
       "      <td>5000.0</td>\n",
       "      <td>1290757180</td>\n",
       "      <td>NaN</td>\n",
       "      <td>True</td>\n",
       "      <td>NaN</td>\n",
       "      <td>NaN</td>\n",
       "      <td>1563421807</td>\n",
       "      <td>Giuliano Clothing: Modern Fashion</td>\n",
       "      <td>NaN</td>\n",
       "      <td>0.0</td>\n",
       "      <td>giuliano-clothing-modern-fashion</td>\n",
       "      <td>https://www.kickstarter.com/discover/categorie...</td>\n",
       "      <td>False</td>\n",
       "      <td>False</td>\n",
       "      <td>live</td>\n",
       "      <td>1563421807</td>\n",
       "      <td>0.766254</td>\n",
       "      <td>NaN</td>\n",
       "      <td>NaN</td>\n",
       "      <td>{\"web\":{\"project\":\"https://www.kickstarter.com...</td>\n",
       "      <td>0.0</td>\n",
       "      <td>domestic</td>\n",
       "      <td>Fashion</td>\n",
       "      <td>fashion</td>\n",
       "      <td>Toronto</td>\n",
       "      <td>CA</td>\n",
       "      <td>ON</td>\n",
       "      <td>Giuliano Clothing</td>\n",
       "      <td>giulianoclothing</td>\n",
       "    </tr>\n",
       "    <tr>\n",
       "      <th>3</th>\n",
       "      <td>80</td>\n",
       "      <td>We have a new album that we are ready to relea...</td>\n",
       "      <td>3691.0</td>\n",
       "      <td>US</td>\n",
       "      <td>1561660600</td>\n",
       "      <td>USD</td>\n",
       "      <td>$</td>\n",
       "      <td>True</td>\n",
       "      <td>USD</td>\n",
       "      <td>1563420600</td>\n",
       "      <td>False</td>\n",
       "      <td>NaN</td>\n",
       "      <td>1.000000</td>\n",
       "      <td>3500.0</td>\n",
       "      <td>920424993</td>\n",
       "      <td>NaN</td>\n",
       "      <td>False</td>\n",
       "      <td>NaN</td>\n",
       "      <td>NaN</td>\n",
       "      <td>1561781837</td>\n",
       "      <td>Drank The Gold's new album: Sipped The Silver</td>\n",
       "      <td>NaN</td>\n",
       "      <td>3691.0</td>\n",
       "      <td>drank-the-golds-new-album-sipped-the-silver</td>\n",
       "      <td>https://www.kickstarter.com/discover/categorie...</td>\n",
       "      <td>True</td>\n",
       "      <td>True</td>\n",
       "      <td>successful</td>\n",
       "      <td>1563420600</td>\n",
       "      <td>1.000000</td>\n",
       "      <td>NaN</td>\n",
       "      <td>NaN</td>\n",
       "      <td>{\"web\":{\"project\":\"https://www.kickstarter.com...</td>\n",
       "      <td>3691.0</td>\n",
       "      <td>domestic</td>\n",
       "      <td>Music</td>\n",
       "      <td>music</td>\n",
       "      <td>Saratoga Springs</td>\n",
       "      <td>US</td>\n",
       "      <td>NY</td>\n",
       "      <td>Drank The Gold</td>\n",
       "      <td>drankthegold</td>\n",
       "    </tr>\n",
       "    <tr>\n",
       "      <th>4</th>\n",
       "      <td>0</td>\n",
       "      <td>The film follows 4 frustrated campaigns as the...</td>\n",
       "      <td>0.0</td>\n",
       "      <td>US</td>\n",
       "      <td>1563392717</td>\n",
       "      <td>USD</td>\n",
       "      <td>$</td>\n",
       "      <td>True</td>\n",
       "      <td>USD</td>\n",
       "      <td>1566012181</td>\n",
       "      <td>False</td>\n",
       "      <td>NaN</td>\n",
       "      <td>1.000000</td>\n",
       "      <td>2000.0</td>\n",
       "      <td>255952264</td>\n",
       "      <td>NaN</td>\n",
       "      <td>True</td>\n",
       "      <td>NaN</td>\n",
       "      <td>NaN</td>\n",
       "      <td>1563420181</td>\n",
       "      <td>A Period Piece DVD Funding</td>\n",
       "      <td>NaN</td>\n",
       "      <td>0.0</td>\n",
       "      <td>a-period-piece-dvd-funding</td>\n",
       "      <td>https://www.kickstarter.com/discover/categorie...</td>\n",
       "      <td>False</td>\n",
       "      <td>False</td>\n",
       "      <td>live</td>\n",
       "      <td>1563420182</td>\n",
       "      <td>1.000000</td>\n",
       "      <td>NaN</td>\n",
       "      <td>NaN</td>\n",
       "      <td>{\"web\":{\"project\":\"https://www.kickstarter.com...</td>\n",
       "      <td>0.0</td>\n",
       "      <td>domestic</td>\n",
       "      <td>Drama</td>\n",
       "      <td>film &amp; video/drama</td>\n",
       "      <td>Nashville</td>\n",
       "      <td>US</td>\n",
       "      <td>TN</td>\n",
       "      <td>Anthony Stephen Hamilton</td>\n",
       "      <td>aperiodpiece</td>\n",
       "    </tr>\n",
       "  </tbody>\n",
       "</table>\n",
       "</div>"
      ],
      "text/plain": [
       "   backers_count                                              blurb  \\\n",
       "0              0  I'm just going to say it, I'm not special. I'm...   \n",
       "1            568  for Tabletop Role Playing Games like Dungeons ...   \n",
       "2              0  Giuliano Clothing is on a mission to reinvent ...   \n",
       "3             80  We have a new album that we are ready to relea...   \n",
       "4              0  The film follows 4 frustrated campaigns as the...   \n",
       "\n",
       "   converted_pledged_amount country  created_at currency currency_symbol  \\\n",
       "0                       0.0      US  1563159576      USD               $   \n",
       "1                   18969.0      US  1559509615      USD               $   \n",
       "2                       0.0      CA  1563405193      CAD               $   \n",
       "3                    3691.0      US  1561660600      USD               $   \n",
       "4                       0.0      US  1563392717      USD               $   \n",
       "\n",
       "   currency_trailing_code current_currency    deadline  disable_communication  \\\n",
       "0                    True              USD  1566018288                  False   \n",
       "1                    True              USD  1563422100                  False   \n",
       "2                    True              USD  1566013807                  False   \n",
       "3                    True              USD  1563420600                  False   \n",
       "4                    True              USD  1566012181                  False   \n",
       "\n",
       "  friends   fx_rate    goal          id is_backing is_starrable is_starred  \\\n",
       "0     NaN  1.000000  5000.0  1893102245        NaN         True        NaN   \n",
       "1     NaN  1.000000  5000.0  1175125319        NaN        False        NaN   \n",
       "2     NaN  0.766388  5000.0  1290757180        NaN         True        NaN   \n",
       "3     NaN  1.000000  3500.0   920424993        NaN        False        NaN   \n",
       "4     NaN  1.000000  2000.0   255952264        NaN         True        NaN   \n",
       "\n",
       "   last_update_published_at  launched_at  \\\n",
       "0                       NaN   1563426288   \n",
       "1                       NaN   1560651641   \n",
       "2                       NaN   1563421807   \n",
       "3                       NaN   1561781837   \n",
       "4                       NaN   1563420181   \n",
       "\n",
       "                                                name permissions  pledged  \\\n",
       "0                                      Shirt and hat         NaN      0.0   \n",
       "1  RPG Minimalist Creature Dice & Status / Condit...         NaN  18969.0   \n",
       "2                  Giuliano Clothing: Modern Fashion         NaN      0.0   \n",
       "3      Drank The Gold's new album: Sipped The Silver         NaN   3691.0   \n",
       "4                         A Period Piece DVD Funding         NaN      0.0   \n",
       "\n",
       "                                                slug  \\\n",
       "0                                      shirt-and-hat   \n",
       "1  rpg-minimalist-creature-dice-and-status-condit...   \n",
       "2                   giuliano-clothing-modern-fashion   \n",
       "3        drank-the-golds-new-album-sipped-the-silver   \n",
       "4                         a-period-piece-dvd-funding   \n",
       "\n",
       "                                          source_url  spotlight  staff_pick  \\\n",
       "0  https://www.kickstarter.com/discover/categorie...      False       False   \n",
       "1  https://www.kickstarter.com/discover/categorie...       True       False   \n",
       "2  https://www.kickstarter.com/discover/categorie...      False       False   \n",
       "3  https://www.kickstarter.com/discover/categorie...       True        True   \n",
       "4  https://www.kickstarter.com/discover/categorie...      False       False   \n",
       "\n",
       "        state  state_changed_at  static_usd_rate  unread_messages_count  \\\n",
       "0        live        1563426288         1.000000                    NaN   \n",
       "1  successful        1563422101         1.000000                    NaN   \n",
       "2        live        1563421807         0.766254                    NaN   \n",
       "3  successful        1563420600         1.000000                    NaN   \n",
       "4        live        1563420182         1.000000                    NaN   \n",
       "\n",
       "   unseen_activity_count                                               urls  \\\n",
       "0                    NaN  {\"web\":{\"project\":\"https://www.kickstarter.com...   \n",
       "1                    NaN  {\"web\":{\"project\":\"https://www.kickstarter.com...   \n",
       "2                    NaN  {\"web\":{\"project\":\"https://www.kickstarter.com...   \n",
       "3                    NaN  {\"web\":{\"project\":\"https://www.kickstarter.com...   \n",
       "4                    NaN  {\"web\":{\"project\":\"https://www.kickstarter.com...   \n",
       "\n",
       "   usd_pledged  usd_type    sub_category      overall_category  \\\n",
       "0          0.0  domestic         Apparel       fashion/apparel   \n",
       "1      18969.0  domestic  Tabletop Games  games/tabletop games   \n",
       "2          0.0  domestic         Fashion               fashion   \n",
       "3       3691.0  domestic           Music                 music   \n",
       "4          0.0  domestic           Drama    film & video/drama   \n",
       "\n",
       "               city country_loc state_loc              creator_name  \\\n",
       "0           Wasilla          US        AK                    Dima01   \n",
       "1           Holland          US        MI           quEmpire Gaming   \n",
       "2           Toronto          CA        ON         Giuliano Clothing   \n",
       "3  Saratoga Springs          US        NY            Drank The Gold   \n",
       "4         Nashville          US        TN  Anthony Stephen Hamilton   \n",
       "\n",
       "       creator_slug  \n",
       "0            dima01  \n",
       "1          quempire  \n",
       "2  giulianoclothing  \n",
       "3      drankthegold  \n",
       "4      aperiodpiece  "
      ]
     },
     "execution_count": 27,
     "metadata": {},
     "output_type": "execute_result"
    }
   ],
   "source": [
    "kick_inter.head()"
   ]
  },
  {
   "cell_type": "code",
   "execution_count": 29,
   "metadata": {},
   "outputs": [],
   "source": [
    "kick_inter['created_at'] = pd.to_datetime(kick_inter['created_at'],unit='s')\n",
    "kick_inter['deadline'] = pd.to_datetime(kick_inter['deadline'],unit='s')\n",
    "kick_inter['launched_at'] = pd.to_datetime(kick_inter['launched_at'],unit='s')\n",
    "kick_inter['state_changed_at'] = pd.to_datetime(kick_inter['state_changed_at'],unit='s')"
   ]
  },
  {
   "cell_type": "code",
   "execution_count": 30,
   "metadata": {},
   "outputs": [
    {
     "name": "stdout",
     "output_type": "stream",
     "text": [
      "<class 'pandas.core.frame.DataFrame'>\n",
      "RangeIndex: 332899 entries, 0 to 332898\n",
      "Data columns (total 42 columns):\n",
      "backers_count               332899 non-null int64\n",
      "blurb                       332889 non-null object\n",
      "converted_pledged_amount    195183 non-null float64\n",
      "country                     332899 non-null object\n",
      "created_at                  332899 non-null datetime64[ns]\n",
      "currency                    332899 non-null object\n",
      "currency_symbol             332899 non-null object\n",
      "currency_trailing_code      332899 non-null bool\n",
      "current_currency            195183 non-null object\n",
      "deadline                    332899 non-null datetime64[ns]\n",
      "disable_communication       332899 non-null bool\n",
      "friends                     1629 non-null object\n",
      "fx_rate                     185035 non-null float64\n",
      "goal                        332899 non-null float64\n",
      "id                          332899 non-null int64\n",
      "is_backing                  1629 non-null object\n",
      "is_starrable                206127 non-null object\n",
      "is_starred                  1629 non-null object\n",
      "last_update_published_at    0 non-null float64\n",
      "launched_at                 332899 non-null datetime64[ns]\n",
      "name                        332898 non-null object\n",
      "permissions                 1498 non-null object\n",
      "pledged                     332899 non-null float64\n",
      "slug                        332899 non-null object\n",
      "source_url                  288499 non-null object\n",
      "spotlight                   332899 non-null bool\n",
      "staff_pick                  332899 non-null bool\n",
      "state                       332899 non-null object\n",
      "state_changed_at            332899 non-null datetime64[ns]\n",
      "static_usd_rate             332899 non-null float64\n",
      "unread_messages_count       0 non-null float64\n",
      "unseen_activity_count       0 non-null float64\n",
      "urls                        332899 non-null object\n",
      "usd_pledged                 332899 non-null float64\n",
      "usd_type                    193390 non-null object\n",
      "sub_category                332899 non-null object\n",
      "overall_category            332899 non-null object\n",
      "city                        331832 non-null object\n",
      "country_loc                 331832 non-null object\n",
      "state_loc                   331832 non-null object\n",
      "creator_name                332899 non-null object\n",
      "creator_slug                332899 non-null object\n",
      "dtypes: bool(4), datetime64[ns](4), float64(9), int64(2), object(23)\n",
      "memory usage: 97.8+ MB\n"
     ]
    }
   ],
   "source": [
    "kick_inter.info()"
   ]
  },
  {
   "cell_type": "code",
   "execution_count": null,
   "metadata": {},
   "outputs": [],
   "source": []
  }
 ],
 "metadata": {
  "kernelspec": {
   "display_name": "Python 3",
   "language": "python",
   "name": "python3"
  },
  "language_info": {
   "codemirror_mode": {
    "name": "ipython",
    "version": 3
   },
   "file_extension": ".py",
   "mimetype": "text/x-python",
   "name": "python",
   "nbconvert_exporter": "python",
   "pygments_lexer": "ipython3",
   "version": "3.7.1"
  },
  "toc": {
   "base_numbering": 1,
   "nav_menu": {},
   "number_sections": true,
   "sideBar": true,
   "skip_h1_title": true,
   "title_cell": "Table of Contents",
   "title_sidebar": "Contents",
   "toc_cell": false,
   "toc_position": {},
   "toc_section_display": true,
   "toc_window_display": false
  }
 },
 "nbformat": 4,
 "nbformat_minor": 2
}
