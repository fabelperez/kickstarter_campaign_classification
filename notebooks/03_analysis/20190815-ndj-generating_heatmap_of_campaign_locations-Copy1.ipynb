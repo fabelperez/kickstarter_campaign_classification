{
 "cells": [
  {
   "cell_type": "markdown",
   "metadata": {},
   "source": [
    "## Objective\n",
    "\n",
    "plot US campaigns that have been completed and are currently live (color coded by success, fail, live). \n",
    "Generate pop-up with:\n",
    " - project name, category\n",
    " - goal amount\n",
    " - number of backers\n",
    " - url \n",
    " "
   ]
  },
  {
   "cell_type": "code",
   "execution_count": 1,
   "metadata": {},
   "outputs": [],
   "source": [
    "import folium\n",
    "import pandas as pd\n",
    "import numpy as np \n",
    "import os\n",
    "import sys\n",
    "import glob\n",
    "import functools\n",
    "\n",
    "src_dir = os.path.join(os.getcwd(), '..', '..', 'src')\n",
    "sys.path.append(src_dir)\n",
    "\n",
    "pd.set_option('display.max_columns', None)"
   ]
  },
  {
   "cell_type": "code",
   "execution_count": 2,
   "metadata": {},
   "outputs": [],
   "source": [
    "map_data = pd.read_pickle('../../data/02_intermediate/kickUS_map.pkl')"
   ]
  },
  {
   "cell_type": "code",
   "execution_count": 3,
   "metadata": {},
   "outputs": [],
   "source": [
    "#map_data.head()"
   ]
  },
  {
   "cell_type": "markdown",
   "metadata": {},
   "source": [
    "99353 NaN values in lat/lng columns. Going to proceed to practice with what I have now\n",
    "\n",
    "`map_data.lat.isna().sum()`\n",
    "\n",
    "Need to generate list of popups on subset of data that actually has lat/lng data. "
   ]
  },
  {
   "cell_type": "code",
   "execution_count": 14,
   "metadata": {},
   "outputs": [
    {
     "data": {
      "text/plain": [
       "38.07277354688543"
      ]
     },
     "execution_count": 14,
     "metadata": {},
     "output_type": "execute_result"
    }
   ],
   "source": [
    "map_data.lat.mean()"
   ]
  },
  {
   "cell_type": "code",
   "execution_count": 4,
   "metadata": {},
   "outputs": [],
   "source": [
    "df = map_data.loc[(map_data.lat.isna() == False)]"
   ]
  },
  {
   "cell_type": "code",
   "execution_count": 5,
   "metadata": {},
   "outputs": [],
   "source": [
    "popup_content = list(zip(df.name, df.backers_count))"
   ]
  },
  {
   "cell_type": "code",
   "execution_count": 6,
   "metadata": {},
   "outputs": [
    {
     "data": {
      "text/plain": [
       "123785"
      ]
     },
     "execution_count": 6,
     "metadata": {},
     "output_type": "execute_result"
    }
   ],
   "source": [
    "popups = ['{}<br>Backer Count = {}'.format(name, count) for (name, count) in popup_content]\n",
    "\n",
    "len(popups)"
   ]
  },
  {
   "cell_type": "code",
   "execution_count": 8,
   "metadata": {},
   "outputs": [],
   "source": [
    "locations = list(zip(df.lat, df.lng))"
   ]
  },
  {
   "cell_type": "code",
   "execution_count": 7,
   "metadata": {},
   "outputs": [],
   "source": [
    "from folium.plugins import FastMarkerCluster"
   ]
  },
  {
   "cell_type": "code",
   "execution_count": 10,
   "metadata": {},
   "outputs": [],
   "source": [
    "m = folium.Map(\n",
    "    location=[map_data.lat.mean(), map_data.lng.mean()],\n",
    "    zoom_start=1,\n",
    ")\n",
    "\n",
    "FastMarkerCluster(data=locations).add_to(m)\n",
    "\n",
    "folium.LayerControl().add_to(m)\n",
    "m.save(os.path.join('../../results', 'USfastClusterTEST.html'))"
   ]
  },
  {
   "cell_type": "code",
   "execution_count": null,
   "metadata": {},
   "outputs": [],
   "source": [
    "m = folium.Map(location=[map_data.lat.mean(), map_data.lng.mean()], zoom_start=5)"
   ]
  },
  {
   "cell_type": "code",
   "execution_count": null,
   "metadata": {},
   "outputs": [],
   "source": []
  },
  {
   "cell_type": "code",
   "execution_count": null,
   "metadata": {},
   "outputs": [],
   "source": []
  },
  {
   "cell_type": "code",
   "execution_count": null,
   "metadata": {},
   "outputs": [],
   "source": []
  },
  {
   "cell_type": "code",
   "execution_count": 58,
   "metadata": {
    "scrolled": true
   },
   "outputs": [],
   "source": [
    "# m = folium.Map(location=[map_data.lat.mean(), map_data.lng.mean()], zoom_start=5)\n",
    "\n",
    "# locations = list(zip(df.lat, df.lng))\n",
    "\n",
    "# icon_create_function = \"\"\"\\\n",
    "# function(cluster) {\n",
    "#     return L.divIcon({\n",
    "#     html: '<b>' + cluster.getChildCount() + '</b>',\n",
    "#     className: 'marker-cluster marker-cluster-large',\n",
    "#     iconSize: new L.Point(20, 20)\n",
    "#     });\n",
    "# }\"\"\"\n",
    "\n",
    "# marker_cluster = MarkerCluster(\n",
    "#     locations=locations, popups=popups\n",
    "#     name='Practice Test',\n",
    "#     overlay=True,\n",
    "#     control=True,\n",
    "#     icon_create_function=icon_create_function\n",
    "# ).add_to(m)\n",
    "\n",
    "\n",
    "\n",
    "# folium.LayerControl().add_to(m)\n",
    "\n",
    "# #popups = ['{}<br>Backer Count = {}'.format(map_data.name, map_data.backers_count) for project in map_data.name]\n",
    "\n",
    "# # folium.Marker(\n",
    "# #     location=[40.67, -73.94], \n",
    "# #     popup='Add popup text here.',\n",
    "# #     icon=folium.Icon(color='green', icon='ok-sign'),\n",
    "# # ).add_to(marker_cluster)\n",
    "\n",
    "# # folium.Marker(\n",
    "# #     location=[44.67, -73.94],\n",
    "# #     popup='Add popup text here.',\n",
    "# #     icon=folium.Icon(color='red', icon='remove-sign'),\n",
    "# # ).add_to(marker_cluster)\n",
    "\n",
    "# # folium.Marker(\n",
    "# #     location=[44.67, -71.94],\n",
    "# #     popup='Add popup text here.',\n",
    "# #     icon=None,\n",
    "# # ).add_to(marker_cluster)\n",
    "\n",
    "# #m.save(os.path.join('results', '1000_MarkerCluster0.html'))\n",
    "\n",
    "# m"
   ]
  },
  {
   "cell_type": "code",
   "execution_count": null,
   "metadata": {},
   "outputs": [],
   "source": [
    "m = folium.Map(location=[map_data.lat.mean(), map_data.lng.mean()], zoom_start=5)\n",
    "\n",
    "\n",
    "\n",
    "# icon_create_function = \"\"\"\\\n",
    "# function(cluster) {\n",
    "#     return L.divIcon({\n",
    "#     html: '<b>' + cluster.getChildCount() + '</b>',\n",
    "#     className: 'marker-cluster marker-cluster-large',\n",
    "#     iconSize: new L.Point(20, 20)\n",
    "#     });\n",
    "# }\"\"\"\n",
    "\n",
    "marker_cluster = MarkerCluster(\n",
    "    name='Practice Test',\n",
    "    overlay=True,\n",
    "    control=True,\n",
    "    icon_create_function=None\n",
    ").add_to(m)\n",
    "\n",
    "for k in range(len(locations)):\n",
    "    location = locations[k][0], locations[k][1]\n",
    "    marker = folium.Marker(location=location)\n",
    "    popup = popups[k]\n",
    "    folium.Popup(popup).add_to(marker)\n",
    "    if list(df.state)[k] == 'live':\n",
    "        icons = folium.Icon(color='blue', icon='ok-sign').add_to(marker)\n",
    "    elif list(df.state)[k] == 'successful':\n",
    "        icons = folium.Icon(color='green', icon='remove-sign').add_to(marker)\n",
    "    else:\n",
    "        icons = folium.Icon(color='red', icon='ok-sign').add_to(marker)\n",
    "    marker_cluster.add_child(marker)\n",
    "\n",
    "marker_cluster.add_to(m)\n",
    "\n",
    "folium.LayerControl().add_to(m)\n",
    "m"
   ]
  },
  {
   "cell_type": "code",
   "execution_count": 43,
   "metadata": {
    "scrolled": true
   },
   "outputs": [
    {
     "data": {
      "text/plain": [
       "successful    67083\n",
       "failed        37435\n",
       "live          19267\n",
       "Name: state, dtype: int64"
      ]
     },
     "execution_count": 43,
     "metadata": {},
     "output_type": "execute_result"
    }
   ],
   "source": [
    "df.state.value_counts()"
   ]
  },
  {
   "cell_type": "markdown",
   "metadata": {},
   "source": [
    "#### Testing"
   ]
  },
  {
   "cell_type": "code",
   "execution_count": null,
   "metadata": {},
   "outputs": [],
   "source": [
    "# for k in range(20):\n",
    "#     if list(df.state)[k] == 'live':\n",
    "#         icons = folium.Icon(color='blue', icon='ok-sign').add_to(marker_cluster)\n",
    "#         print(f'The icon will be blue')\n",
    "#     elif list(df.state)[k] == 'successful':\n",
    "#         icons = folium.Icon(color='green', icon='remove-sign').add_to(marker_cluster)\n",
    "#         print('The icon will be green')\n",
    "#     else:\n",
    "#         icons = folium.Icon(color='red', icon='ok-sign').add_to(marker_cluster)\n",
    "#         print('This one failed')"
   ]
  },
  {
   "cell_type": "code",
   "execution_count": null,
   "metadata": {},
   "outputs": [],
   "source": []
  }
 ],
 "metadata": {
  "kernelspec": {
   "display_name": "Python 3",
   "language": "python",
   "name": "python3"
  },
  "language_info": {
   "codemirror_mode": {
    "name": "ipython",
    "version": 3
   },
   "file_extension": ".py",
   "mimetype": "text/x-python",
   "name": "python",
   "nbconvert_exporter": "python",
   "pygments_lexer": "ipython3",
   "version": "3.7.3"
  }
 },
 "nbformat": 4,
 "nbformat_minor": 2
}
