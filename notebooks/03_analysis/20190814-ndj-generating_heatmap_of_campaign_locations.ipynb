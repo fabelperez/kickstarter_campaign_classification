{
 "cells": [
  {
   "cell_type": "markdown",
   "metadata": {},
   "source": [
    "## IMPORTant Stuff"
   ]
  },
  {
   "cell_type": "code",
   "execution_count": null,
   "metadata": {},
   "outputs": [],
   "source": [
    "import geopandas as gp\n",
    "import folium"
   ]
  },
  {
   "cell_type": "code",
   "execution_count": 1,
   "metadata": {},
   "outputs": [],
   "source": [
    "import pandas as pd\n",
    "import numpy as np \n",
    "import matplotlib.pyplot as plt\n",
    "import seaborn as sns\n",
    "import os\n",
    "import sys\n",
    "import glob\n",
    "import functools\n",
    "\n",
    "src_dir = os.path.join(os.getcwd(), '..', '..', 'src')\n",
    "sys.path.append(src_dir)"
   ]
  },
  {
   "cell_type": "code",
   "execution_count": 4,
   "metadata": {},
   "outputs": [],
   "source": [
    "pd.set_option('display.max_columns', None)\n"
   ]
  },
  {
   "cell_type": "code",
   "execution_count": 2,
   "metadata": {},
   "outputs": [
    {
     "name": "stderr",
     "output_type": "stream",
     "text": [
      "/anaconda3/lib/python3.7/site-packages/IPython/core/interactiveshell.py:3049: DtypeWarning: Columns (11,15,16,17,21) have mixed types. Specify dtype option on import or set low_memory=False.\n",
      "  interactivity=interactivity, compiler=compiler, result=result)\n"
     ]
    }
   ],
   "source": [
    "kick_data = pd.read_csv('../../data/02_intermediate/kick_inter.csv')"
   ]
  },
  {
   "cell_type": "code",
   "execution_count": 8,
   "metadata": {},
   "outputs": [
    {
     "data": {
      "text/plain": [
       "Index(['backers_count', 'blurb', 'converted_pledged_amount', 'country',\n",
       "       'created_at', 'currency', 'currency_symbol', 'currency_trailing_code',\n",
       "       'current_currency', 'deadline', 'disable_communication', 'friends',\n",
       "       'fx_rate', 'goal', 'id', 'is_backing', 'is_starrable', 'is_starred',\n",
       "       'last_update_published_at', 'launched_at', 'name', 'permissions',\n",
       "       'pledged', 'slug', 'source_url', 'spotlight', 'staff_pick', 'state',\n",
       "       'state_changed_at', 'static_usd_rate', 'unread_messages_count',\n",
       "       'unseen_activity_count', 'urls', 'usd_pledged', 'usd_type',\n",
       "       'sub_category', 'overall_category', 'city', 'country_loc', 'state_loc',\n",
       "       'creator_name', 'creator_slug'],\n",
       "      dtype='object')"
      ]
     },
     "execution_count": 8,
     "metadata": {},
     "output_type": "execute_result"
    }
   ],
   "source": [
    "kick_data.columns"
   ]
  },
  {
   "cell_type": "code",
   "execution_count": 25,
   "metadata": {},
   "outputs": [
    {
     "data": {
      "text/plain": [
       "successful    139265\n",
       "failed        121385\n",
       "live           52687\n",
       "canceled       15657\n",
       "suspended       1018\n",
       "Name: state, dtype: int64"
      ]
     },
     "execution_count": 25,
     "metadata": {},
     "output_type": "execute_result"
    }
   ],
   "source": [
    "kick_data.state.value_counts()"
   ]
  },
  {
   "cell_type": "code",
   "execution_count": 27,
   "metadata": {},
   "outputs": [
    {
     "data": {
      "text/html": [
       "<div>\n",
       "<style scoped>\n",
       "    .dataframe tbody tr th:only-of-type {\n",
       "        vertical-align: middle;\n",
       "    }\n",
       "\n",
       "    .dataframe tbody tr th {\n",
       "        vertical-align: top;\n",
       "    }\n",
       "\n",
       "    .dataframe thead th {\n",
       "        text-align: right;\n",
       "    }\n",
       "</style>\n",
       "<table border=\"1\" class=\"dataframe\">\n",
       "  <thead>\n",
       "    <tr style=\"text-align: right;\">\n",
       "      <th></th>\n",
       "      <th>backers_count</th>\n",
       "      <th>blurb</th>\n",
       "      <th>converted_pledged_amount</th>\n",
       "      <th>country</th>\n",
       "      <th>created_at</th>\n",
       "      <th>currency</th>\n",
       "      <th>currency_symbol</th>\n",
       "      <th>currency_trailing_code</th>\n",
       "      <th>current_currency</th>\n",
       "      <th>deadline</th>\n",
       "      <th>disable_communication</th>\n",
       "      <th>friends</th>\n",
       "      <th>fx_rate</th>\n",
       "      <th>goal</th>\n",
       "      <th>id</th>\n",
       "      <th>is_backing</th>\n",
       "      <th>is_starrable</th>\n",
       "      <th>is_starred</th>\n",
       "      <th>last_update_published_at</th>\n",
       "      <th>launched_at</th>\n",
       "      <th>name</th>\n",
       "      <th>permissions</th>\n",
       "      <th>pledged</th>\n",
       "      <th>slug</th>\n",
       "      <th>source_url</th>\n",
       "      <th>spotlight</th>\n",
       "      <th>staff_pick</th>\n",
       "      <th>state</th>\n",
       "      <th>state_changed_at</th>\n",
       "      <th>static_usd_rate</th>\n",
       "      <th>unread_messages_count</th>\n",
       "      <th>unseen_activity_count</th>\n",
       "      <th>urls</th>\n",
       "      <th>usd_pledged</th>\n",
       "      <th>usd_type</th>\n",
       "      <th>sub_category</th>\n",
       "      <th>overall_category</th>\n",
       "      <th>city</th>\n",
       "      <th>country_loc</th>\n",
       "      <th>state_loc</th>\n",
       "      <th>creator_name</th>\n",
       "      <th>creator_slug</th>\n",
       "    </tr>\n",
       "  </thead>\n",
       "  <tbody>\n",
       "  </tbody>\n",
       "</table>\n",
       "</div>"
      ],
      "text/plain": [
       "Empty DataFrame\n",
       "Columns: [backers_count, blurb, converted_pledged_amount, country, created_at, currency, currency_symbol, currency_trailing_code, current_currency, deadline, disable_communication, friends, fx_rate, goal, id, is_backing, is_starrable, is_starred, last_update_published_at, launched_at, name, permissions, pledged, slug, source_url, spotlight, staff_pick, state, state_changed_at, static_usd_rate, unread_messages_count, unseen_activity_count, urls, usd_pledged, usd_type, sub_category, overall_category, city, country_loc, state_loc, creator_name, creator_slug]\n",
       "Index: []"
      ]
     },
     "execution_count": 27,
     "metadata": {},
     "output_type": "execute_result"
    }
   ],
   "source": [
    "kick_data.loc[((kick_data.state == 'successful') & (kick_data.state == 'failed'))]"
   ]
  },
  {
   "cell_type": "code",
   "execution_count": 9,
   "metadata": {},
   "outputs": [
    {
     "data": {
      "text/plain": [
       "6919"
      ]
     },
     "execution_count": 9,
     "metadata": {},
     "output_type": "execute_result"
    }
   ],
   "source": [
    "kick_data.loc[(kick_data.country_loc=='US')].city.nunique()"
   ]
  },
  {
   "cell_type": "code",
   "execution_count": 14,
   "metadata": {},
   "outputs": [
    {
     "data": {
      "text/plain": [
       "Los Angeles              9072\n",
       "New York                 7657\n",
       "London                   6914\n",
       "Chicago                  3867\n",
       "San Francisco            3292\n",
       "Brooklyn                 3099\n",
       "Portland                 2716\n",
       "Seattle                  2635\n",
       "Atlanta                  2155\n",
       "Toronto                  2090\n",
       "Boston                   2001\n",
       "Austin                   1990\n",
       "San Diego                1662\n",
       "Philadelphia             1661\n",
       "Minneapolis              1461\n",
       "Denver                   1429\n",
       "Washington               1422\n",
       "Houston                  1384\n",
       "Nashville                1380\n",
       "Dallas                   1377\n",
       "Vancouver                1329\n",
       "Hong Kong                1234\n",
       "Melbourne                1221\n",
       "Paris                    1164\n",
       "Salt Lake City           1110\n",
       "Orlando                  1101\n",
       "Manhattan                1078\n",
       "Las Vegas                1062\n",
       "Sydney                   1042\n",
       "Phoenix                  1022\n",
       "                         ... \n",
       "Denekamp                    1\n",
       "Chimaltenango               1\n",
       "Lauderdale-by-the-Sea       1\n",
       "Old Orchard Beach           1\n",
       "Guizhou                     1\n",
       "Sheet Harbour               1\n",
       "Klatovy                     1\n",
       "Hua Hin                     1\n",
       "Waretown                    1\n",
       "Edge Hill                   1\n",
       "Black Wolf                  1\n",
       "Cliffe Woods                1\n",
       "Creel                       1\n",
       "Auchinloch                  1\n",
       "Toruń                       1\n",
       "Gangnam-Gu                  1\n",
       "Much Wenlock                1\n",
       "32512                       1\n",
       "Aculco de Espinoza          1\n",
       "Abbottstown                 1\n",
       "Colonia Roma                1\n",
       "West Memphis                1\n",
       "Hanksville                  1\n",
       "Camp Springs                1\n",
       "East Sioux Falls            1\n",
       "Geff                        1\n",
       "Ocean                       1\n",
       "Spitalfields                1\n",
       "Pétionville                 1\n",
       "Leitrim                     1\n",
       "Name: city, Length: 12611, dtype: int64"
      ]
     },
     "execution_count": 14,
     "metadata": {},
     "output_type": "execute_result"
    }
   ],
   "source": [
    "kick_data.city.value_counts()"
   ]
  },
  {
   "cell_type": "markdown",
   "metadata": {},
   "source": [
    "There are 6919 unique US cities represented in our dataframe. Using https://simplemaps.com/data/us-cities, I will aim to get the Long/Lat info for each city and add to this df. "
   ]
  },
  {
   "cell_type": "code",
   "execution_count": 10,
   "metadata": {},
   "outputs": [],
   "source": [
    "cities = pd.read_csv('../../data/01_raw/uscitiesv1.5.csv')"
   ]
  },
  {
   "cell_type": "code",
   "execution_count": 15,
   "metadata": {},
   "outputs": [
    {
     "data": {
      "text/html": [
       "<div>\n",
       "<style scoped>\n",
       "    .dataframe tbody tr th:only-of-type {\n",
       "        vertical-align: middle;\n",
       "    }\n",
       "\n",
       "    .dataframe tbody tr th {\n",
       "        vertical-align: top;\n",
       "    }\n",
       "\n",
       "    .dataframe thead th {\n",
       "        text-align: right;\n",
       "    }\n",
       "</style>\n",
       "<table border=\"1\" class=\"dataframe\">\n",
       "  <thead>\n",
       "    <tr style=\"text-align: right;\">\n",
       "      <th></th>\n",
       "      <th>city</th>\n",
       "      <th>city_ascii</th>\n",
       "      <th>state_id</th>\n",
       "      <th>state_name</th>\n",
       "      <th>county_fips</th>\n",
       "      <th>county_name</th>\n",
       "      <th>lat</th>\n",
       "      <th>lng</th>\n",
       "      <th>population</th>\n",
       "      <th>population_proper</th>\n",
       "      <th>density</th>\n",
       "      <th>source</th>\n",
       "      <th>incorporated</th>\n",
       "      <th>timezone</th>\n",
       "      <th>zips</th>\n",
       "      <th>id</th>\n",
       "    </tr>\n",
       "  </thead>\n",
       "  <tbody>\n",
       "    <tr>\n",
       "      <th>8446</th>\n",
       "      <td>Los Angeles</td>\n",
       "      <td>Los Angeles</td>\n",
       "      <td>TX</td>\n",
       "      <td>Texas</td>\n",
       "      <td>48283</td>\n",
       "      <td>La Salle</td>\n",
       "      <td>28.4658</td>\n",
       "      <td>-99.0000</td>\n",
       "      <td>NaN</td>\n",
       "      <td>NaN</td>\n",
       "      <td>3.5</td>\n",
       "      <td>point</td>\n",
       "      <td>False</td>\n",
       "      <td>America/Chicago</td>\n",
       "      <td>78021</td>\n",
       "      <td>1840036276</td>\n",
       "    </tr>\n",
       "    <tr>\n",
       "      <th>16938</th>\n",
       "      <td>Los Angeles</td>\n",
       "      <td>Los Angeles</td>\n",
       "      <td>CA</td>\n",
       "      <td>California</td>\n",
       "      <td>6037</td>\n",
       "      <td>Los Angeles</td>\n",
       "      <td>34.1139</td>\n",
       "      <td>-118.4068</td>\n",
       "      <td>12815475.0</td>\n",
       "      <td>3999759.0</td>\n",
       "      <td>3295.0</td>\n",
       "      <td>polygon</td>\n",
       "      <td>True</td>\n",
       "      <td>America/Los_Angeles</td>\n",
       "      <td>90291 90293 90292 91316 91311 90034 90037 9000...</td>\n",
       "      <td>1840020491</td>\n",
       "    </tr>\n",
       "  </tbody>\n",
       "</table>\n",
       "</div>"
      ],
      "text/plain": [
       "              city   city_ascii state_id  state_name  county_fips  \\\n",
       "8446   Los Angeles  Los Angeles       TX       Texas        48283   \n",
       "16938  Los Angeles  Los Angeles       CA  California         6037   \n",
       "\n",
       "       county_name      lat       lng  population  population_proper  density  \\\n",
       "8446      La Salle  28.4658  -99.0000         NaN                NaN      3.5   \n",
       "16938  Los Angeles  34.1139 -118.4068  12815475.0          3999759.0   3295.0   \n",
       "\n",
       "        source  incorporated             timezone  \\\n",
       "8446     point         False      America/Chicago   \n",
       "16938  polygon          True  America/Los_Angeles   \n",
       "\n",
       "                                                    zips          id  \n",
       "8446                                               78021  1840036276  \n",
       "16938  90291 90293 90292 91316 91311 90034 90037 9000...  1840020491  "
      ]
     },
     "execution_count": 15,
     "metadata": {},
     "output_type": "execute_result"
    }
   ],
   "source": [
    "cities.loc[(cities.city == 'Los Angeles')]"
   ]
  },
  {
   "cell_type": "markdown",
   "metadata": {},
   "source": [
    "Thinking about the mask I would need to place on my dataframe. \n",
    "\n",
    "I need just US + unique City/State combinations. The latter "
   ]
  },
  {
   "cell_type": "code",
   "execution_count": 16,
   "metadata": {},
   "outputs": [
    {
     "data": {
      "text/plain": [
       "1102"
      ]
     },
     "execution_count": 16,
     "metadata": {},
     "output_type": "execute_result"
    }
   ],
   "source": [
    "kick_data.country_loc.isnull().sum() ## 1102 rows do not have a country defined - going to drop those."
   ]
  },
  {
   "cell_type": "code",
   "execution_count": 21,
   "metadata": {},
   "outputs": [],
   "source": [
    "kick_data.dropna(subset = ['country_loc'], inplace = True)"
   ]
  },
  {
   "cell_type": "code",
   "execution_count": 22,
   "metadata": {},
   "outputs": [
    {
     "data": {
      "text/plain": [
       "0"
      ]
     },
     "execution_count": 22,
     "metadata": {},
     "output_type": "execute_result"
    }
   ],
   "source": [
    "kick_data.country_loc.isnull().sum()"
   ]
  },
  {
   "cell_type": "code",
   "execution_count": 24,
   "metadata": {},
   "outputs": [
    {
     "data": {
      "text/plain": [
       "93"
      ]
     },
     "execution_count": 24,
     "metadata": {},
     "output_type": "execute_result"
    }
   ],
   "source": [
    "kick_data.state_loc.isnull().sum()"
   ]
  },
  {
   "cell_type": "code",
   "execution_count": 26,
   "metadata": {},
   "outputs": [
    {
     "data": {
      "text/plain": [
       "133447"
      ]
     },
     "execution_count": 26,
     "metadata": {},
     "output_type": "execute_result"
    }
   ],
   "source": [
    "kick_data.city.isnull().sum()"
   ]
  },
  {
   "cell_type": "code",
   "execution_count": null,
   "metadata": {},
   "outputs": [],
   "source": []
  }
 ],
 "metadata": {
  "kernelspec": {
   "display_name": "Python 3",
   "language": "python",
   "name": "python3"
  },
  "language_info": {
   "codemirror_mode": {
    "name": "ipython",
    "version": 3
   },
   "file_extension": ".py",
   "mimetype": "text/x-python",
   "name": "python",
   "nbconvert_exporter": "python",
   "pygments_lexer": "ipython3",
   "version": "3.7.3"
  }
 },
 "nbformat": 4,
 "nbformat_minor": 2
}
