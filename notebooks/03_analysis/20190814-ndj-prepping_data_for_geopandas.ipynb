{
 "cells": [
  {
   "cell_type": "markdown",
   "metadata": {},
   "source": [
    "## IMPORTant Stuff"
   ]
  },
  {
   "cell_type": "code",
   "execution_count": null,
   "metadata": {},
   "outputs": [],
   "source": [
    "import geopandas as gp\n",
    "import folium"
   ]
  },
  {
   "cell_type": "code",
   "execution_count": 1,
   "metadata": {},
   "outputs": [],
   "source": [
    "import pandas as pd\n",
    "import numpy as np \n",
    "import matplotlib.pyplot as plt\n",
    "import seaborn as sns\n",
    "import os\n",
    "import sys\n",
    "import glob\n",
    "import functools\n",
    "\n",
    "src_dir = os.path.join(os.getcwd(), '..', '..', 'src')\n",
    "sys.path.append(src_dir)"
   ]
  },
  {
   "cell_type": "code",
   "execution_count": 4,
   "metadata": {},
   "outputs": [],
   "source": [
    "pd.set_option('display.max_columns', None)\n"
   ]
  },
  {
   "cell_type": "code",
   "execution_count": 2,
   "metadata": {},
   "outputs": [
    {
     "name": "stderr",
     "output_type": "stream",
     "text": [
      "/anaconda3/lib/python3.7/site-packages/IPython/core/interactiveshell.py:3049: DtypeWarning: Columns (11,15,16,17,21) have mixed types. Specify dtype option on import or set low_memory=False.\n",
      "  interactivity=interactivity, compiler=compiler, result=result)\n"
     ]
    }
   ],
   "source": [
    "kick_data = pd.read_csv('../../data/02_intermediate/kick_inter.csv')"
   ]
  },
  {
   "cell_type": "code",
   "execution_count": 8,
   "metadata": {},
   "outputs": [
    {
     "data": {
      "text/plain": [
       "Index(['backers_count', 'blurb', 'converted_pledged_amount', 'country',\n",
       "       'created_at', 'currency', 'currency_symbol', 'currency_trailing_code',\n",
       "       'current_currency', 'deadline', 'disable_communication', 'friends',\n",
       "       'fx_rate', 'goal', 'id', 'is_backing', 'is_starrable', 'is_starred',\n",
       "       'last_update_published_at', 'launched_at', 'name', 'permissions',\n",
       "       'pledged', 'slug', 'source_url', 'spotlight', 'staff_pick', 'state',\n",
       "       'state_changed_at', 'static_usd_rate', 'unread_messages_count',\n",
       "       'unseen_activity_count', 'urls', 'usd_pledged', 'usd_type',\n",
       "       'sub_category', 'overall_category', 'city', 'country_loc', 'state_loc',\n",
       "       'creator_name', 'creator_slug'],\n",
       "      dtype='object')"
      ]
     },
     "execution_count": 8,
     "metadata": {},
     "output_type": "execute_result"
    }
   ],
   "source": [
    "kick_data.columns"
   ]
  },
  {
   "cell_type": "code",
   "execution_count": 25,
   "metadata": {},
   "outputs": [
    {
     "data": {
      "text/plain": [
       "successful    139265\n",
       "failed        121385\n",
       "live           52687\n",
       "canceled       15657\n",
       "suspended       1018\n",
       "Name: state, dtype: int64"
      ]
     },
     "execution_count": 25,
     "metadata": {},
     "output_type": "execute_result"
    }
   ],
   "source": [
    "kick_data.state.value_counts()"
   ]
  },
  {
   "cell_type": "markdown",
   "metadata": {},
   "source": [
    "Dropping data on \"live, canceled, and suspended\" campaigns. (Maybe plot LIVE separately..or same plot with different color marker?"
   ]
  },
  {
   "cell_type": "code",
   "execution_count": 30,
   "metadata": {},
   "outputs": [],
   "source": [
    "kick_to_plot = kick_data.loc[((kick_data.state == 'successful') | (kick_data.state == 'failed') | (kick_data.state == 'live'))]"
   ]
  },
  {
   "cell_type": "code",
   "execution_count": 9,
   "metadata": {},
   "outputs": [
    {
     "data": {
      "text/plain": [
       "6919"
      ]
     },
     "execution_count": 9,
     "metadata": {},
     "output_type": "execute_result"
    }
   ],
   "source": [
    "kick_data.loc[(kick_data.country_loc=='US')].city.nunique() # Number of unique US cities in dataset"
   ]
  },
  {
   "cell_type": "code",
   "execution_count": 14,
   "metadata": {},
   "outputs": [
    {
     "data": {
      "text/plain": [
       "Los Angeles              9072\n",
       "New York                 7657\n",
       "London                   6914\n",
       "Chicago                  3867\n",
       "San Francisco            3292\n",
       "Brooklyn                 3099\n",
       "Portland                 2716\n",
       "Seattle                  2635\n",
       "Atlanta                  2155\n",
       "Toronto                  2090\n",
       "Boston                   2001\n",
       "Austin                   1990\n",
       "San Diego                1662\n",
       "Philadelphia             1661\n",
       "Minneapolis              1461\n",
       "Denver                   1429\n",
       "Washington               1422\n",
       "Houston                  1384\n",
       "Nashville                1380\n",
       "Dallas                   1377\n",
       "Vancouver                1329\n",
       "Hong Kong                1234\n",
       "Melbourne                1221\n",
       "Paris                    1164\n",
       "Salt Lake City           1110\n",
       "Orlando                  1101\n",
       "Manhattan                1078\n",
       "Las Vegas                1062\n",
       "Sydney                   1042\n",
       "Phoenix                  1022\n",
       "                         ... \n",
       "Denekamp                    1\n",
       "Chimaltenango               1\n",
       "Lauderdale-by-the-Sea       1\n",
       "Old Orchard Beach           1\n",
       "Guizhou                     1\n",
       "Sheet Harbour               1\n",
       "Klatovy                     1\n",
       "Hua Hin                     1\n",
       "Waretown                    1\n",
       "Edge Hill                   1\n",
       "Black Wolf                  1\n",
       "Cliffe Woods                1\n",
       "Creel                       1\n",
       "Auchinloch                  1\n",
       "Toruń                       1\n",
       "Gangnam-Gu                  1\n",
       "Much Wenlock                1\n",
       "32512                       1\n",
       "Aculco de Espinoza          1\n",
       "Abbottstown                 1\n",
       "Colonia Roma                1\n",
       "West Memphis                1\n",
       "Hanksville                  1\n",
       "Camp Springs                1\n",
       "East Sioux Falls            1\n",
       "Geff                        1\n",
       "Ocean                       1\n",
       "Spitalfields                1\n",
       "Pétionville                 1\n",
       "Leitrim                     1\n",
       "Name: city, Length: 12611, dtype: int64"
      ]
     },
     "execution_count": 14,
     "metadata": {},
     "output_type": "execute_result"
    }
   ],
   "source": [
    "kick_data.city.value_counts()"
   ]
  },
  {
   "cell_type": "markdown",
   "metadata": {},
   "source": [
    "There are 6919 unique US cities represented in our dataframe. Using https://simplemaps.com/data/us-cities, I will aim to get the Long/Lat info for each city and add to this df. "
   ]
  },
  {
   "cell_type": "code",
   "execution_count": 10,
   "metadata": {},
   "outputs": [],
   "source": [
    "cities = pd.read_csv('../../data/01_raw/uscitiesv1.5.csv')"
   ]
  },
  {
   "cell_type": "code",
   "execution_count": 15,
   "metadata": {},
   "outputs": [
    {
     "data": {
      "text/html": [
       "<div>\n",
       "<style scoped>\n",
       "    .dataframe tbody tr th:only-of-type {\n",
       "        vertical-align: middle;\n",
       "    }\n",
       "\n",
       "    .dataframe tbody tr th {\n",
       "        vertical-align: top;\n",
       "    }\n",
       "\n",
       "    .dataframe thead th {\n",
       "        text-align: right;\n",
       "    }\n",
       "</style>\n",
       "<table border=\"1\" class=\"dataframe\">\n",
       "  <thead>\n",
       "    <tr style=\"text-align: right;\">\n",
       "      <th></th>\n",
       "      <th>city</th>\n",
       "      <th>city_ascii</th>\n",
       "      <th>state_id</th>\n",
       "      <th>state_name</th>\n",
       "      <th>county_fips</th>\n",
       "      <th>county_name</th>\n",
       "      <th>lat</th>\n",
       "      <th>lng</th>\n",
       "      <th>population</th>\n",
       "      <th>population_proper</th>\n",
       "      <th>density</th>\n",
       "      <th>source</th>\n",
       "      <th>incorporated</th>\n",
       "      <th>timezone</th>\n",
       "      <th>zips</th>\n",
       "      <th>id</th>\n",
       "    </tr>\n",
       "  </thead>\n",
       "  <tbody>\n",
       "    <tr>\n",
       "      <th>8446</th>\n",
       "      <td>Los Angeles</td>\n",
       "      <td>Los Angeles</td>\n",
       "      <td>TX</td>\n",
       "      <td>Texas</td>\n",
       "      <td>48283</td>\n",
       "      <td>La Salle</td>\n",
       "      <td>28.4658</td>\n",
       "      <td>-99.0000</td>\n",
       "      <td>NaN</td>\n",
       "      <td>NaN</td>\n",
       "      <td>3.5</td>\n",
       "      <td>point</td>\n",
       "      <td>False</td>\n",
       "      <td>America/Chicago</td>\n",
       "      <td>78021</td>\n",
       "      <td>1840036276</td>\n",
       "    </tr>\n",
       "    <tr>\n",
       "      <th>16938</th>\n",
       "      <td>Los Angeles</td>\n",
       "      <td>Los Angeles</td>\n",
       "      <td>CA</td>\n",
       "      <td>California</td>\n",
       "      <td>6037</td>\n",
       "      <td>Los Angeles</td>\n",
       "      <td>34.1139</td>\n",
       "      <td>-118.4068</td>\n",
       "      <td>12815475.0</td>\n",
       "      <td>3999759.0</td>\n",
       "      <td>3295.0</td>\n",
       "      <td>polygon</td>\n",
       "      <td>True</td>\n",
       "      <td>America/Los_Angeles</td>\n",
       "      <td>90291 90293 90292 91316 91311 90034 90037 9000...</td>\n",
       "      <td>1840020491</td>\n",
       "    </tr>\n",
       "  </tbody>\n",
       "</table>\n",
       "</div>"
      ],
      "text/plain": [
       "              city   city_ascii state_id  state_name  county_fips  \\\n",
       "8446   Los Angeles  Los Angeles       TX       Texas        48283   \n",
       "16938  Los Angeles  Los Angeles       CA  California         6037   \n",
       "\n",
       "       county_name      lat       lng  population  population_proper  density  \\\n",
       "8446      La Salle  28.4658  -99.0000         NaN                NaN      3.5   \n",
       "16938  Los Angeles  34.1139 -118.4068  12815475.0          3999759.0   3295.0   \n",
       "\n",
       "        source  incorporated             timezone  \\\n",
       "8446     point         False      America/Chicago   \n",
       "16938  polygon          True  America/Los_Angeles   \n",
       "\n",
       "                                                    zips          id  \n",
       "8446                                               78021  1840036276  \n",
       "16938  90291 90293 90292 91316 91311 90034 90037 9000...  1840020491  "
      ]
     },
     "execution_count": 15,
     "metadata": {},
     "output_type": "execute_result"
    }
   ],
   "source": [
    "cities.loc[(cities.city == 'Los Angeles')]"
   ]
  },
  {
   "cell_type": "markdown",
   "metadata": {},
   "source": [
    "Thinking about the mask I would need to place on my dataframe. \n",
    "\n",
    "I need just US + unique City/State combinations. The latter "
   ]
  },
  {
   "cell_type": "code",
   "execution_count": 16,
   "metadata": {},
   "outputs": [
    {
     "data": {
      "text/plain": [
       "1102"
      ]
     },
     "execution_count": 16,
     "metadata": {},
     "output_type": "execute_result"
    }
   ],
   "source": [
    "kick_data.country_loc.isnull().sum() ## 1102 rows do not have a country defined - going to drop those."
   ]
  },
  {
   "cell_type": "code",
   "execution_count": 21,
   "metadata": {},
   "outputs": [],
   "source": [
    "#kick_data.dropna(subset = ['country_loc'], inplace = True)"
   ]
  },
  {
   "cell_type": "code",
   "execution_count": 24,
   "metadata": {},
   "outputs": [
    {
     "data": {
      "text/plain": [
       "93"
      ]
     },
     "execution_count": 24,
     "metadata": {},
     "output_type": "execute_result"
    }
   ],
   "source": [
    "kick_data.state_loc.isnull().sum()    # 93\n",
    "kick_data.city.isnull().sum()         # 133447\n",
    "kick_to_plot.city.isnull().sum()      # 123743\n",
    "kick_to_plot.state_loc.isnull().sum() # 86"
   ]
  },
  {
   "cell_type": "code",
   "execution_count": 39,
   "metadata": {},
   "outputs": [],
   "source": [
    "kick_plot_US = kick_to_plot.loc[(kick_to_plot.country_loc == 'US')]"
   ]
  },
  {
   "cell_type": "code",
   "execution_count": 94,
   "metadata": {},
   "outputs": [
    {
     "name": "stderr",
     "output_type": "stream",
     "text": [
      "/anaconda3/lib/python3.7/site-packages/pandas/core/frame.py:4025: SettingWithCopyWarning: \n",
      "A value is trying to be set on a copy of a slice from a DataFrame\n",
      "\n",
      "See the caveats in the documentation: http://pandas.pydata.org/pandas-docs/stable/indexing.html#indexing-view-versus-copy\n",
      "  return super(DataFrame, self).rename(**kwargs)\n"
     ]
    }
   ],
   "source": [
    "kick_plot_US.rename(columns = {'state_name':'state_id'}, inplace = True)"
   ]
  },
  {
   "cell_type": "code",
   "execution_count": 41,
   "metadata": {},
   "outputs": [],
   "source": [
    "drop = ['currency', 'currency_symbol', 'currency_trailing_code',\n",
    "       'current_currency', 'deadline', 'disable_communication', 'friends',\n",
    "       'fx_rate', 'is_backing', 'is_starrable', 'is_starred',\n",
    "       'last_update_published_at', 'permissions', 'slug', 'static_usd_rate', 'unread_messages_count',\n",
    "       'unseen_activity_count', 'urls', 'usd_type', 'creator_slug']"
   ]
  },
  {
   "cell_type": "code",
   "execution_count": 67,
   "metadata": {
    "scrolled": true
   },
   "outputs": [
    {
     "data": {
      "text/plain": [
       "Index(['backers_count', 'blurb', 'converted_pledged_amount', 'country',\n",
       "       'created_at', 'goal', 'id', 'launched_at', 'name', 'pledged',\n",
       "       'source_url', 'spotlight', 'staff_pick', 'state', 'state_changed_at',\n",
       "       'usd_pledged', 'sub_category', 'overall_category', 'city',\n",
       "       'country_loc', 'state_name', 'creator_name'],\n",
       "      dtype='object')"
      ]
     },
     "execution_count": 67,
     "metadata": {},
     "output_type": "execute_result"
    }
   ],
   "source": [
    "#kick_plot_US.drop(columns = drop, inplace = True)\n",
    "kick_plot_US.columns"
   ]
  },
  {
   "cell_type": "code",
   "execution_count": 56,
   "metadata": {
    "scrolled": true
   },
   "outputs": [
    {
     "name": "stderr",
     "output_type": "stream",
     "text": [
      "/anaconda3/lib/python3.7/site-packages/ipykernel_launcher.py:1: SettingWithCopyWarning: \n",
      "A value is trying to be set on a copy of a slice from a DataFrame.\n",
      "Try using .loc[row_indexer,col_indexer] = value instead\n",
      "\n",
      "See the caveats in the documentation: http://pandas.pydata.org/pandas-docs/stable/indexing.html#indexing-view-versus-copy\n",
      "  \"\"\"Entry point for launching an IPython kernel.\n"
     ]
    }
   ],
   "source": [
    "kick_plot_US['launched_at'] = pd.to_datetime(kick_plot_US['launched_at'])"
   ]
  },
  {
   "cell_type": "code",
   "execution_count": 58,
   "metadata": {},
   "outputs": [
    {
     "data": {
      "text/plain": [
       "0           0 days 00:48:54\n",
       "2           0 days 04:28:05\n",
       "3           0 days 00:45:51\n",
       "4           0 days 00:49:01\n",
       "7           0 days 07:37:44\n",
       "8           0 days 00:51:33\n",
       "12          0 days 18:04:18\n",
       "13          0 days 00:54:59\n",
       "14          0 days 01:29:14\n",
       "15          0 days 02:21:26\n",
       "16          0 days 03:10:54\n",
       "17          0 days 02:06:30\n",
       "19          0 days 01:23:23\n",
       "21          1 days 02:15:02\n",
       "22          1 days 01:39:46\n",
       "25          0 days 00:40:06\n",
       "26          0 days 00:31:10\n",
       "27          1 days 02:45:33\n",
       "28          0 days 10:50:59\n",
       "31          0 days 09:03:40\n",
       "32          0 days 02:13:35\n",
       "34          1 days 13:54:57\n",
       "35          0 days 03:21:19\n",
       "38          0 days 07:57:15\n",
       "39          2 days 09:03:46\n",
       "44          1 days 17:03:11\n",
       "51          2 days 13:11:15\n",
       "52          2 days 11:23:15\n",
       "53          0 days 16:51:47\n",
       "55          3 days 02:05:12\n",
       "                ...        \n",
       "331067      0 days 03:57:46\n",
       "331068      0 days 01:05:04\n",
       "331070      0 days 00:16:16\n",
       "331071      2 days 14:58:38\n",
       "331073     13 days 01:38:58\n",
       "331075      3 days 04:41:59\n",
       "331076      0 days 02:53:34\n",
       "331077      0 days 02:42:30\n",
       "331078      0 days 18:15:37\n",
       "331079      0 days 18:15:37\n",
       "331080      0 days 00:56:00\n",
       "331081      0 days 00:56:00\n",
       "331082     16 days 13:54:42\n",
       "331085      0 days 00:43:47\n",
       "331087      4 days 18:54:29\n",
       "331088      0 days 00:47:03\n",
       "331089      1 days 05:52:22\n",
       "331090      0 days 01:18:31\n",
       "331092      0 days 03:27:47\n",
       "331093      0 days 03:27:47\n",
       "331099      0 days 04:16:08\n",
       "331100   3303 days 13:44:00\n",
       "331102     14 days 05:16:45\n",
       "331103      1 days 07:11:24\n",
       "331104      1 days 07:11:24\n",
       "331107      6 days 03:37:37\n",
       "331108      6 days 04:21:03\n",
       "331109      6 days 04:21:03\n",
       "331110    257 days 03:19:54\n",
       "331112      9 days 13:33:15\n",
       "Length: 223138, dtype: timedelta64[ns]"
      ]
     },
     "execution_count": 58,
     "metadata": {},
     "output_type": "execute_result"
    }
   ],
   "source": [
    "kick_plot_US['launched_at'] - kick_plot_US['created_at']"
   ]
  },
  {
   "cell_type": "code",
   "execution_count": null,
   "metadata": {},
   "outputs": [],
   "source": []
  },
  {
   "cell_type": "code",
   "execution_count": 46,
   "metadata": {
    "scrolled": true
   },
   "outputs": [
    {
     "ename": "TypeError",
     "evalue": "unsupported operand type(s) for -: 'str' and 'str'",
     "output_type": "error",
     "traceback": [
      "\u001b[0;31m---------------------------------------------------------------------------\u001b[0m",
      "\u001b[0;31mTypeError\u001b[0m                                 Traceback (most recent call last)",
      "\u001b[0;32m/anaconda3/lib/python3.7/site-packages/pandas/core/ops.py\u001b[0m in \u001b[0;36mna_op\u001b[0;34m(x, y)\u001b[0m\n\u001b[1;32m   1504\u001b[0m         \u001b[0;32mtry\u001b[0m\u001b[0;34m:\u001b[0m\u001b[0;34m\u001b[0m\u001b[0;34m\u001b[0m\u001b[0m\n\u001b[0;32m-> 1505\u001b[0;31m             \u001b[0mresult\u001b[0m \u001b[0;34m=\u001b[0m \u001b[0mexpressions\u001b[0m\u001b[0;34m.\u001b[0m\u001b[0mevaluate\u001b[0m\u001b[0;34m(\u001b[0m\u001b[0mop\u001b[0m\u001b[0;34m,\u001b[0m \u001b[0mstr_rep\u001b[0m\u001b[0;34m,\u001b[0m \u001b[0mx\u001b[0m\u001b[0;34m,\u001b[0m \u001b[0my\u001b[0m\u001b[0;34m,\u001b[0m \u001b[0;34m**\u001b[0m\u001b[0meval_kwargs\u001b[0m\u001b[0;34m)\u001b[0m\u001b[0;34m\u001b[0m\u001b[0;34m\u001b[0m\u001b[0m\n\u001b[0m\u001b[1;32m   1506\u001b[0m         \u001b[0;32mexcept\u001b[0m \u001b[0mTypeError\u001b[0m\u001b[0;34m:\u001b[0m\u001b[0;34m\u001b[0m\u001b[0;34m\u001b[0m\u001b[0m\n",
      "\u001b[0;32m/anaconda3/lib/python3.7/site-packages/pandas/core/computation/expressions.py\u001b[0m in \u001b[0;36mevaluate\u001b[0;34m(op, op_str, a, b, use_numexpr, **eval_kwargs)\u001b[0m\n\u001b[1;32m    207\u001b[0m     \u001b[0;32mif\u001b[0m \u001b[0muse_numexpr\u001b[0m\u001b[0;34m:\u001b[0m\u001b[0;34m\u001b[0m\u001b[0;34m\u001b[0m\u001b[0m\n\u001b[0;32m--> 208\u001b[0;31m         \u001b[0;32mreturn\u001b[0m \u001b[0m_evaluate\u001b[0m\u001b[0;34m(\u001b[0m\u001b[0mop\u001b[0m\u001b[0;34m,\u001b[0m \u001b[0mop_str\u001b[0m\u001b[0;34m,\u001b[0m \u001b[0ma\u001b[0m\u001b[0;34m,\u001b[0m \u001b[0mb\u001b[0m\u001b[0;34m,\u001b[0m \u001b[0;34m**\u001b[0m\u001b[0meval_kwargs\u001b[0m\u001b[0;34m)\u001b[0m\u001b[0;34m\u001b[0m\u001b[0;34m\u001b[0m\u001b[0m\n\u001b[0m\u001b[1;32m    209\u001b[0m     \u001b[0;32mreturn\u001b[0m \u001b[0m_evaluate_standard\u001b[0m\u001b[0;34m(\u001b[0m\u001b[0mop\u001b[0m\u001b[0;34m,\u001b[0m \u001b[0mop_str\u001b[0m\u001b[0;34m,\u001b[0m \u001b[0ma\u001b[0m\u001b[0;34m,\u001b[0m \u001b[0mb\u001b[0m\u001b[0;34m)\u001b[0m\u001b[0;34m\u001b[0m\u001b[0;34m\u001b[0m\u001b[0m\n",
      "\u001b[0;32m/anaconda3/lib/python3.7/site-packages/pandas/core/computation/expressions.py\u001b[0m in \u001b[0;36m_evaluate_numexpr\u001b[0;34m(op, op_str, a, b, truediv, reversed, **eval_kwargs)\u001b[0m\n\u001b[1;32m    122\u001b[0m     \u001b[0;32mif\u001b[0m \u001b[0mresult\u001b[0m \u001b[0;32mis\u001b[0m \u001b[0;32mNone\u001b[0m\u001b[0;34m:\u001b[0m\u001b[0;34m\u001b[0m\u001b[0;34m\u001b[0m\u001b[0m\n\u001b[0;32m--> 123\u001b[0;31m         \u001b[0mresult\u001b[0m \u001b[0;34m=\u001b[0m \u001b[0m_evaluate_standard\u001b[0m\u001b[0;34m(\u001b[0m\u001b[0mop\u001b[0m\u001b[0;34m,\u001b[0m \u001b[0mop_str\u001b[0m\u001b[0;34m,\u001b[0m \u001b[0ma\u001b[0m\u001b[0;34m,\u001b[0m \u001b[0mb\u001b[0m\u001b[0;34m)\u001b[0m\u001b[0;34m\u001b[0m\u001b[0;34m\u001b[0m\u001b[0m\n\u001b[0m\u001b[1;32m    124\u001b[0m \u001b[0;34m\u001b[0m\u001b[0m\n",
      "\u001b[0;32m/anaconda3/lib/python3.7/site-packages/pandas/core/computation/expressions.py\u001b[0m in \u001b[0;36m_evaluate_standard\u001b[0;34m(op, op_str, a, b, **eval_kwargs)\u001b[0m\n\u001b[1;32m     67\u001b[0m     \u001b[0;32mwith\u001b[0m \u001b[0mnp\u001b[0m\u001b[0;34m.\u001b[0m\u001b[0merrstate\u001b[0m\u001b[0;34m(\u001b[0m\u001b[0mall\u001b[0m\u001b[0;34m=\u001b[0m\u001b[0;34m'ignore'\u001b[0m\u001b[0;34m)\u001b[0m\u001b[0;34m:\u001b[0m\u001b[0;34m\u001b[0m\u001b[0;34m\u001b[0m\u001b[0m\n\u001b[0;32m---> 68\u001b[0;31m         \u001b[0;32mreturn\u001b[0m \u001b[0mop\u001b[0m\u001b[0;34m(\u001b[0m\u001b[0ma\u001b[0m\u001b[0;34m,\u001b[0m \u001b[0mb\u001b[0m\u001b[0;34m)\u001b[0m\u001b[0;34m\u001b[0m\u001b[0;34m\u001b[0m\u001b[0m\n\u001b[0m\u001b[1;32m     69\u001b[0m \u001b[0;34m\u001b[0m\u001b[0m\n",
      "\u001b[0;31mTypeError\u001b[0m: unsupported operand type(s) for -: 'str' and 'str'",
      "\nDuring handling of the above exception, another exception occurred:\n",
      "\u001b[0;31mTypeError\u001b[0m                                 Traceback (most recent call last)",
      "\u001b[0;32m/anaconda3/lib/python3.7/site-packages/pandas/core/ops.py\u001b[0m in \u001b[0;36msafe_na_op\u001b[0;34m(lvalues, rvalues)\u001b[0m\n\u001b[1;32m   1528\u001b[0m             \u001b[0;32mwith\u001b[0m \u001b[0mnp\u001b[0m\u001b[0;34m.\u001b[0m\u001b[0merrstate\u001b[0m\u001b[0;34m(\u001b[0m\u001b[0mall\u001b[0m\u001b[0;34m=\u001b[0m\u001b[0;34m'ignore'\u001b[0m\u001b[0;34m)\u001b[0m\u001b[0;34m:\u001b[0m\u001b[0;34m\u001b[0m\u001b[0;34m\u001b[0m\u001b[0m\n\u001b[0;32m-> 1529\u001b[0;31m                 \u001b[0;32mreturn\u001b[0m \u001b[0mna_op\u001b[0m\u001b[0;34m(\u001b[0m\u001b[0mlvalues\u001b[0m\u001b[0;34m,\u001b[0m \u001b[0mrvalues\u001b[0m\u001b[0;34m)\u001b[0m\u001b[0;34m\u001b[0m\u001b[0;34m\u001b[0m\u001b[0m\n\u001b[0m\u001b[1;32m   1530\u001b[0m         \u001b[0;32mexcept\u001b[0m \u001b[0mException\u001b[0m\u001b[0;34m:\u001b[0m\u001b[0;34m\u001b[0m\u001b[0;34m\u001b[0m\u001b[0m\n",
      "\u001b[0;32m/anaconda3/lib/python3.7/site-packages/pandas/core/ops.py\u001b[0m in \u001b[0;36mna_op\u001b[0;34m(x, y)\u001b[0m\n\u001b[1;32m   1506\u001b[0m         \u001b[0;32mexcept\u001b[0m \u001b[0mTypeError\u001b[0m\u001b[0;34m:\u001b[0m\u001b[0;34m\u001b[0m\u001b[0;34m\u001b[0m\u001b[0m\n\u001b[0;32m-> 1507\u001b[0;31m             \u001b[0mresult\u001b[0m \u001b[0;34m=\u001b[0m \u001b[0mmasked_arith_op\u001b[0m\u001b[0;34m(\u001b[0m\u001b[0mx\u001b[0m\u001b[0;34m,\u001b[0m \u001b[0my\u001b[0m\u001b[0;34m,\u001b[0m \u001b[0mop\u001b[0m\u001b[0;34m)\u001b[0m\u001b[0;34m\u001b[0m\u001b[0;34m\u001b[0m\u001b[0m\n\u001b[0m\u001b[1;32m   1508\u001b[0m \u001b[0;34m\u001b[0m\u001b[0m\n",
      "\u001b[0;32m/anaconda3/lib/python3.7/site-packages/pandas/core/ops.py\u001b[0m in \u001b[0;36mmasked_arith_op\u001b[0;34m(x, y, op)\u001b[0m\n\u001b[1;32m   1008\u001b[0m                 result[mask] = op(xrav[mask],\n\u001b[0;32m-> 1009\u001b[0;31m                                   com.values_from_object(yrav[mask]))\n\u001b[0m\u001b[1;32m   1010\u001b[0m \u001b[0;34m\u001b[0m\u001b[0m\n",
      "\u001b[0;31mTypeError\u001b[0m: unsupported operand type(s) for -: 'str' and 'str'",
      "\nDuring handling of the above exception, another exception occurred:\n",
      "\u001b[0;31mTypeError\u001b[0m                                 Traceback (most recent call last)",
      "\u001b[0;32m<ipython-input-46-a387e36b5218>\u001b[0m in \u001b[0;36m<module>\u001b[0;34m\u001b[0m\n\u001b[0;32m----> 1\u001b[0;31m \u001b[0mkick_plot_US\u001b[0m\u001b[0;34m[\u001b[0m\u001b[0;34m'campaign_length'\u001b[0m\u001b[0;34m]\u001b[0m \u001b[0;34m=\u001b[0m \u001b[0mkick_plot_US\u001b[0m\u001b[0;34m.\u001b[0m\u001b[0mstate_changed_at\u001b[0m \u001b[0;34m-\u001b[0m \u001b[0mkick_plot_US\u001b[0m\u001b[0;34m.\u001b[0m\u001b[0mlaunched_at\u001b[0m\u001b[0;34m\u001b[0m\u001b[0;34m\u001b[0m\u001b[0m\n\u001b[0m",
      "\u001b[0;32m/anaconda3/lib/python3.7/site-packages/pandas/core/ops.py\u001b[0m in \u001b[0;36mwrapper\u001b[0;34m(left, right)\u001b[0m\n\u001b[1;32m   1581\u001b[0m             \u001b[0mrvalues\u001b[0m \u001b[0;34m=\u001b[0m \u001b[0mrvalues\u001b[0m\u001b[0;34m.\u001b[0m\u001b[0mvalues\u001b[0m\u001b[0;34m\u001b[0m\u001b[0;34m\u001b[0m\u001b[0m\n\u001b[1;32m   1582\u001b[0m \u001b[0;34m\u001b[0m\u001b[0m\n\u001b[0;32m-> 1583\u001b[0;31m         \u001b[0mresult\u001b[0m \u001b[0;34m=\u001b[0m \u001b[0msafe_na_op\u001b[0m\u001b[0;34m(\u001b[0m\u001b[0mlvalues\u001b[0m\u001b[0;34m,\u001b[0m \u001b[0mrvalues\u001b[0m\u001b[0;34m)\u001b[0m\u001b[0;34m\u001b[0m\u001b[0;34m\u001b[0m\u001b[0m\n\u001b[0m\u001b[1;32m   1584\u001b[0m         return construct_result(left, result,\n\u001b[1;32m   1585\u001b[0m                                 index=left.index, name=res_name, dtype=None)\n",
      "\u001b[0;32m/anaconda3/lib/python3.7/site-packages/pandas/core/ops.py\u001b[0m in \u001b[0;36msafe_na_op\u001b[0;34m(lvalues, rvalues)\u001b[0m\n\u001b[1;32m   1531\u001b[0m             \u001b[0;32mif\u001b[0m \u001b[0mis_object_dtype\u001b[0m\u001b[0;34m(\u001b[0m\u001b[0mlvalues\u001b[0m\u001b[0;34m)\u001b[0m\u001b[0;34m:\u001b[0m\u001b[0;34m\u001b[0m\u001b[0;34m\u001b[0m\u001b[0m\n\u001b[1;32m   1532\u001b[0m                 return libalgos.arrmap_object(lvalues,\n\u001b[0;32m-> 1533\u001b[0;31m                                               lambda x: op(x, rvalues))\n\u001b[0m\u001b[1;32m   1534\u001b[0m             \u001b[0;32mraise\u001b[0m\u001b[0;34m\u001b[0m\u001b[0;34m\u001b[0m\u001b[0m\n\u001b[1;32m   1535\u001b[0m \u001b[0;34m\u001b[0m\u001b[0m\n",
      "\u001b[0;32mpandas/_libs/algos.pyx\u001b[0m in \u001b[0;36mpandas._libs.algos.arrmap\u001b[0;34m()\u001b[0m\n",
      "\u001b[0;32m/anaconda3/lib/python3.7/site-packages/pandas/core/ops.py\u001b[0m in \u001b[0;36m<lambda>\u001b[0;34m(x)\u001b[0m\n\u001b[1;32m   1531\u001b[0m             \u001b[0;32mif\u001b[0m \u001b[0mis_object_dtype\u001b[0m\u001b[0;34m(\u001b[0m\u001b[0mlvalues\u001b[0m\u001b[0;34m)\u001b[0m\u001b[0;34m:\u001b[0m\u001b[0;34m\u001b[0m\u001b[0;34m\u001b[0m\u001b[0m\n\u001b[1;32m   1532\u001b[0m                 return libalgos.arrmap_object(lvalues,\n\u001b[0;32m-> 1533\u001b[0;31m                                               lambda x: op(x, rvalues))\n\u001b[0m\u001b[1;32m   1534\u001b[0m             \u001b[0;32mraise\u001b[0m\u001b[0;34m\u001b[0m\u001b[0;34m\u001b[0m\u001b[0m\n\u001b[1;32m   1535\u001b[0m \u001b[0;34m\u001b[0m\u001b[0m\n",
      "\u001b[0;31mTypeError\u001b[0m: unsupported operand type(s) for -: 'str' and 'str'"
     ]
    }
   ],
   "source": [
    "kick_plot_US['campaign_length'] = kick_plot_US.state_changed_at - kick_plot_US.launched_at"
   ]
  },
  {
   "cell_type": "markdown",
   "metadata": {},
   "source": [
    "Trying to Merge Cities to Kick_Plot_US"
   ]
  },
  {
   "cell_type": "markdown",
   "metadata": {
    "heading_collapsed": true
   },
   "source": [
    "### Random help for Misha"
   ]
  },
  {
   "cell_type": "code",
   "execution_count": 79,
   "metadata": {
    "hidden": true
   },
   "outputs": [],
   "source": [
    "rand = {'key1':['value1', 'val2', 'val3'], 'key2': ['val4', 'val5']}"
   ]
  },
  {
   "cell_type": "code",
   "execution_count": 81,
   "metadata": {
    "hidden": true
   },
   "outputs": [
    {
     "name": "stdout",
     "output_type": "stream",
     "text": [
      "{'value1': 'key1', 'val2': 'key1', 'val3': 'key1', 'val4': 'key2', 'val5': 'key2'}\n"
     ]
    }
   ],
   "source": [
    "dict_new = {}\n",
    "for key, val in rand.items():\n",
    "    for i in range(len(val)):\n",
    "        dict_new[val[i]] = key\n",
    "        \n",
    "print(dict_new)"
   ]
  },
  {
   "cell_type": "markdown",
   "metadata": {},
   "source": [
    "### Now back to mapping these values in"
   ]
  },
  {
   "cell_type": "markdown",
   "metadata": {},
   "source": [
    "Important lesson for merging tables: \n",
    "Was having issue with NaN values appearing in the 'lat','lng' columns. Turns out that in one DF, the \"state_name\" column had actual names, in the DF I was merging with \"state_name\" had the two-letter state ID. Therefore nothing was a complete match for a proper merge. "
   ]
  },
  {
   "cell_type": "code",
   "execution_count": 98,
   "metadata": {},
   "outputs": [],
   "source": [
    "kickUS_map = kick_plot_US.merge(cities[['city', 'state_id', 'lat', 'lng']], \n",
    "                   how = 'left', on = ['state_id', 'city'])"
   ]
  },
  {
   "cell_type": "code",
   "execution_count": 76,
   "metadata": {},
   "outputs": [
    {
     "data": {
      "text/html": [
       "<div>\n",
       "<style scoped>\n",
       "    .dataframe tbody tr th:only-of-type {\n",
       "        vertical-align: middle;\n",
       "    }\n",
       "\n",
       "    .dataframe tbody tr th {\n",
       "        vertical-align: top;\n",
       "    }\n",
       "\n",
       "    .dataframe thead th {\n",
       "        text-align: right;\n",
       "    }\n",
       "</style>\n",
       "<table border=\"1\" class=\"dataframe\">\n",
       "  <thead>\n",
       "    <tr style=\"text-align: right;\">\n",
       "      <th></th>\n",
       "      <th>city</th>\n",
       "      <th>city_ascii</th>\n",
       "      <th>state_id</th>\n",
       "      <th>state_name</th>\n",
       "      <th>county_fips</th>\n",
       "      <th>county_name</th>\n",
       "      <th>lat</th>\n",
       "      <th>lng</th>\n",
       "      <th>population</th>\n",
       "      <th>population_proper</th>\n",
       "      <th>density</th>\n",
       "      <th>source</th>\n",
       "      <th>incorporated</th>\n",
       "      <th>timezone</th>\n",
       "      <th>zips</th>\n",
       "      <th>id</th>\n",
       "    </tr>\n",
       "  </thead>\n",
       "  <tbody>\n",
       "    <tr>\n",
       "      <th>24836</th>\n",
       "      <td>Cincinnati</td>\n",
       "      <td>Cincinnati</td>\n",
       "      <td>IA</td>\n",
       "      <td>Iowa</td>\n",
       "      <td>19007</td>\n",
       "      <td>Appanoose</td>\n",
       "      <td>40.6309</td>\n",
       "      <td>-92.9222</td>\n",
       "      <td>340.0</td>\n",
       "      <td>340.0</td>\n",
       "      <td>75.0</td>\n",
       "      <td>polygon</td>\n",
       "      <td>True</td>\n",
       "      <td>America/Chicago</td>\n",
       "      <td>52549</td>\n",
       "      <td>1840007203</td>\n",
       "    </tr>\n",
       "    <tr>\n",
       "      <th>29125</th>\n",
       "      <td>Cincinnati</td>\n",
       "      <td>Cincinnati</td>\n",
       "      <td>OH</td>\n",
       "      <td>Ohio</td>\n",
       "      <td>39061</td>\n",
       "      <td>Hamilton</td>\n",
       "      <td>39.1412</td>\n",
       "      <td>-84.5059</td>\n",
       "      <td>1648254.0</td>\n",
       "      <td>301301.0</td>\n",
       "      <td>1493.0</td>\n",
       "      <td>polygon</td>\n",
       "      <td>True</td>\n",
       "      <td>America/New_York</td>\n",
       "      <td>45219 45213 45212 45211 45217 45216 45214 4523...</td>\n",
       "      <td>1840003814</td>\n",
       "    </tr>\n",
       "  </tbody>\n",
       "</table>\n",
       "</div>"
      ],
      "text/plain": [
       "             city  city_ascii state_id state_name  county_fips county_name  \\\n",
       "24836  Cincinnati  Cincinnati       IA       Iowa        19007   Appanoose   \n",
       "29125  Cincinnati  Cincinnati       OH       Ohio        39061    Hamilton   \n",
       "\n",
       "           lat      lng  population  population_proper  density   source  \\\n",
       "24836  40.6309 -92.9222       340.0              340.0     75.0  polygon   \n",
       "29125  39.1412 -84.5059   1648254.0           301301.0   1493.0  polygon   \n",
       "\n",
       "       incorporated          timezone  \\\n",
       "24836          True   America/Chicago   \n",
       "29125          True  America/New_York   \n",
       "\n",
       "                                                    zips          id  \n",
       "24836                                              52549  1840007203  \n",
       "29125  45219 45213 45212 45211 45217 45216 45214 4523...  1840003814  "
      ]
     },
     "execution_count": 76,
     "metadata": {},
     "output_type": "execute_result"
    }
   ],
   "source": [
    "cities.loc[(cities.city == 'Cincinnati')]"
   ]
  },
  {
   "cell_type": "code",
   "execution_count": 100,
   "metadata": {},
   "outputs": [
    {
     "data": {
      "text/plain": [
       "successful    104150\n",
       "failed         87907\n",
       "live           31081\n",
       "Name: state, dtype: int64"
      ]
     },
     "execution_count": 100,
     "metadata": {},
     "output_type": "execute_result"
    }
   ],
   "source": [
    "kickUS_map.state.value_counts()"
   ]
  },
  {
   "cell_type": "code",
   "execution_count": 101,
   "metadata": {},
   "outputs": [],
   "source": [
    "kickUS_map.to_pickle('../../data/02_intermediate/kickUS_map.pkl')"
   ]
  },
  {
   "cell_type": "code",
   "execution_count": null,
   "metadata": {},
   "outputs": [],
   "source": []
  }
 ],
 "metadata": {
  "kernelspec": {
   "display_name": "Python 3",
   "language": "python",
   "name": "python3"
  },
  "language_info": {
   "codemirror_mode": {
    "name": "ipython",
    "version": 3
   },
   "file_extension": ".py",
   "mimetype": "text/x-python",
   "name": "python",
   "nbconvert_exporter": "python",
   "pygments_lexer": "ipython3",
   "version": "3.7.3"
  }
 },
 "nbformat": 4,
 "nbformat_minor": 2
}
