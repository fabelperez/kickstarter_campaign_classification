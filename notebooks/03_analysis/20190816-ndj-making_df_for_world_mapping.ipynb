{
 "cells": [
  {
   "cell_type": "code",
   "execution_count": 2,
   "metadata": {},
   "outputs": [],
   "source": [
    "import folium\n",
    "import pandas as pd\n",
    "import numpy as np \n",
    "import matplotlib.pyplot as plt\n",
    "import seaborn as sns\n",
    "import os\n",
    "import sys\n",
    "\n",
    "src_dir = os.path.join(os.getcwd(), '..', '..', 'src')\n",
    "sys.path.append(src_dir)\n",
    "pd.set_option('display.max_columns', None)"
   ]
  },
  {
   "cell_type": "code",
   "execution_count": 3,
   "metadata": {},
   "outputs": [],
   "source": [
    "from folium.plugins import MarkerCluster"
   ]
  },
  {
   "cell_type": "markdown",
   "metadata": {},
   "source": [
    "Order of Events: \n",
    "\n",
    "- Import intermediate data\n",
    "- Change data type to datetime for relevant columns - SIKE\n",
    "- Filter kick_data on \"live\", \"successful\", and \"failed\".\n",
    "- Merge tables on kick_data ['city', state_loc, country_loc]\n"
   ]
  },
  {
   "cell_type": "code",
   "execution_count": 4,
   "metadata": {},
   "outputs": [
    {
     "name": "stderr",
     "output_type": "stream",
     "text": [
      "/anaconda3/lib/python3.7/site-packages/IPython/core/interactiveshell.py:3049: DtypeWarning: Columns (11,15,16,17,21) have mixed types. Specify dtype option on import or set low_memory=False.\n",
      "  interactivity=interactivity, compiler=compiler, result=result)\n"
     ]
    }
   ],
   "source": [
    "kick_data = pd.read_csv('../../data/02_intermediate/kick_inter.csv')\n",
    "world = pd.read_csv('../../data/01_raw/worldcities.csv')"
   ]
  },
  {
   "cell_type": "code",
   "execution_count": 20,
   "metadata": {},
   "outputs": [],
   "source": [
    "UScities = pd.read_csv('../../data/01_raw/uscitiesv1.5.csv')"
   ]
  },
  {
   "cell_type": "markdown",
   "metadata": {},
   "source": [
    "From \"world\" - I want to keep 'lat', 'lng', 'city_ascii', 'country', 'iso2'"
   ]
  },
  {
   "cell_type": "code",
   "execution_count": 6,
   "metadata": {},
   "outputs": [],
   "source": [
    "world.drop(columns = ['iso3', 'admin_name', 'capital', 'population', 'id', 'city'], inplace=True)"
   ]
  },
  {
   "cell_type": "code",
   "execution_count": 23,
   "metadata": {},
   "outputs": [],
   "source": [
    "kick_data.head()\n",
    "world.loc[(world.iso2 == 'US')]\n",
    "UScities.drop(columns = ['county_name', 'zips', 'population', 'population_proper', \n",
    "                         'id', 'city', 'density', 'source', 'timezone', 'incorporated', 'zips', 'county_fips'], inplace=True)"
   ]
  },
  {
   "cell_type": "code",
   "execution_count": 28,
   "metadata": {},
   "outputs": [
    {
     "data": {
      "text/plain": [
       "Index(['city_ascii', 'lat', 'lng', 'country', 'iso2'], dtype='object')"
      ]
     },
     "execution_count": 28,
     "metadata": {},
     "output_type": "execute_result"
    }
   ],
   "source": [
    "world.columns"
   ]
  },
  {
   "cell_type": "code",
   "execution_count": 8,
   "metadata": {},
   "outputs": [],
   "source": [
    "drop = ['blurb', 'converted_pledged_amount',\n",
    "       'created_at', 'currency', 'currency_symbol', 'currency_trailing_code',\n",
    "       'current_currency', 'deadline', 'disable_communication', 'friends',\n",
    "       'fx_rate', 'is_backing', 'is_starrable', 'is_starred',\n",
    "       'last_update_published_at', 'launched_at', 'permissions',\n",
    "       'pledged', 'slug', 'source_url', 'spotlight', 'staff_pick',\n",
    "       'state_changed_at', 'static_usd_rate', 'unread_messages_count',\n",
    "       'unseen_activity_count', 'usd_pledged', 'usd_type',\n",
    "       'creator_name', 'creator_slug', 'country']"
   ]
  },
  {
   "cell_type": "code",
   "execution_count": 10,
   "metadata": {},
   "outputs": [],
   "source": [
    "kick_data.drop(columns = drop, inplace = True)"
   ]
  },
  {
   "cell_type": "code",
   "execution_count": 11,
   "metadata": {},
   "outputs": [],
   "source": [
    "plot_filter = ((kick_data.state == 'successful') | (kick_data.state == 'failed') | (kick_data.state == 'live'))\n",
    "kick_to_plot = kick_data.loc[plot_filter]"
   ]
  },
  {
   "cell_type": "markdown",
   "metadata": {},
   "source": [
    "Kick_to_plot has 314399 rows. Of which, 124793 do not have a value for city. That leaves 189606 to potentially be renderded on the map."
   ]
  },
  {
   "cell_type": "code",
   "execution_count": 27,
   "metadata": {},
   "outputs": [],
   "source": [
    "kick_to_map1 = kick_to_plot.merge(UScities[['city_ascii', 'state_id', 'lat', 'lng']], how='left', left_on=['city', 'state_loc'], right_on=['city_ascii', 'state_id'])\n"
   ]
  },
  {
   "cell_type": "code",
   "execution_count": 30,
   "metadata": {},
   "outputs": [
    {
     "data": {
      "text/html": [
       "<div>\n",
       "<style scoped>\n",
       "    .dataframe tbody tr th:only-of-type {\n",
       "        vertical-align: middle;\n",
       "    }\n",
       "\n",
       "    .dataframe tbody tr th {\n",
       "        vertical-align: top;\n",
       "    }\n",
       "\n",
       "    .dataframe thead th {\n",
       "        text-align: right;\n",
       "    }\n",
       "</style>\n",
       "<table border=\"1\" class=\"dataframe\">\n",
       "  <thead>\n",
       "    <tr style=\"text-align: right;\">\n",
       "      <th></th>\n",
       "      <th>backers_count</th>\n",
       "      <th>goal</th>\n",
       "      <th>id</th>\n",
       "      <th>name</th>\n",
       "      <th>state</th>\n",
       "      <th>urls</th>\n",
       "      <th>sub_category</th>\n",
       "      <th>overall_category</th>\n",
       "      <th>city</th>\n",
       "      <th>country_loc</th>\n",
       "      <th>state_loc</th>\n",
       "      <th>city_ascii</th>\n",
       "      <th>state_id</th>\n",
       "      <th>lat</th>\n",
       "      <th>lng</th>\n",
       "    </tr>\n",
       "  </thead>\n",
       "  <tbody>\n",
       "    <tr>\n",
       "      <th>0</th>\n",
       "      <td>1</td>\n",
       "      <td>1500.0</td>\n",
       "      <td>654869661</td>\n",
       "      <td>Josiah Gennell: Creating First EP</td>\n",
       "      <td>live</td>\n",
       "      <td>{\"web\":{\"project\":\"https://www.kickstarter.com...</td>\n",
       "      <td>Indie Rock</td>\n",
       "      <td>music/indie rock</td>\n",
       "      <td>Methuen</td>\n",
       "      <td>US</td>\n",
       "      <td>MA</td>\n",
       "      <td>Methuen</td>\n",
       "      <td>MA</td>\n",
       "      <td>42.7340</td>\n",
       "      <td>-71.1889</td>\n",
       "    </tr>\n",
       "    <tr>\n",
       "      <th>1</th>\n",
       "      <td>0</td>\n",
       "      <td>5000.0</td>\n",
       "      <td>1290757180</td>\n",
       "      <td>Giuliano Clothing: Modern Fashion</td>\n",
       "      <td>live</td>\n",
       "      <td>{\"web\":{\"project\":\"https://www.kickstarter.com...</td>\n",
       "      <td>Fashion</td>\n",
       "      <td>fashion</td>\n",
       "      <td>Toronto</td>\n",
       "      <td>CA</td>\n",
       "      <td>ON</td>\n",
       "      <td>NaN</td>\n",
       "      <td>NaN</td>\n",
       "      <td>NaN</td>\n",
       "      <td>NaN</td>\n",
       "    </tr>\n",
       "    <tr>\n",
       "      <th>2</th>\n",
       "      <td>1</td>\n",
       "      <td>4000.0</td>\n",
       "      <td>1747360837</td>\n",
       "      <td>CincyPet Magazine</td>\n",
       "      <td>live</td>\n",
       "      <td>{\"web\":{\"project\":\"https://www.kickstarter.com...</td>\n",
       "      <td>Periodicals</td>\n",
       "      <td>publishing/periodicals</td>\n",
       "      <td>Cincinnati</td>\n",
       "      <td>US</td>\n",
       "      <td>OH</td>\n",
       "      <td>Cincinnati</td>\n",
       "      <td>OH</td>\n",
       "      <td>39.1412</td>\n",
       "      <td>-84.5059</td>\n",
       "    </tr>\n",
       "    <tr>\n",
       "      <th>3</th>\n",
       "      <td>4</td>\n",
       "      <td>370.0</td>\n",
       "      <td>592255111</td>\n",
       "      <td>Bad-ass Women Enamel Pins</td>\n",
       "      <td>live</td>\n",
       "      <td>{\"web\":{\"project\":\"https://www.kickstarter.com...</td>\n",
       "      <td>Art</td>\n",
       "      <td>art</td>\n",
       "      <td>Dallas</td>\n",
       "      <td>US</td>\n",
       "      <td>TX</td>\n",
       "      <td>Dallas</td>\n",
       "      <td>TX</td>\n",
       "      <td>32.7937</td>\n",
       "      <td>-96.7662</td>\n",
       "    </tr>\n",
       "    <tr>\n",
       "      <th>4</th>\n",
       "      <td>1</td>\n",
       "      <td>10000.0</td>\n",
       "      <td>1561837546</td>\n",
       "      <td>Creative Craft Kits</td>\n",
       "      <td>live</td>\n",
       "      <td>{\"web\":{\"project\":\"https://www.kickstarter.com...</td>\n",
       "      <td>Crafts</td>\n",
       "      <td>crafts</td>\n",
       "      <td>La Mesa</td>\n",
       "      <td>US</td>\n",
       "      <td>CA</td>\n",
       "      <td>La Mesa</td>\n",
       "      <td>CA</td>\n",
       "      <td>32.7703</td>\n",
       "      <td>-117.0204</td>\n",
       "    </tr>\n",
       "  </tbody>\n",
       "</table>\n",
       "</div>"
      ],
      "text/plain": [
       "   backers_count     goal          id                               name  \\\n",
       "0              1   1500.0   654869661  Josiah Gennell: Creating First EP   \n",
       "1              0   5000.0  1290757180  Giuliano Clothing: Modern Fashion   \n",
       "2              1   4000.0  1747360837                  CincyPet Magazine   \n",
       "3              4    370.0   592255111          Bad-ass Women Enamel Pins   \n",
       "4              1  10000.0  1561837546                Creative Craft Kits   \n",
       "\n",
       "  state                                               urls sub_category  \\\n",
       "0  live  {\"web\":{\"project\":\"https://www.kickstarter.com...   Indie Rock   \n",
       "1  live  {\"web\":{\"project\":\"https://www.kickstarter.com...      Fashion   \n",
       "2  live  {\"web\":{\"project\":\"https://www.kickstarter.com...  Periodicals   \n",
       "3  live  {\"web\":{\"project\":\"https://www.kickstarter.com...          Art   \n",
       "4  live  {\"web\":{\"project\":\"https://www.kickstarter.com...       Crafts   \n",
       "\n",
       "         overall_category        city country_loc state_loc  city_ascii  \\\n",
       "0        music/indie rock     Methuen          US        MA     Methuen   \n",
       "1                 fashion     Toronto          CA        ON         NaN   \n",
       "2  publishing/periodicals  Cincinnati          US        OH  Cincinnati   \n",
       "3                     art      Dallas          US        TX      Dallas   \n",
       "4                  crafts     La Mesa          US        CA     La Mesa   \n",
       "\n",
       "  state_id      lat       lng  \n",
       "0       MA  42.7340  -71.1889  \n",
       "1      NaN      NaN       NaN  \n",
       "2       OH  39.1412  -84.5059  \n",
       "3       TX  32.7937  -96.7662  \n",
       "4       CA  32.7703 -117.0204  "
      ]
     },
     "execution_count": 30,
     "metadata": {},
     "output_type": "execute_result"
    }
   ],
   "source": [
    "kick_to_map1.head()"
   ]
  },
  {
   "cell_type": "markdown",
   "metadata": {},
   "source": [
    "It worked! No extra rows added this time! kick_to_map1.shape = (314399, 15)\n",
    "We also have 190495 null values in Lat/Lng. Let's see if we can get that down.\n",
    "\n",
    "Merging magic got my number of lat/lng nulls down to 145738. Exceptable to move forward with mapping. Going to remove anything else that's null at this point. "
   ]
  },
  {
   "cell_type": "code",
   "execution_count": 34,
   "metadata": {},
   "outputs": [],
   "source": [
    "kick_to_map2 = kick_to_map1.merge(world[['city_ascii', 'lat', 'lng','iso2']],  how=\"left\", left_on=['city','country_loc'], right_on=['city_ascii', 'iso2'])"
   ]
  },
  {
   "cell_type": "code",
   "execution_count": 45,
   "metadata": {},
   "outputs": [
    {
     "data": {
      "text/plain": [
       "Index(['backers_count', 'goal', 'id', 'name', 'state', 'urls', 'sub_category',\n",
       "       'overall_category', 'city', 'country_loc', 'state_loc', 'city_ascii_x',\n",
       "       'state_id', 'lat_x', 'lng_x', 'city_ascii_y', 'lat_y', 'lng_y', 'iso2',\n",
       "       'lat', 'lng'],\n",
       "      dtype='object')"
      ]
     },
     "execution_count": 45,
     "metadata": {},
     "output_type": "execute_result"
    }
   ],
   "source": [
    "kick_to_map2.columns\n"
   ]
  },
  {
   "cell_type": "code",
   "execution_count": 40,
   "metadata": {},
   "outputs": [
    {
     "data": {
      "text/plain": [
       "151642"
      ]
     },
     "execution_count": 40,
     "metadata": {},
     "output_type": "execute_result"
    }
   ],
   "source": [
    "kick_to_map2.lat_y.isna().sum()"
   ]
  },
  {
   "cell_type": "code",
   "execution_count": 41,
   "metadata": {},
   "outputs": [],
   "source": [
    "kick_to_map2['lat'] = kick_to_map2['lat_x'].fillna(kick_to_map2['lat_y'])\n",
    "kick_to_map2['lng'] = kick_to_map2['lng_x'].fillna(kick_to_map2['lng_y'])"
   ]
  },
  {
   "cell_type": "code",
   "execution_count": 46,
   "metadata": {},
   "outputs": [],
   "source": [
    "kick_to_map2.drop(columns=['city_ascii_x','state_id', \n",
    "                           'lat_x', 'lng_x', 'city_ascii_y', \n",
    "                           'lat_y', 'lng_y', 'iso2'], inplace = True)"
   ]
  },
  {
   "cell_type": "code",
   "execution_count": 51,
   "metadata": {},
   "outputs": [],
   "source": [
    "kick_to_map2.dropna(subset=['lat', 'lng'], inplace=True)"
   ]
  },
  {
   "cell_type": "code",
   "execution_count": 54,
   "metadata": {},
   "outputs": [
    {
     "data": {
      "text/plain": [
       "(275048, 13)"
      ]
     },
     "execution_count": 54,
     "metadata": {},
     "output_type": "execute_result"
    }
   ],
   "source": [
    "kick_to_map2.shape"
   ]
  },
  {
   "cell_type": "code",
   "execution_count": 55,
   "metadata": {},
   "outputs": [],
   "source": [
    "kick_to_map2.to_pickle('../../data/02_intermediate/kick_World_map.pkl')"
   ]
  },
  {
   "cell_type": "code",
   "execution_count": null,
   "metadata": {},
   "outputs": [],
   "source": []
  }
 ],
 "metadata": {
  "kernelspec": {
   "display_name": "Python 3",
   "language": "python",
   "name": "python3"
  },
  "language_info": {
   "codemirror_mode": {
    "name": "ipython",
    "version": 3
   },
   "file_extension": ".py",
   "mimetype": "text/x-python",
   "name": "python",
   "nbconvert_exporter": "python",
   "pygments_lexer": "ipython3",
   "version": "3.7.3"
  }
 },
 "nbformat": 4,
 "nbformat_minor": 2
}
