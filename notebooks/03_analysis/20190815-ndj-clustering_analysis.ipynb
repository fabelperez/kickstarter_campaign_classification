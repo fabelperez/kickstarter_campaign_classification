{
 "cells": [
  {
   "cell_type": "code",
   "execution_count": 1,
   "metadata": {},
   "outputs": [],
   "source": [
    "import pandas as pd"
   ]
  },
  {
   "cell_type": "code",
   "execution_count": 2,
   "metadata": {},
   "outputs": [],
   "source": [
    "clean_df = pd.read_pickle('../../data/03_processed/kick_proc.pkl')"
   ]
  },
  {
   "cell_type": "code",
   "execution_count": 3,
   "metadata": {},
   "outputs": [
    {
     "data": {
      "text/html": [
       "<div>\n",
       "<style scoped>\n",
       "    .dataframe tbody tr th:only-of-type {\n",
       "        vertical-align: middle;\n",
       "    }\n",
       "\n",
       "    .dataframe tbody tr th {\n",
       "        vertical-align: top;\n",
       "    }\n",
       "\n",
       "    .dataframe thead th {\n",
       "        text-align: right;\n",
       "    }\n",
       "</style>\n",
       "<table border=\"1\" class=\"dataframe\">\n",
       "  <thead>\n",
       "    <tr style=\"text-align: right;\">\n",
       "      <th></th>\n",
       "      <th>currency</th>\n",
       "      <th>goal_original</th>\n",
       "      <th>category</th>\n",
       "      <th>country</th>\n",
       "      <th>blurb_word_count</th>\n",
       "      <th>campaign_length</th>\n",
       "      <th>delta_created_launched</th>\n",
       "      <th>goal_usd</th>\n",
       "      <th>target_dummy</th>\n",
       "    </tr>\n",
       "  </thead>\n",
       "  <tbody>\n",
       "    <tr>\n",
       "      <th>0</th>\n",
       "      <td>USD</td>\n",
       "      <td>499.0</td>\n",
       "      <td>Comic Books</td>\n",
       "      <td>US</td>\n",
       "      <td>15.0</td>\n",
       "      <td>5</td>\n",
       "      <td>0</td>\n",
       "      <td>499.00000</td>\n",
       "      <td>1</td>\n",
       "    </tr>\n",
       "    <tr>\n",
       "      <th>1</th>\n",
       "      <td>AUD</td>\n",
       "      <td>500.0</td>\n",
       "      <td>Metal</td>\n",
       "      <td>AU</td>\n",
       "      <td>25.0</td>\n",
       "      <td>7</td>\n",
       "      <td>0</td>\n",
       "      <td>350.49251</td>\n",
       "      <td>0</td>\n",
       "    </tr>\n",
       "    <tr>\n",
       "      <th>2</th>\n",
       "      <td>USD</td>\n",
       "      <td>1500.0</td>\n",
       "      <td>Tabletop Games</td>\n",
       "      <td>US</td>\n",
       "      <td>11.0</td>\n",
       "      <td>7</td>\n",
       "      <td>2</td>\n",
       "      <td>1500.00000</td>\n",
       "      <td>1</td>\n",
       "    </tr>\n",
       "    <tr>\n",
       "      <th>3</th>\n",
       "      <td>USD</td>\n",
       "      <td>5000.0</td>\n",
       "      <td>Anthologies</td>\n",
       "      <td>US</td>\n",
       "      <td>7.0</td>\n",
       "      <td>7</td>\n",
       "      <td>1</td>\n",
       "      <td>5000.00000</td>\n",
       "      <td>0</td>\n",
       "    </tr>\n",
       "    <tr>\n",
       "      <th>4</th>\n",
       "      <td>USD</td>\n",
       "      <td>150.0</td>\n",
       "      <td>Metal</td>\n",
       "      <td>US</td>\n",
       "      <td>4.0</td>\n",
       "      <td>11</td>\n",
       "      <td>0</td>\n",
       "      <td>150.00000</td>\n",
       "      <td>1</td>\n",
       "    </tr>\n",
       "  </tbody>\n",
       "</table>\n",
       "</div>"
      ],
      "text/plain": [
       "  currency  goal_original        category country  blurb_word_count  \\\n",
       "0      USD          499.0     Comic Books      US              15.0   \n",
       "1      AUD          500.0           Metal      AU              25.0   \n",
       "2      USD         1500.0  Tabletop Games      US              11.0   \n",
       "3      USD         5000.0     Anthologies      US               7.0   \n",
       "4      USD          150.0           Metal      US               4.0   \n",
       "\n",
       "   campaign_length  delta_created_launched    goal_usd  target_dummy  \n",
       "0                5                       0   499.00000             1  \n",
       "1                7                       0   350.49251             0  \n",
       "2                7                       2  1500.00000             1  \n",
       "3                7                       1  5000.00000             0  \n",
       "4               11                       0   150.00000             1  "
      ]
     },
     "execution_count": 3,
     "metadata": {},
     "output_type": "execute_result"
    }
   ],
   "source": [
    "clean_df.head()"
   ]
  },
  {
   "cell_type": "code",
   "execution_count": null,
   "metadata": {},
   "outputs": [],
   "source": []
  }
 ],
 "metadata": {
  "kernelspec": {
   "display_name": "Python 3",
   "language": "python",
   "name": "python3"
  },
  "language_info": {
   "codemirror_mode": {
    "name": "ipython",
    "version": 3
   },
   "file_extension": ".py",
   "mimetype": "text/x-python",
   "name": "python",
   "nbconvert_exporter": "python",
   "pygments_lexer": "ipython3",
   "version": "3.7.3"
  }
 },
 "nbformat": 4,
 "nbformat_minor": 2
}
