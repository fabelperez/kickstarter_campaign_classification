{
 "cells": [
  {
   "cell_type": "code",
   "execution_count": 9,
   "metadata": {},
   "outputs": [],
   "source": [
    "import pandas as pd\n",
    "import numpy as np\n",
    "np.random.seed(0)\n",
    "import matplotlib.pyplot as plt\n",
    "import pickle\n",
    "from sklearn.cluster import KMeans, AgglomerativeClustering\n",
    "from sklearn.metrics.cluster import calinski_harabaz_score, adjusted_rand_score\n",
    "from sklearn.preprocessing import StandardScaler\n",
    "from sklearn.decomposition import PCA\n",
    "%matplotlib inline\n"
   ]
  },
  {
   "cell_type": "code",
   "execution_count": 13,
   "metadata": {},
   "outputs": [],
   "source": [
    "kick_proc = pd.read_pickle('../../data/03_processed/kick_proc.pkl')\n",
    "kick_proc.head()"
   ]
  },
  {
   "cell_type": "code",
   "execution_count": 15,
   "metadata": {},
   "outputs": [],
   "source": [
    "y = kick_proc['successful_dummy']\n",
    "df_no_y = kick_proc.drop('successful_dummy', axis=1)\n",
    "X = pd.get_dummies(df_no_y)"
   ]
  },
  {
   "cell_type": "code",
   "execution_count": 14,
   "metadata": {
    "scrolled": true
   },
   "outputs": [
    {
     "data": {
      "text/html": [
       "<div>\n",
       "<style scoped>\n",
       "    .dataframe tbody tr th:only-of-type {\n",
       "        vertical-align: middle;\n",
       "    }\n",
       "\n",
       "    .dataframe tbody tr th {\n",
       "        vertical-align: top;\n",
       "    }\n",
       "\n",
       "    .dataframe thead th {\n",
       "        text-align: right;\n",
       "    }\n",
       "</style>\n",
       "<table border=\"1\" class=\"dataframe\">\n",
       "  <thead>\n",
       "    <tr style=\"text-align: right;\">\n",
       "      <th></th>\n",
       "      <th>currency</th>\n",
       "      <th>goal_original</th>\n",
       "      <th>category</th>\n",
       "      <th>country</th>\n",
       "      <th>blurb_word_count</th>\n",
       "      <th>campaign_length</th>\n",
       "      <th>delta_created_launched</th>\n",
       "      <th>goal_usd</th>\n",
       "      <th>successful_dummy</th>\n",
       "      <th>world_regions</th>\n",
       "    </tr>\n",
       "  </thead>\n",
       "  <tbody>\n",
       "    <tr>\n",
       "      <th>0</th>\n",
       "      <td>USD</td>\n",
       "      <td>499.0</td>\n",
       "      <td>Comic Books</td>\n",
       "      <td>US</td>\n",
       "      <td>15.0</td>\n",
       "      <td>5</td>\n",
       "      <td>0</td>\n",
       "      <td>499.00000</td>\n",
       "      <td>1</td>\n",
       "      <td>Northern America</td>\n",
       "    </tr>\n",
       "    <tr>\n",
       "      <th>1</th>\n",
       "      <td>AUD</td>\n",
       "      <td>500.0</td>\n",
       "      <td>Metal</td>\n",
       "      <td>AU</td>\n",
       "      <td>25.0</td>\n",
       "      <td>7</td>\n",
       "      <td>0</td>\n",
       "      <td>350.49251</td>\n",
       "      <td>0</td>\n",
       "      <td>Australia and New Zealand</td>\n",
       "    </tr>\n",
       "    <tr>\n",
       "      <th>2</th>\n",
       "      <td>USD</td>\n",
       "      <td>1500.0</td>\n",
       "      <td>Tabletop Games</td>\n",
       "      <td>US</td>\n",
       "      <td>11.0</td>\n",
       "      <td>7</td>\n",
       "      <td>2</td>\n",
       "      <td>1500.00000</td>\n",
       "      <td>1</td>\n",
       "      <td>Northern America</td>\n",
       "    </tr>\n",
       "    <tr>\n",
       "      <th>3</th>\n",
       "      <td>USD</td>\n",
       "      <td>5000.0</td>\n",
       "      <td>Anthologies</td>\n",
       "      <td>US</td>\n",
       "      <td>7.0</td>\n",
       "      <td>7</td>\n",
       "      <td>1</td>\n",
       "      <td>5000.00000</td>\n",
       "      <td>0</td>\n",
       "      <td>Northern America</td>\n",
       "    </tr>\n",
       "    <tr>\n",
       "      <th>4</th>\n",
       "      <td>USD</td>\n",
       "      <td>150.0</td>\n",
       "      <td>Metal</td>\n",
       "      <td>US</td>\n",
       "      <td>4.0</td>\n",
       "      <td>11</td>\n",
       "      <td>0</td>\n",
       "      <td>150.00000</td>\n",
       "      <td>1</td>\n",
       "      <td>Northern America</td>\n",
       "    </tr>\n",
       "  </tbody>\n",
       "</table>\n",
       "</div>"
      ],
      "text/plain": [
       "  currency  goal_original        category country  blurb_word_count  \\\n",
       "0      USD          499.0     Comic Books      US              15.0   \n",
       "1      AUD          500.0           Metal      AU              25.0   \n",
       "2      USD         1500.0  Tabletop Games      US              11.0   \n",
       "3      USD         5000.0     Anthologies      US               7.0   \n",
       "4      USD          150.0           Metal      US               4.0   \n",
       "\n",
       "   campaign_length  delta_created_launched    goal_usd  successful_dummy  \\\n",
       "0                5                       0   499.00000                 1   \n",
       "1                7                       0   350.49251                 0   \n",
       "2                7                       2  1500.00000                 1   \n",
       "3                7                       1  5000.00000                 0   \n",
       "4               11                       0   150.00000                 1   \n",
       "\n",
       "               world_regions  \n",
       "0           Northern America  \n",
       "1  Australia and New Zealand  \n",
       "2           Northern America  \n",
       "3           Northern America  \n",
       "4           Northern America  "
      ]
     },
     "execution_count": 14,
     "metadata": {},
     "output_type": "execute_result"
    }
   ],
   "source": [
    "X_train, X_test, y_train, y_test = train_test_split(X, y, stratify=y)"
   ]
  },
  {
   "cell_type": "markdown",
   "metadata": {},
   "source": [
    "We turned segmented \"Country\" into global region "
   ]
  },
  {
   "cell_type": "markdown",
   "metadata": {},
   "source": [
    "### Interpretation of KMeans vs Agglom Clustering Results?"
   ]
  },
  {
   "cell_type": "code",
   "execution_count": null,
   "metadata": {},
   "outputs": [],
   "source": [
    "## Would having two clusters here be like asking for a prediction on whether the project \n",
    "## was a success or not? If so, then we'd feed in the test data and see how well it did at \n",
    "## predicting? \n",
    "\n",
    "\n",
    "k_means = KMeans(n_clusters = 2)\n",
    "k_means.fit(X)\n",
    "cluster_preds = k_means.predict(clean_df)\n",
    "\n",
    "#want dummies, and scale non-dummied data\n",
    "# not giving \n",
    "\n",
    "I've described a classifation "
   ]
  },
  {
   "cell_type": "code",
   "execution_count": null,
   "metadata": {},
   "outputs": [],
   "source": [
    "## The point of PCA "
   ]
  },
  {
   "cell_type": "code",
   "execution_count": null,
   "metadata": {},
   "outputs": [],
   "source": []
  },
  {
   "cell_type": "code",
   "execution_count": null,
   "metadata": {},
   "outputs": [],
   "source": []
  }
 ],
 "metadata": {
  "kernelspec": {
   "display_name": "Python 3",
   "language": "python",
   "name": "python3"
  },
  "language_info": {
   "codemirror_mode": {
    "name": "ipython",
    "version": 3
   },
   "file_extension": ".py",
   "mimetype": "text/x-python",
   "name": "python",
   "nbconvert_exporter": "python",
   "pygments_lexer": "ipython3",
   "version": "3.7.3"
  }
 },
 "nbformat": 4,
 "nbformat_minor": 2
}
